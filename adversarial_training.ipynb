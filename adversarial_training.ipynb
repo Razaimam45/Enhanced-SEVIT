{
 "cells": [
  {
   "cell_type": "code",
   "execution_count": null,
   "metadata": {},
   "outputs": [],
   "source": [
    "# Creating Adverarial training dataset for FGSM Attack\n",
    "\n",
    "# import os\n",
    "# from shutil import copyfile\n",
    "\n",
    "# original_data_path = 'data/TB_data'\n",
    "# adversarial_data_path = 'attack_images/Test_attacks_FGSM'\n",
    "# concatenated_data_path = 'adv_data/TB_adversarial_data'\n",
    "\n",
    "# if not os.path.exists(concatenated_data_path):\n",
    "#     os.makedirs(concatenated_data_path)\n",
    "\n",
    "# classes = ['Normal', 'Tuberculosis']\n",
    "# sets = ['training', 'testing', 'validation']\n",
    "\n",
    "# for set_name in sets:\n",
    "#     for class_name in classes:\n",
    "#         original_folder_path = os.path.join(original_data_path, set_name, class_name)\n",
    "#         concatenated_folder_path = os.path.join(concatenated_data_path, set_name, class_name)\n",
    "        \n",
    "#         if not os.path.exists(concatenated_folder_path):\n",
    "#             os.makedirs(concatenated_folder_path)\n",
    "        \n",
    "#         # Copy original files\n",
    "#         for file_name in os.listdir(original_folder_path):\n",
    "#             src = os.path.join(original_folder_path, file_name)\n",
    "#             dst = os.path.join(concatenated_folder_path, file_name)\n",
    "#             copyfile(src, dst)\n",
    "        \n",
    "#         # Copy adversarial files to train set only\n",
    "#         if set_name == 'training':\n",
    "#             adversarial_folder_path = os.path.join(adversarial_data_path, class_name)\n",
    "#             for file_name in os.listdir(adversarial_folder_path):\n",
    "#                 src = os.path.join(adversarial_folder_path, file_name)\n",
    "#                 dst = os.path.join(concatenated_folder_path, file_name)\n",
    "#                 copyfile(src, dst)\n"
   ]
  },
  {
   "cell_type": "code",
   "execution_count": 2,
   "metadata": {},
   "outputs": [],
   "source": [
    "# # Creating Adverarial training dataset for all Attacks\n",
    "# import os\n",
    "# from shutil import copyfile\n",
    "\n",
    "# original_data_path = 'data/TB_data'\n",
    "# attack_data_path = 'attack_images'\n",
    "# concatenated_data_path = 'adv_data/TB_adversarial_data_all'\n",
    "\n",
    "# if not os.path.exists(concatenated_data_path):\n",
    "#     os.makedirs(concatenated_data_path)\n",
    "\n",
    "# classes = ['Normal', 'Tuberculosis']\n",
    "# sets = ['training', 'testing', 'validation']\n",
    "# attack_folders = [folder for folder in os.listdir(attack_data_path) if folder.startswith('Test_attacks_')]\n",
    "\n",
    "# for set_name in sets:\n",
    "#     for class_name in classes:\n",
    "#         original_folder_path = os.path.join(original_data_path, set_name, class_name)\n",
    "#         concatenated_folder_path = os.path.join(concatenated_data_path, set_name, class_name)\n",
    "\n",
    "#         if not os.path.exists(concatenated_folder_path):\n",
    "#             os.makedirs(concatenated_folder_path)\n",
    "\n",
    "#         # Copy original files\n",
    "#         for file_name in os.listdir(original_folder_path):\n",
    "#             src = os.path.join(original_folder_path, file_name)\n",
    "#             dst = os.path.join(concatenated_folder_path, file_name)\n",
    "#             copyfile(src, dst)\n",
    "\n",
    "#         # Copy adversarial files to train set only\n",
    "#         if set_name == 'training':\n",
    "#             for attack_folder in attack_folders:\n",
    "#                 adversarial_folder_path = os.path.join(attack_data_path, attack_folder, class_name)\n",
    "#                 for file_name in os.listdir(adversarial_folder_path):\n",
    "#                     src = os.path.join(adversarial_folder_path, file_name)\n",
    "#                     dst = os.path.join(concatenated_folder_path, file_name)\n",
    "#                     copyfile(src, dst)"
   ]
  },
  {
   "cell_type": "code",
   "execution_count": 4,
   "metadata": {},
   "outputs": [],
   "source": [
    "# import functions\n",
    "# import predictions\n",
    "# from predictions import Prediction\n",
    "# from features import Features\n",
    "import mlp\n",
    "from mlp import Classifier\n",
    "from data import dataset as data\n",
    "# import attacks\n",
    "import torch\n",
    "import pandas as pd\n",
    "import numpy as np\n",
    "import torch.nn as nn \n",
    "import matplotlib.pyplot as plt\n",
    "import torch.nn.functional as F\n",
    "import seaborn as sns \n",
    "import random\n",
    "import pickle\n",
    "import torch \n",
    "from sklearn.metrics import auc\n",
    "from autoattack import AutoAttack\n",
    "from torchvision.utils import save_image\n",
    "import math\n",
    "from matplotlib.backends.backend_pdf import PdfPages\n",
    "# import train_model\n",
    "import os\n",
    "# from ensemble_whitebox import New\n",
    "import timm \n",
    "import torchsummary\n",
    "import sys\n",
    "import torch.optim as optim\n",
    "from torch.optim.lr_scheduler import StepLR\n",
    "from tqdm import tqdm\n",
    "from torchsummary import summary\n",
    "import pickle\n",
    "\n",
    "def countParams(model):\n",
    "    total_params = sum(param.numel() for param in model.parameters())\n",
    "    trainable_params = sum(p.numel() for p in model.parameters() if p.requires_grad)\n",
    "    print(\"Total Params: \", total_params)\n",
    "    print(\"Trainable Params: \", trainable_params)"
   ]
  },
  {
   "cell_type": "code",
   "execution_count": 5,
   "metadata": {},
   "outputs": [
    {
     "name": "stdout",
     "output_type": "stream",
     "text": [
      "['number of train images is 10500', 'number of valid images is 630', 'number of test images is 700']\n",
      "Classes with index are: {'Normal': 0, 'Tuberculosis': 1}\n",
      "['Normal', 'Tuberculosis']\n"
     ]
    }
   ],
   "source": [
    "root_dir = \"adv_data/TB_adversarial_data\"\n",
    "data_loader, image_dataset = data.data_loader(root_dir=root_dir, batch_size= 30)"
   ]
  },
  {
   "attachments": {},
   "cell_type": "markdown",
   "metadata": {},
   "source": [
    "# 1. Training mlp modules"
   ]
  },
  {
   "cell_type": "code",
   "execution_count": 3,
   "metadata": {},
   "outputs": [
    {
     "name": "stdout",
     "output_type": "stream",
     "text": [
      "['number of train images is 6360', 'number of valid images is 630', 'number of test images is 700']\n",
      "Classes with index are: {'Normal': 0, 'Tuberculosis': 1}\n",
      "['Normal', 'Tuberculosis']\n",
      "Adjusting learning rate of group 0 to 1.0000e-03.\n",
      "Epoch 1/20\n"
     ]
    },
    {
     "name": "stderr",
     "output_type": "stream",
     "text": [
      "100%|██████████| 212/212 [00:30<00:00,  6.93it/s]\n"
     ]
    },
    {
     "name": "stdout",
     "output_type": "stream",
     "text": [
      "Adjusting learning rate of group 0 to 1.0000e-03.\n",
      "train_acc= 0.75\n",
      "train_loss = 5.23\n",
      "Epoch 2/20\n"
     ]
    },
    {
     "name": "stderr",
     "output_type": "stream",
     "text": [
      "100%|██████████| 212/212 [00:30<00:00,  6.93it/s]\n"
     ]
    },
    {
     "name": "stdout",
     "output_type": "stream",
     "text": [
      "Adjusting learning rate of group 0 to 1.0000e-03.\n",
      "train_acc= 0.83\n",
      "train_loss = 0.40\n",
      "Epoch 3/20\n"
     ]
    },
    {
     "name": "stderr",
     "output_type": "stream",
     "text": [
      "100%|██████████| 212/212 [00:30<00:00,  7.01it/s]\n"
     ]
    },
    {
     "name": "stdout",
     "output_type": "stream",
     "text": [
      "Adjusting learning rate of group 0 to 1.0000e-03.\n",
      "train_acc= 0.83\n",
      "train_loss = 0.42\n",
      "Epoch 4/20\n"
     ]
    },
    {
     "name": "stderr",
     "output_type": "stream",
     "text": [
      "100%|██████████| 212/212 [00:30<00:00,  6.97it/s]\n"
     ]
    },
    {
     "name": "stdout",
     "output_type": "stream",
     "text": [
      "Adjusting learning rate of group 0 to 1.0000e-03.\n",
      "train_acc= 0.85\n",
      "train_loss = 0.34\n",
      "Epoch 5/20\n"
     ]
    },
    {
     "name": "stderr",
     "output_type": "stream",
     "text": [
      "100%|██████████| 212/212 [00:30<00:00,  6.97it/s]\n"
     ]
    },
    {
     "name": "stdout",
     "output_type": "stream",
     "text": [
      "Adjusting learning rate of group 0 to 1.0000e-03.\n",
      "train_acc= 0.85\n",
      "train_loss = 0.34\n",
      "Epoch 6/20\n"
     ]
    },
    {
     "name": "stderr",
     "output_type": "stream",
     "text": [
      "100%|██████████| 212/212 [00:30<00:00,  6.94it/s]\n"
     ]
    },
    {
     "name": "stdout",
     "output_type": "stream",
     "text": [
      "Adjusting learning rate of group 0 to 1.0000e-03.\n",
      "train_acc= 0.85\n",
      "train_loss = 0.34\n",
      "Epoch 7/20\n"
     ]
    },
    {
     "name": "stderr",
     "output_type": "stream",
     "text": [
      "100%|██████████| 212/212 [00:30<00:00,  6.97it/s]\n"
     ]
    },
    {
     "name": "stdout",
     "output_type": "stream",
     "text": [
      "Adjusting learning rate of group 0 to 1.0000e-03.\n",
      "train_acc= 0.86\n",
      "train_loss = 0.33\n",
      "Epoch 8/20\n"
     ]
    },
    {
     "name": "stderr",
     "output_type": "stream",
     "text": [
      "100%|██████████| 212/212 [00:30<00:00,  6.96it/s]\n"
     ]
    },
    {
     "name": "stdout",
     "output_type": "stream",
     "text": [
      "Adjusting learning rate of group 0 to 1.0000e-03.\n",
      "train_acc= 0.85\n",
      "train_loss = 0.35\n",
      "Epoch 9/20\n"
     ]
    },
    {
     "name": "stderr",
     "output_type": "stream",
     "text": [
      "100%|██████████| 212/212 [00:30<00:00,  6.87it/s]\n"
     ]
    },
    {
     "name": "stdout",
     "output_type": "stream",
     "text": [
      "Adjusting learning rate of group 0 to 1.0000e-03.\n",
      "train_acc= 0.84\n",
      "train_loss = 0.37\n",
      "Epoch 10/20\n"
     ]
    },
    {
     "name": "stderr",
     "output_type": "stream",
     "text": [
      "100%|██████████| 212/212 [00:30<00:00,  6.95it/s]\n"
     ]
    },
    {
     "name": "stdout",
     "output_type": "stream",
     "text": [
      "Adjusting learning rate of group 0 to 1.0000e-03.\n",
      "train_acc= 0.86\n",
      "train_loss = 0.33\n",
      "Epoch 11/20\n"
     ]
    },
    {
     "name": "stderr",
     "output_type": "stream",
     "text": [
      "100%|██████████| 212/212 [00:30<00:00,  6.94it/s]\n"
     ]
    },
    {
     "name": "stdout",
     "output_type": "stream",
     "text": [
      "Adjusting learning rate of group 0 to 1.0000e-03.\n",
      "train_acc= 0.86\n",
      "train_loss = 0.32\n",
      "Epoch 12/20\n"
     ]
    },
    {
     "name": "stderr",
     "output_type": "stream",
     "text": [
      "100%|██████████| 212/212 [00:30<00:00,  6.95it/s]\n"
     ]
    },
    {
     "name": "stdout",
     "output_type": "stream",
     "text": [
      "Adjusting learning rate of group 0 to 1.0000e-03.\n",
      "train_acc= 0.86\n",
      "train_loss = 0.32\n",
      "Epoch 13/20\n"
     ]
    },
    {
     "name": "stderr",
     "output_type": "stream",
     "text": [
      "100%|██████████| 212/212 [00:30<00:00,  6.96it/s]\n"
     ]
    },
    {
     "name": "stdout",
     "output_type": "stream",
     "text": [
      "Adjusting learning rate of group 0 to 1.0000e-03.\n",
      "train_acc= 0.87\n",
      "train_loss = 0.31\n",
      "Epoch 14/20\n"
     ]
    },
    {
     "name": "stderr",
     "output_type": "stream",
     "text": [
      "100%|██████████| 212/212 [00:30<00:00,  6.94it/s]\n"
     ]
    },
    {
     "name": "stdout",
     "output_type": "stream",
     "text": [
      "Adjusting learning rate of group 0 to 1.0000e-03.\n",
      "train_acc= 0.87\n",
      "train_loss = 0.30\n",
      "Epoch 15/20\n"
     ]
    },
    {
     "name": "stderr",
     "output_type": "stream",
     "text": [
      "100%|██████████| 212/212 [00:30<00:00,  6.97it/s]\n"
     ]
    },
    {
     "name": "stdout",
     "output_type": "stream",
     "text": [
      "Adjusting learning rate of group 0 to 1.0000e-04.\n",
      "train_acc= 0.87\n",
      "train_loss = 0.30\n",
      "Epoch 16/20\n"
     ]
    },
    {
     "name": "stderr",
     "output_type": "stream",
     "text": [
      "100%|██████████| 212/212 [00:30<00:00,  6.97it/s]\n"
     ]
    },
    {
     "name": "stdout",
     "output_type": "stream",
     "text": [
      "Adjusting learning rate of group 0 to 1.0000e-04.\n",
      "train_acc= 0.88\n",
      "train_loss = 0.27\n",
      "Epoch 17/20\n"
     ]
    },
    {
     "name": "stderr",
     "output_type": "stream",
     "text": [
      "100%|██████████| 212/212 [00:30<00:00,  6.94it/s]\n"
     ]
    },
    {
     "name": "stdout",
     "output_type": "stream",
     "text": [
      "Adjusting learning rate of group 0 to 1.0000e-04.\n",
      "train_acc= 0.88\n",
      "train_loss = 0.27\n",
      "Epoch 18/20\n"
     ]
    },
    {
     "name": "stderr",
     "output_type": "stream",
     "text": [
      "100%|██████████| 212/212 [00:30<00:00,  6.94it/s]\n"
     ]
    },
    {
     "name": "stdout",
     "output_type": "stream",
     "text": [
      "Adjusting learning rate of group 0 to 1.0000e-04.\n",
      "train_acc= 0.88\n",
      "train_loss = 0.27\n",
      "Epoch 19/20\n"
     ]
    },
    {
     "name": "stderr",
     "output_type": "stream",
     "text": [
      "100%|██████████| 212/212 [00:30<00:00,  6.94it/s]\n"
     ]
    },
    {
     "name": "stdout",
     "output_type": "stream",
     "text": [
      "Adjusting learning rate of group 0 to 1.0000e-04.\n",
      "train_acc= 0.88\n",
      "train_loss = 0.27\n",
      "Epoch 20/20\n"
     ]
    },
    {
     "name": "stderr",
     "output_type": "stream",
     "text": [
      "100%|██████████| 212/212 [00:30<00:00,  6.95it/s]\n"
     ]
    },
    {
     "name": "stdout",
     "output_type": "stream",
     "text": [
      "Adjusting learning rate of group 0 to 1.0000e-04.\n",
      "train_acc= 0.88\n",
      "train_loss = 0.27\n",
      "Testing\n"
     ]
    },
    {
     "name": "stderr",
     "output_type": "stream",
     "text": [
      "100%|██████████| 23/23 [00:01<00:00, 13.56it/s]\n"
     ]
    },
    {
     "name": "stdout",
     "output_type": "stream",
     "text": [
      "test_acc = 0.90\n",
      "test_loss = 0.22\n",
      "================= Block 0 Finished ==============\n",
      "Adjusting learning rate of group 0 to 1.0000e-03.\n",
      "Epoch 1/20\n"
     ]
    },
    {
     "name": "stderr",
     "output_type": "stream",
     "text": [
      "100%|██████████| 212/212 [00:32<00:00,  6.59it/s]\n"
     ]
    },
    {
     "name": "stdout",
     "output_type": "stream",
     "text": [
      "Adjusting learning rate of group 0 to 1.0000e-03.\n",
      "train_acc= 0.79\n",
      "train_loss = 5.60\n",
      "Epoch 2/20\n"
     ]
    },
    {
     "name": "stderr",
     "output_type": "stream",
     "text": [
      "100%|██████████| 212/212 [00:32<00:00,  6.60it/s]\n"
     ]
    },
    {
     "name": "stdout",
     "output_type": "stream",
     "text": [
      "Adjusting learning rate of group 0 to 1.0000e-03.\n",
      "train_acc= 0.85\n",
      "train_loss = 0.34\n",
      "Epoch 3/20\n"
     ]
    },
    {
     "name": "stderr",
     "output_type": "stream",
     "text": [
      "100%|██████████| 212/212 [00:32<00:00,  6.58it/s]\n"
     ]
    },
    {
     "name": "stdout",
     "output_type": "stream",
     "text": [
      "Adjusting learning rate of group 0 to 1.0000e-03.\n",
      "train_acc= 0.86\n",
      "train_loss = 0.34\n",
      "Epoch 4/20\n"
     ]
    },
    {
     "name": "stderr",
     "output_type": "stream",
     "text": [
      "100%|██████████| 212/212 [00:32<00:00,  6.58it/s]\n"
     ]
    },
    {
     "name": "stdout",
     "output_type": "stream",
     "text": [
      "Adjusting learning rate of group 0 to 1.0000e-03.\n",
      "train_acc= 0.87\n",
      "train_loss = 0.29\n",
      "Epoch 5/20\n"
     ]
    },
    {
     "name": "stderr",
     "output_type": "stream",
     "text": [
      "100%|██████████| 212/212 [00:32<00:00,  6.59it/s]\n"
     ]
    },
    {
     "name": "stdout",
     "output_type": "stream",
     "text": [
      "Adjusting learning rate of group 0 to 1.0000e-03.\n",
      "train_acc= 0.88\n",
      "train_loss = 0.29\n",
      "Epoch 6/20\n"
     ]
    },
    {
     "name": "stderr",
     "output_type": "stream",
     "text": [
      "100%|██████████| 212/212 [00:32<00:00,  6.58it/s]\n"
     ]
    },
    {
     "name": "stdout",
     "output_type": "stream",
     "text": [
      "Adjusting learning rate of group 0 to 1.0000e-03.\n",
      "train_acc= 0.88\n",
      "train_loss = 0.27\n",
      "Epoch 7/20\n"
     ]
    },
    {
     "name": "stderr",
     "output_type": "stream",
     "text": [
      "100%|██████████| 212/212 [00:32<00:00,  6.55it/s]\n"
     ]
    },
    {
     "name": "stdout",
     "output_type": "stream",
     "text": [
      "Adjusting learning rate of group 0 to 1.0000e-03.\n",
      "train_acc= 0.89\n",
      "train_loss = 0.25\n",
      "Epoch 8/20\n"
     ]
    },
    {
     "name": "stderr",
     "output_type": "stream",
     "text": [
      "100%|██████████| 212/212 [00:32<00:00,  6.58it/s]\n"
     ]
    },
    {
     "name": "stdout",
     "output_type": "stream",
     "text": [
      "Adjusting learning rate of group 0 to 1.0000e-03.\n",
      "train_acc= 0.90\n",
      "train_loss = 0.24\n",
      "Epoch 9/20\n"
     ]
    },
    {
     "name": "stderr",
     "output_type": "stream",
     "text": [
      "100%|██████████| 212/212 [00:32<00:00,  6.56it/s]\n"
     ]
    },
    {
     "name": "stdout",
     "output_type": "stream",
     "text": [
      "Adjusting learning rate of group 0 to 1.0000e-03.\n",
      "train_acc= 0.90\n",
      "train_loss = 0.23\n",
      "Epoch 10/20\n"
     ]
    },
    {
     "name": "stderr",
     "output_type": "stream",
     "text": [
      "100%|██████████| 212/212 [00:32<00:00,  6.55it/s]\n"
     ]
    },
    {
     "name": "stdout",
     "output_type": "stream",
     "text": [
      "Adjusting learning rate of group 0 to 1.0000e-03.\n",
      "train_acc= 0.89\n",
      "train_loss = 0.25\n",
      "Epoch 11/20\n"
     ]
    },
    {
     "name": "stderr",
     "output_type": "stream",
     "text": [
      "100%|██████████| 212/212 [00:32<00:00,  6.56it/s]\n"
     ]
    },
    {
     "name": "stdout",
     "output_type": "stream",
     "text": [
      "Adjusting learning rate of group 0 to 1.0000e-03.\n",
      "train_acc= 0.91\n",
      "train_loss = 0.22\n",
      "Epoch 12/20\n"
     ]
    },
    {
     "name": "stderr",
     "output_type": "stream",
     "text": [
      "100%|██████████| 212/212 [00:32<00:00,  6.56it/s]\n"
     ]
    },
    {
     "name": "stdout",
     "output_type": "stream",
     "text": [
      "Adjusting learning rate of group 0 to 1.0000e-03.\n",
      "train_acc= 0.91\n",
      "train_loss = 0.21\n",
      "Epoch 13/20\n"
     ]
    },
    {
     "name": "stderr",
     "output_type": "stream",
     "text": [
      "100%|██████████| 212/212 [00:32<00:00,  6.61it/s]\n"
     ]
    },
    {
     "name": "stdout",
     "output_type": "stream",
     "text": [
      "Adjusting learning rate of group 0 to 1.0000e-03.\n",
      "train_acc= 0.91\n",
      "train_loss = 0.22\n",
      "Epoch 14/20\n"
     ]
    },
    {
     "name": "stderr",
     "output_type": "stream",
     "text": [
      "100%|██████████| 212/212 [00:32<00:00,  6.56it/s]\n"
     ]
    },
    {
     "name": "stdout",
     "output_type": "stream",
     "text": [
      "Adjusting learning rate of group 0 to 1.0000e-03.\n",
      "train_acc= 0.92\n",
      "train_loss = 0.20\n",
      "Epoch 15/20\n"
     ]
    },
    {
     "name": "stderr",
     "output_type": "stream",
     "text": [
      "100%|██████████| 212/212 [00:32<00:00,  6.56it/s]\n"
     ]
    },
    {
     "name": "stdout",
     "output_type": "stream",
     "text": [
      "Adjusting learning rate of group 0 to 1.0000e-04.\n",
      "train_acc= 0.92\n",
      "train_loss = 0.19\n",
      "Epoch 16/20\n"
     ]
    },
    {
     "name": "stderr",
     "output_type": "stream",
     "text": [
      "100%|██████████| 212/212 [00:32<00:00,  6.55it/s]\n"
     ]
    },
    {
     "name": "stdout",
     "output_type": "stream",
     "text": [
      "Adjusting learning rate of group 0 to 1.0000e-04.\n",
      "train_acc= 0.94\n",
      "train_loss = 0.16\n",
      "Epoch 17/20\n"
     ]
    },
    {
     "name": "stderr",
     "output_type": "stream",
     "text": [
      "100%|██████████| 212/212 [00:32<00:00,  6.53it/s]\n"
     ]
    },
    {
     "name": "stdout",
     "output_type": "stream",
     "text": [
      "Adjusting learning rate of group 0 to 1.0000e-04.\n",
      "train_acc= 0.94\n",
      "train_loss = 0.15\n",
      "Epoch 18/20\n"
     ]
    },
    {
     "name": "stderr",
     "output_type": "stream",
     "text": [
      "100%|██████████| 212/212 [00:32<00:00,  6.53it/s]\n"
     ]
    },
    {
     "name": "stdout",
     "output_type": "stream",
     "text": [
      "Adjusting learning rate of group 0 to 1.0000e-04.\n",
      "train_acc= 0.94\n",
      "train_loss = 0.15\n",
      "Epoch 19/20\n"
     ]
    },
    {
     "name": "stderr",
     "output_type": "stream",
     "text": [
      "100%|██████████| 212/212 [00:32<00:00,  6.58it/s]\n"
     ]
    },
    {
     "name": "stdout",
     "output_type": "stream",
     "text": [
      "Adjusting learning rate of group 0 to 1.0000e-04.\n",
      "train_acc= 0.94\n",
      "train_loss = 0.15\n",
      "Epoch 20/20\n"
     ]
    },
    {
     "name": "stderr",
     "output_type": "stream",
     "text": [
      "100%|██████████| 212/212 [00:32<00:00,  6.54it/s]\n"
     ]
    },
    {
     "name": "stdout",
     "output_type": "stream",
     "text": [
      "Adjusting learning rate of group 0 to 1.0000e-04.\n",
      "train_acc= 0.94\n",
      "train_loss = 0.15\n",
      "Testing\n"
     ]
    },
    {
     "name": "stderr",
     "output_type": "stream",
     "text": [
      "100%|██████████| 23/23 [00:01<00:00, 13.24it/s]\n"
     ]
    },
    {
     "name": "stdout",
     "output_type": "stream",
     "text": [
      "test_acc = 0.97\n",
      "test_loss = 0.08\n",
      "================= Block 1 Finished ==============\n",
      "Adjusting learning rate of group 0 to 1.0000e-03.\n",
      "Epoch 1/20\n"
     ]
    },
    {
     "name": "stderr",
     "output_type": "stream",
     "text": [
      "100%|██████████| 212/212 [00:33<00:00,  6.25it/s]\n"
     ]
    },
    {
     "name": "stdout",
     "output_type": "stream",
     "text": [
      "Adjusting learning rate of group 0 to 1.0000e-03.\n",
      "train_acc= 0.76\n",
      "train_loss = 6.04\n",
      "Epoch 2/20\n"
     ]
    },
    {
     "name": "stderr",
     "output_type": "stream",
     "text": [
      "100%|██████████| 212/212 [00:34<00:00,  6.22it/s]\n"
     ]
    },
    {
     "name": "stdout",
     "output_type": "stream",
     "text": [
      "Adjusting learning rate of group 0 to 1.0000e-03.\n",
      "train_acc= 0.85\n",
      "train_loss = 0.37\n",
      "Epoch 3/20\n"
     ]
    },
    {
     "name": "stderr",
     "output_type": "stream",
     "text": [
      "100%|██████████| 212/212 [00:34<00:00,  6.22it/s]\n"
     ]
    },
    {
     "name": "stdout",
     "output_type": "stream",
     "text": [
      "Adjusting learning rate of group 0 to 1.0000e-03.\n",
      "train_acc= 0.87\n",
      "train_loss = 0.31\n",
      "Epoch 4/20\n"
     ]
    },
    {
     "name": "stderr",
     "output_type": "stream",
     "text": [
      "100%|██████████| 212/212 [00:33<00:00,  6.24it/s]\n"
     ]
    },
    {
     "name": "stdout",
     "output_type": "stream",
     "text": [
      "Adjusting learning rate of group 0 to 1.0000e-03.\n",
      "train_acc= 0.88\n",
      "train_loss = 0.27\n",
      "Epoch 5/20\n"
     ]
    },
    {
     "name": "stderr",
     "output_type": "stream",
     "text": [
      "100%|██████████| 212/212 [00:33<00:00,  6.24it/s]\n"
     ]
    },
    {
     "name": "stdout",
     "output_type": "stream",
     "text": [
      "Adjusting learning rate of group 0 to 1.0000e-03.\n",
      "train_acc= 0.88\n",
      "train_loss = 0.28\n",
      "Epoch 6/20\n"
     ]
    },
    {
     "name": "stderr",
     "output_type": "stream",
     "text": [
      "100%|██████████| 212/212 [00:33<00:00,  6.25it/s]\n"
     ]
    },
    {
     "name": "stdout",
     "output_type": "stream",
     "text": [
      "Adjusting learning rate of group 0 to 1.0000e-03.\n",
      "train_acc= 0.90\n",
      "train_loss = 0.25\n",
      "Epoch 7/20\n"
     ]
    },
    {
     "name": "stderr",
     "output_type": "stream",
     "text": [
      "100%|██████████| 212/212 [00:33<00:00,  6.24it/s]\n"
     ]
    },
    {
     "name": "stdout",
     "output_type": "stream",
     "text": [
      "Adjusting learning rate of group 0 to 1.0000e-03.\n",
      "train_acc= 0.90\n",
      "train_loss = 0.23\n",
      "Epoch 8/20\n"
     ]
    },
    {
     "name": "stderr",
     "output_type": "stream",
     "text": [
      "100%|██████████| 212/212 [00:34<00:00,  6.23it/s]\n"
     ]
    },
    {
     "name": "stdout",
     "output_type": "stream",
     "text": [
      "Adjusting learning rate of group 0 to 1.0000e-03.\n",
      "train_acc= 0.91\n",
      "train_loss = 0.23\n",
      "Epoch 9/20\n"
     ]
    },
    {
     "name": "stderr",
     "output_type": "stream",
     "text": [
      "100%|██████████| 212/212 [00:34<00:00,  6.20it/s]\n"
     ]
    },
    {
     "name": "stdout",
     "output_type": "stream",
     "text": [
      "Adjusting learning rate of group 0 to 1.0000e-03.\n",
      "train_acc= 0.90\n",
      "train_loss = 0.24\n",
      "Epoch 10/20\n"
     ]
    },
    {
     "name": "stderr",
     "output_type": "stream",
     "text": [
      "100%|██████████| 212/212 [00:33<00:00,  6.25it/s]\n"
     ]
    },
    {
     "name": "stdout",
     "output_type": "stream",
     "text": [
      "Adjusting learning rate of group 0 to 1.0000e-03.\n",
      "train_acc= 0.91\n",
      "train_loss = 0.23\n",
      "Epoch 11/20\n"
     ]
    },
    {
     "name": "stderr",
     "output_type": "stream",
     "text": [
      "100%|██████████| 212/212 [00:34<00:00,  6.23it/s]\n"
     ]
    },
    {
     "name": "stdout",
     "output_type": "stream",
     "text": [
      "Adjusting learning rate of group 0 to 1.0000e-03.\n",
      "train_acc= 0.91\n",
      "train_loss = 0.21\n",
      "Epoch 12/20\n"
     ]
    },
    {
     "name": "stderr",
     "output_type": "stream",
     "text": [
      "100%|██████████| 212/212 [00:34<00:00,  6.22it/s]\n"
     ]
    },
    {
     "name": "stdout",
     "output_type": "stream",
     "text": [
      "Adjusting learning rate of group 0 to 1.0000e-03.\n",
      "train_acc= 0.91\n",
      "train_loss = 0.21\n",
      "Epoch 13/20\n"
     ]
    },
    {
     "name": "stderr",
     "output_type": "stream",
     "text": [
      "100%|██████████| 212/212 [00:34<00:00,  6.23it/s]\n"
     ]
    },
    {
     "name": "stdout",
     "output_type": "stream",
     "text": [
      "Adjusting learning rate of group 0 to 1.0000e-03.\n",
      "train_acc= 0.91\n",
      "train_loss = 0.21\n",
      "Epoch 14/20\n"
     ]
    },
    {
     "name": "stderr",
     "output_type": "stream",
     "text": [
      "100%|██████████| 212/212 [00:34<00:00,  6.22it/s]\n"
     ]
    },
    {
     "name": "stdout",
     "output_type": "stream",
     "text": [
      "Adjusting learning rate of group 0 to 1.0000e-03.\n",
      "train_acc= 0.92\n",
      "train_loss = 0.19\n",
      "Epoch 15/20\n"
     ]
    },
    {
     "name": "stderr",
     "output_type": "stream",
     "text": [
      "100%|██████████| 212/212 [00:34<00:00,  6.20it/s]\n"
     ]
    },
    {
     "name": "stdout",
     "output_type": "stream",
     "text": [
      "Adjusting learning rate of group 0 to 1.0000e-04.\n",
      "train_acc= 0.92\n",
      "train_loss = 0.19\n",
      "Epoch 16/20\n"
     ]
    },
    {
     "name": "stderr",
     "output_type": "stream",
     "text": [
      "100%|██████████| 212/212 [00:34<00:00,  6.23it/s]\n"
     ]
    },
    {
     "name": "stdout",
     "output_type": "stream",
     "text": [
      "Adjusting learning rate of group 0 to 1.0000e-04.\n",
      "train_acc= 0.94\n",
      "train_loss = 0.15\n",
      "Epoch 17/20\n"
     ]
    },
    {
     "name": "stderr",
     "output_type": "stream",
     "text": [
      "100%|██████████| 212/212 [00:34<00:00,  6.21it/s]\n"
     ]
    },
    {
     "name": "stdout",
     "output_type": "stream",
     "text": [
      "Adjusting learning rate of group 0 to 1.0000e-04.\n",
      "train_acc= 0.94\n",
      "train_loss = 0.14\n",
      "Epoch 18/20\n"
     ]
    },
    {
     "name": "stderr",
     "output_type": "stream",
     "text": [
      "100%|██████████| 212/212 [00:33<00:00,  6.24it/s]\n"
     ]
    },
    {
     "name": "stdout",
     "output_type": "stream",
     "text": [
      "Adjusting learning rate of group 0 to 1.0000e-04.\n",
      "train_acc= 0.94\n",
      "train_loss = 0.14\n",
      "Epoch 19/20\n"
     ]
    },
    {
     "name": "stderr",
     "output_type": "stream",
     "text": [
      "100%|██████████| 212/212 [00:34<00:00,  6.22it/s]\n"
     ]
    },
    {
     "name": "stdout",
     "output_type": "stream",
     "text": [
      "Adjusting learning rate of group 0 to 1.0000e-04.\n",
      "train_acc= 0.95\n",
      "train_loss = 0.13\n",
      "Epoch 20/20\n"
     ]
    },
    {
     "name": "stderr",
     "output_type": "stream",
     "text": [
      "100%|██████████| 212/212 [00:34<00:00,  6.22it/s]\n"
     ]
    },
    {
     "name": "stdout",
     "output_type": "stream",
     "text": [
      "Adjusting learning rate of group 0 to 1.0000e-04.\n",
      "train_acc= 0.95\n",
      "train_loss = 0.13\n",
      "Testing\n"
     ]
    },
    {
     "name": "stderr",
     "output_type": "stream",
     "text": [
      "100%|██████████| 23/23 [00:02<00:00, 10.81it/s]\n"
     ]
    },
    {
     "name": "stdout",
     "output_type": "stream",
     "text": [
      "test_acc = 0.98\n",
      "test_loss = 0.07\n",
      "================= Block 2 Finished ==============\n",
      "Adjusting learning rate of group 0 to 1.0000e-03.\n",
      "Epoch 1/20\n"
     ]
    },
    {
     "name": "stderr",
     "output_type": "stream",
     "text": [
      "100%|██████████| 212/212 [00:35<00:00,  5.95it/s]\n"
     ]
    },
    {
     "name": "stdout",
     "output_type": "stream",
     "text": [
      "Adjusting learning rate of group 0 to 1.0000e-03.\n",
      "train_acc= 0.80\n",
      "train_loss = 7.03\n",
      "Epoch 2/20\n"
     ]
    },
    {
     "name": "stderr",
     "output_type": "stream",
     "text": [
      "100%|██████████| 212/212 [00:35<00:00,  5.91it/s]\n"
     ]
    },
    {
     "name": "stdout",
     "output_type": "stream",
     "text": [
      "Adjusting learning rate of group 0 to 1.0000e-03.\n",
      "train_acc= 0.86\n",
      "train_loss = 0.33\n",
      "Epoch 3/20\n"
     ]
    },
    {
     "name": "stderr",
     "output_type": "stream",
     "text": [
      "100%|██████████| 212/212 [00:35<00:00,  5.92it/s]\n"
     ]
    },
    {
     "name": "stdout",
     "output_type": "stream",
     "text": [
      "Adjusting learning rate of group 0 to 1.0000e-03.\n",
      "train_acc= 0.87\n",
      "train_loss = 0.30\n",
      "Epoch 4/20\n"
     ]
    },
    {
     "name": "stderr",
     "output_type": "stream",
     "text": [
      "100%|██████████| 212/212 [00:35<00:00,  5.91it/s]\n"
     ]
    },
    {
     "name": "stdout",
     "output_type": "stream",
     "text": [
      "Adjusting learning rate of group 0 to 1.0000e-03.\n",
      "train_acc= 0.88\n",
      "train_loss = 0.30\n",
      "Epoch 5/20\n"
     ]
    },
    {
     "name": "stderr",
     "output_type": "stream",
     "text": [
      "100%|██████████| 212/212 [00:35<00:00,  5.92it/s]\n"
     ]
    },
    {
     "name": "stdout",
     "output_type": "stream",
     "text": [
      "Adjusting learning rate of group 0 to 1.0000e-03.\n",
      "train_acc= 0.90\n",
      "train_loss = 0.24\n",
      "Epoch 6/20\n"
     ]
    },
    {
     "name": "stderr",
     "output_type": "stream",
     "text": [
      "100%|██████████| 212/212 [00:35<00:00,  5.90it/s]\n"
     ]
    },
    {
     "name": "stdout",
     "output_type": "stream",
     "text": [
      "Adjusting learning rate of group 0 to 1.0000e-03.\n",
      "train_acc= 0.90\n",
      "train_loss = 0.24\n",
      "Epoch 7/20\n"
     ]
    },
    {
     "name": "stderr",
     "output_type": "stream",
     "text": [
      "100%|██████████| 212/212 [00:35<00:00,  5.91it/s]\n"
     ]
    },
    {
     "name": "stdout",
     "output_type": "stream",
     "text": [
      "Adjusting learning rate of group 0 to 1.0000e-03.\n",
      "train_acc= 0.90\n",
      "train_loss = 0.23\n",
      "Epoch 8/20\n"
     ]
    },
    {
     "name": "stderr",
     "output_type": "stream",
     "text": [
      "100%|██████████| 212/212 [00:35<00:00,  5.89it/s]\n"
     ]
    },
    {
     "name": "stdout",
     "output_type": "stream",
     "text": [
      "Adjusting learning rate of group 0 to 1.0000e-03.\n",
      "train_acc= 0.91\n",
      "train_loss = 0.23\n",
      "Epoch 9/20\n"
     ]
    },
    {
     "name": "stderr",
     "output_type": "stream",
     "text": [
      "100%|██████████| 212/212 [00:36<00:00,  5.89it/s]\n"
     ]
    },
    {
     "name": "stdout",
     "output_type": "stream",
     "text": [
      "Adjusting learning rate of group 0 to 1.0000e-03.\n",
      "train_acc= 0.91\n",
      "train_loss = 0.22\n",
      "Epoch 10/20\n"
     ]
    },
    {
     "name": "stderr",
     "output_type": "stream",
     "text": [
      "100%|██████████| 212/212 [00:35<00:00,  5.89it/s]\n"
     ]
    },
    {
     "name": "stdout",
     "output_type": "stream",
     "text": [
      "Adjusting learning rate of group 0 to 1.0000e-03.\n",
      "train_acc= 0.92\n",
      "train_loss = 0.20\n",
      "Epoch 11/20\n"
     ]
    },
    {
     "name": "stderr",
     "output_type": "stream",
     "text": [
      "100%|██████████| 212/212 [00:35<00:00,  5.90it/s]\n"
     ]
    },
    {
     "name": "stdout",
     "output_type": "stream",
     "text": [
      "Adjusting learning rate of group 0 to 1.0000e-03.\n",
      "train_acc= 0.92\n",
      "train_loss = 0.20\n",
      "Epoch 12/20\n"
     ]
    },
    {
     "name": "stderr",
     "output_type": "stream",
     "text": [
      "100%|██████████| 212/212 [00:35<00:00,  5.90it/s]\n"
     ]
    },
    {
     "name": "stdout",
     "output_type": "stream",
     "text": [
      "Adjusting learning rate of group 0 to 1.0000e-03.\n",
      "train_acc= 0.92\n",
      "train_loss = 0.20\n",
      "Epoch 13/20\n"
     ]
    },
    {
     "name": "stderr",
     "output_type": "stream",
     "text": [
      "100%|██████████| 212/212 [00:35<00:00,  5.91it/s]\n"
     ]
    },
    {
     "name": "stdout",
     "output_type": "stream",
     "text": [
      "Adjusting learning rate of group 0 to 1.0000e-03.\n",
      "train_acc= 0.92\n",
      "train_loss = 0.19\n",
      "Epoch 14/20\n"
     ]
    },
    {
     "name": "stderr",
     "output_type": "stream",
     "text": [
      "100%|██████████| 212/212 [00:35<00:00,  5.89it/s]\n"
     ]
    },
    {
     "name": "stdout",
     "output_type": "stream",
     "text": [
      "Adjusting learning rate of group 0 to 1.0000e-03.\n",
      "train_acc= 0.93\n",
      "train_loss = 0.17\n",
      "Epoch 15/20\n"
     ]
    },
    {
     "name": "stderr",
     "output_type": "stream",
     "text": [
      "100%|██████████| 212/212 [00:35<00:00,  5.92it/s]\n"
     ]
    },
    {
     "name": "stdout",
     "output_type": "stream",
     "text": [
      "Adjusting learning rate of group 0 to 1.0000e-04.\n",
      "train_acc= 0.93\n",
      "train_loss = 0.18\n",
      "Epoch 16/20\n"
     ]
    },
    {
     "name": "stderr",
     "output_type": "stream",
     "text": [
      "100%|██████████| 212/212 [00:35<00:00,  5.91it/s]\n"
     ]
    },
    {
     "name": "stdout",
     "output_type": "stream",
     "text": [
      "Adjusting learning rate of group 0 to 1.0000e-04.\n",
      "train_acc= 0.95\n",
      "train_loss = 0.14\n",
      "Epoch 17/20\n"
     ]
    },
    {
     "name": "stderr",
     "output_type": "stream",
     "text": [
      "100%|██████████| 212/212 [00:35<00:00,  5.92it/s]\n"
     ]
    },
    {
     "name": "stdout",
     "output_type": "stream",
     "text": [
      "Adjusting learning rate of group 0 to 1.0000e-04.\n",
      "train_acc= 0.95\n",
      "train_loss = 0.13\n",
      "Epoch 18/20\n"
     ]
    },
    {
     "name": "stderr",
     "output_type": "stream",
     "text": [
      "100%|██████████| 212/212 [00:35<00:00,  5.93it/s]\n"
     ]
    },
    {
     "name": "stdout",
     "output_type": "stream",
     "text": [
      "Adjusting learning rate of group 0 to 1.0000e-04.\n",
      "train_acc= 0.95\n",
      "train_loss = 0.12\n",
      "Epoch 19/20\n"
     ]
    },
    {
     "name": "stderr",
     "output_type": "stream",
     "text": [
      "100%|██████████| 212/212 [00:35<00:00,  5.93it/s]\n"
     ]
    },
    {
     "name": "stdout",
     "output_type": "stream",
     "text": [
      "Adjusting learning rate of group 0 to 1.0000e-04.\n",
      "train_acc= 0.95\n",
      "train_loss = 0.12\n",
      "Epoch 20/20\n"
     ]
    },
    {
     "name": "stderr",
     "output_type": "stream",
     "text": [
      "100%|██████████| 212/212 [00:35<00:00,  5.90it/s]\n"
     ]
    },
    {
     "name": "stdout",
     "output_type": "stream",
     "text": [
      "Adjusting learning rate of group 0 to 1.0000e-04.\n",
      "train_acc= 0.96\n",
      "train_loss = 0.12\n",
      "Testing\n"
     ]
    },
    {
     "name": "stderr",
     "output_type": "stream",
     "text": [
      "100%|██████████| 23/23 [00:02<00:00, 10.23it/s]\n"
     ]
    },
    {
     "name": "stdout",
     "output_type": "stream",
     "text": [
      "test_acc = 0.97\n",
      "test_loss = 0.08\n",
      "================= Block 3 Finished ==============\n",
      "Adjusting learning rate of group 0 to 1.0000e-03.\n",
      "Epoch 1/20\n"
     ]
    },
    {
     "name": "stderr",
     "output_type": "stream",
     "text": [
      "100%|██████████| 212/212 [00:37<00:00,  5.63it/s]\n"
     ]
    },
    {
     "name": "stdout",
     "output_type": "stream",
     "text": [
      "Adjusting learning rate of group 0 to 1.0000e-03.\n",
      "train_acc= 0.83\n",
      "train_loss = 3.68\n",
      "Epoch 2/20\n"
     ]
    },
    {
     "name": "stderr",
     "output_type": "stream",
     "text": [
      "100%|██████████| 212/212 [00:37<00:00,  5.64it/s]\n"
     ]
    },
    {
     "name": "stdout",
     "output_type": "stream",
     "text": [
      "Adjusting learning rate of group 0 to 1.0000e-03.\n",
      "train_acc= 0.90\n",
      "train_loss = 0.24\n",
      "Epoch 3/20\n"
     ]
    },
    {
     "name": "stderr",
     "output_type": "stream",
     "text": [
      "100%|██████████| 212/212 [00:37<00:00,  5.61it/s]\n"
     ]
    },
    {
     "name": "stdout",
     "output_type": "stream",
     "text": [
      "Adjusting learning rate of group 0 to 1.0000e-03.\n",
      "train_acc= 0.91\n",
      "train_loss = 0.21\n",
      "Epoch 4/20\n"
     ]
    },
    {
     "name": "stderr",
     "output_type": "stream",
     "text": [
      "100%|██████████| 212/212 [00:37<00:00,  5.63it/s]\n"
     ]
    },
    {
     "name": "stdout",
     "output_type": "stream",
     "text": [
      "Adjusting learning rate of group 0 to 1.0000e-03.\n",
      "train_acc= 0.91\n",
      "train_loss = 0.21\n",
      "Epoch 5/20\n"
     ]
    },
    {
     "name": "stderr",
     "output_type": "stream",
     "text": [
      "100%|██████████| 212/212 [00:37<00:00,  5.64it/s]\n"
     ]
    },
    {
     "name": "stdout",
     "output_type": "stream",
     "text": [
      "Adjusting learning rate of group 0 to 1.0000e-03.\n",
      "train_acc= 0.93\n",
      "train_loss = 0.19\n",
      "Epoch 6/20\n"
     ]
    },
    {
     "name": "stderr",
     "output_type": "stream",
     "text": [
      "100%|██████████| 212/212 [00:37<00:00,  5.62it/s]\n"
     ]
    },
    {
     "name": "stdout",
     "output_type": "stream",
     "text": [
      "Adjusting learning rate of group 0 to 1.0000e-03.\n",
      "train_acc= 0.92\n",
      "train_loss = 0.19\n",
      "Epoch 7/20\n"
     ]
    },
    {
     "name": "stderr",
     "output_type": "stream",
     "text": [
      "100%|██████████| 212/212 [00:37<00:00,  5.61it/s]\n"
     ]
    },
    {
     "name": "stdout",
     "output_type": "stream",
     "text": [
      "Adjusting learning rate of group 0 to 1.0000e-03.\n",
      "train_acc= 0.93\n",
      "train_loss = 0.19\n",
      "Epoch 8/20\n"
     ]
    },
    {
     "name": "stderr",
     "output_type": "stream",
     "text": [
      "100%|██████████| 212/212 [00:37<00:00,  5.63it/s]\n"
     ]
    },
    {
     "name": "stdout",
     "output_type": "stream",
     "text": [
      "Adjusting learning rate of group 0 to 1.0000e-03.\n",
      "train_acc= 0.93\n",
      "train_loss = 0.18\n",
      "Epoch 9/20\n"
     ]
    },
    {
     "name": "stderr",
     "output_type": "stream",
     "text": [
      "100%|██████████| 212/212 [00:37<00:00,  5.64it/s]\n"
     ]
    },
    {
     "name": "stdout",
     "output_type": "stream",
     "text": [
      "Adjusting learning rate of group 0 to 1.0000e-03.\n",
      "train_acc= 0.93\n",
      "train_loss = 0.17\n",
      "Epoch 10/20\n"
     ]
    },
    {
     "name": "stderr",
     "output_type": "stream",
     "text": [
      "100%|██████████| 212/212 [00:37<00:00,  5.62it/s]\n"
     ]
    },
    {
     "name": "stdout",
     "output_type": "stream",
     "text": [
      "Adjusting learning rate of group 0 to 1.0000e-03.\n",
      "train_acc= 0.93\n",
      "train_loss = 0.18\n",
      "Epoch 11/20\n"
     ]
    },
    {
     "name": "stderr",
     "output_type": "stream",
     "text": [
      "100%|██████████| 212/212 [00:37<00:00,  5.60it/s]\n"
     ]
    },
    {
     "name": "stdout",
     "output_type": "stream",
     "text": [
      "Adjusting learning rate of group 0 to 1.0000e-03.\n",
      "train_acc= 0.94\n",
      "train_loss = 0.16\n",
      "Epoch 12/20\n"
     ]
    },
    {
     "name": "stderr",
     "output_type": "stream",
     "text": [
      "100%|██████████| 212/212 [00:37<00:00,  5.61it/s]\n"
     ]
    },
    {
     "name": "stdout",
     "output_type": "stream",
     "text": [
      "Adjusting learning rate of group 0 to 1.0000e-03.\n",
      "train_acc= 0.92\n",
      "train_loss = 0.19\n",
      "Epoch 13/20\n"
     ]
    },
    {
     "name": "stderr",
     "output_type": "stream",
     "text": [
      "100%|██████████| 212/212 [00:37<00:00,  5.61it/s]\n"
     ]
    },
    {
     "name": "stdout",
     "output_type": "stream",
     "text": [
      "Adjusting learning rate of group 0 to 1.0000e-03.\n",
      "train_acc= 0.94\n",
      "train_loss = 0.15\n",
      "Epoch 14/20\n"
     ]
    },
    {
     "name": "stderr",
     "output_type": "stream",
     "text": [
      "100%|██████████| 212/212 [00:37<00:00,  5.62it/s]\n"
     ]
    },
    {
     "name": "stdout",
     "output_type": "stream",
     "text": [
      "Adjusting learning rate of group 0 to 1.0000e-03.\n",
      "train_acc= 0.94\n",
      "train_loss = 0.14\n",
      "Epoch 15/20\n"
     ]
    },
    {
     "name": "stderr",
     "output_type": "stream",
     "text": [
      "100%|██████████| 212/212 [00:37<00:00,  5.61it/s]\n"
     ]
    },
    {
     "name": "stdout",
     "output_type": "stream",
     "text": [
      "Adjusting learning rate of group 0 to 1.0000e-04.\n",
      "train_acc= 0.94\n",
      "train_loss = 0.16\n",
      "Epoch 16/20\n"
     ]
    },
    {
     "name": "stderr",
     "output_type": "stream",
     "text": [
      "100%|██████████| 212/212 [00:37<00:00,  5.61it/s]\n"
     ]
    },
    {
     "name": "stdout",
     "output_type": "stream",
     "text": [
      "Adjusting learning rate of group 0 to 1.0000e-04.\n",
      "train_acc= 0.95\n",
      "train_loss = 0.13\n",
      "Epoch 17/20\n"
     ]
    },
    {
     "name": "stderr",
     "output_type": "stream",
     "text": [
      "100%|██████████| 212/212 [00:37<00:00,  5.60it/s]\n"
     ]
    },
    {
     "name": "stdout",
     "output_type": "stream",
     "text": [
      "Adjusting learning rate of group 0 to 1.0000e-04.\n",
      "train_acc= 0.95\n",
      "train_loss = 0.12\n",
      "Epoch 18/20\n"
     ]
    },
    {
     "name": "stderr",
     "output_type": "stream",
     "text": [
      "100%|██████████| 212/212 [00:37<00:00,  5.63it/s]\n"
     ]
    },
    {
     "name": "stdout",
     "output_type": "stream",
     "text": [
      "Adjusting learning rate of group 0 to 1.0000e-04.\n",
      "train_acc= 0.95\n",
      "train_loss = 0.12\n",
      "Epoch 19/20\n"
     ]
    },
    {
     "name": "stderr",
     "output_type": "stream",
     "text": [
      "100%|██████████| 212/212 [00:37<00:00,  5.61it/s]\n"
     ]
    },
    {
     "name": "stdout",
     "output_type": "stream",
     "text": [
      "Adjusting learning rate of group 0 to 1.0000e-04.\n",
      "train_acc= 0.95\n",
      "train_loss = 0.13\n",
      "Epoch 20/20\n"
     ]
    },
    {
     "name": "stderr",
     "output_type": "stream",
     "text": [
      "100%|██████████| 212/212 [00:37<00:00,  5.63it/s]\n"
     ]
    },
    {
     "name": "stdout",
     "output_type": "stream",
     "text": [
      "Adjusting learning rate of group 0 to 1.0000e-04.\n",
      "train_acc= 0.95\n",
      "train_loss = 0.12\n",
      "Testing\n"
     ]
    },
    {
     "name": "stderr",
     "output_type": "stream",
     "text": [
      "100%|██████████| 23/23 [00:02<00:00,  9.30it/s]\n"
     ]
    },
    {
     "name": "stdout",
     "output_type": "stream",
     "text": [
      "test_acc = 0.97\n",
      "test_loss = 0.06\n",
      "================= Block 4 Finished ==============\n",
      "Adjusting learning rate of group 0 to 1.0000e-03.\n",
      "Epoch 1/20\n"
     ]
    },
    {
     "name": "stderr",
     "output_type": "stream",
     "text": [
      "100%|██████████| 212/212 [00:39<00:00,  5.37it/s]\n"
     ]
    },
    {
     "name": "stdout",
     "output_type": "stream",
     "text": [
      "Adjusting learning rate of group 0 to 1.0000e-03.\n",
      "train_acc= 0.85\n",
      "train_loss = 4.53\n",
      "Epoch 2/20\n"
     ]
    },
    {
     "name": "stderr",
     "output_type": "stream",
     "text": [
      "100%|██████████| 212/212 [00:39<00:00,  5.37it/s]\n"
     ]
    },
    {
     "name": "stdout",
     "output_type": "stream",
     "text": [
      "Adjusting learning rate of group 0 to 1.0000e-03.\n",
      "train_acc= 0.92\n",
      "train_loss = 0.20\n",
      "Epoch 3/20\n"
     ]
    },
    {
     "name": "stderr",
     "output_type": "stream",
     "text": [
      "100%|██████████| 212/212 [00:39<00:00,  5.37it/s]\n"
     ]
    },
    {
     "name": "stdout",
     "output_type": "stream",
     "text": [
      "Adjusting learning rate of group 0 to 1.0000e-03.\n",
      "train_acc= 0.92\n",
      "train_loss = 0.20\n",
      "Epoch 4/20\n"
     ]
    },
    {
     "name": "stderr",
     "output_type": "stream",
     "text": [
      "100%|██████████| 212/212 [00:39<00:00,  5.33it/s]\n"
     ]
    },
    {
     "name": "stdout",
     "output_type": "stream",
     "text": [
      "Adjusting learning rate of group 0 to 1.0000e-03.\n",
      "train_acc= 0.93\n",
      "train_loss = 0.18\n",
      "Epoch 5/20\n"
     ]
    },
    {
     "name": "stderr",
     "output_type": "stream",
     "text": [
      "100%|██████████| 212/212 [00:39<00:00,  5.35it/s]\n"
     ]
    },
    {
     "name": "stdout",
     "output_type": "stream",
     "text": [
      "Adjusting learning rate of group 0 to 1.0000e-03.\n",
      "train_acc= 0.92\n",
      "train_loss = 0.19\n",
      "Epoch 6/20\n"
     ]
    },
    {
     "name": "stderr",
     "output_type": "stream",
     "text": [
      "100%|██████████| 212/212 [00:39<00:00,  5.34it/s]\n"
     ]
    },
    {
     "name": "stdout",
     "output_type": "stream",
     "text": [
      "Adjusting learning rate of group 0 to 1.0000e-03.\n",
      "train_acc= 0.93\n",
      "train_loss = 0.18\n",
      "Epoch 7/20\n"
     ]
    },
    {
     "name": "stderr",
     "output_type": "stream",
     "text": [
      "100%|██████████| 212/212 [00:39<00:00,  5.35it/s]\n"
     ]
    },
    {
     "name": "stdout",
     "output_type": "stream",
     "text": [
      "Adjusting learning rate of group 0 to 1.0000e-03.\n",
      "train_acc= 0.93\n",
      "train_loss = 0.19\n",
      "Epoch 8/20\n"
     ]
    },
    {
     "name": "stderr",
     "output_type": "stream",
     "text": [
      "100%|██████████| 212/212 [00:39<00:00,  5.35it/s]\n"
     ]
    },
    {
     "name": "stdout",
     "output_type": "stream",
     "text": [
      "Adjusting learning rate of group 0 to 1.0000e-03.\n",
      "train_acc= 0.93\n",
      "train_loss = 0.17\n",
      "Epoch 9/20\n"
     ]
    },
    {
     "name": "stderr",
     "output_type": "stream",
     "text": [
      "100%|██████████| 212/212 [00:39<00:00,  5.34it/s]\n"
     ]
    },
    {
     "name": "stdout",
     "output_type": "stream",
     "text": [
      "Adjusting learning rate of group 0 to 1.0000e-03.\n",
      "train_acc= 0.93\n",
      "train_loss = 0.17\n",
      "Epoch 10/20\n"
     ]
    },
    {
     "name": "stderr",
     "output_type": "stream",
     "text": [
      "100%|██████████| 212/212 [00:39<00:00,  5.32it/s]\n"
     ]
    },
    {
     "name": "stdout",
     "output_type": "stream",
     "text": [
      "Adjusting learning rate of group 0 to 1.0000e-03.\n",
      "train_acc= 0.93\n",
      "train_loss = 0.18\n",
      "Epoch 11/20\n"
     ]
    },
    {
     "name": "stderr",
     "output_type": "stream",
     "text": [
      "100%|██████████| 212/212 [00:39<00:00,  5.36it/s]\n"
     ]
    },
    {
     "name": "stdout",
     "output_type": "stream",
     "text": [
      "Adjusting learning rate of group 0 to 1.0000e-03.\n",
      "train_acc= 0.93\n",
      "train_loss = 0.16\n",
      "Epoch 12/20\n"
     ]
    },
    {
     "name": "stderr",
     "output_type": "stream",
     "text": [
      "100%|██████████| 212/212 [00:39<00:00,  5.37it/s]\n"
     ]
    },
    {
     "name": "stdout",
     "output_type": "stream",
     "text": [
      "Adjusting learning rate of group 0 to 1.0000e-03.\n",
      "train_acc= 0.94\n",
      "train_loss = 0.17\n",
      "Epoch 13/20\n"
     ]
    },
    {
     "name": "stderr",
     "output_type": "stream",
     "text": [
      "100%|██████████| 212/212 [00:39<00:00,  5.36it/s]\n"
     ]
    },
    {
     "name": "stdout",
     "output_type": "stream",
     "text": [
      "Adjusting learning rate of group 0 to 1.0000e-03.\n",
      "train_acc= 0.93\n",
      "train_loss = 0.18\n",
      "Epoch 14/20\n"
     ]
    },
    {
     "name": "stderr",
     "output_type": "stream",
     "text": [
      "100%|██████████| 212/212 [00:39<00:00,  5.34it/s]\n"
     ]
    },
    {
     "name": "stdout",
     "output_type": "stream",
     "text": [
      "Adjusting learning rate of group 0 to 1.0000e-03.\n",
      "train_acc= 0.94\n",
      "train_loss = 0.16\n",
      "Epoch 15/20\n"
     ]
    },
    {
     "name": "stderr",
     "output_type": "stream",
     "text": [
      "100%|██████████| 212/212 [00:39<00:00,  5.36it/s]\n"
     ]
    },
    {
     "name": "stdout",
     "output_type": "stream",
     "text": [
      "Adjusting learning rate of group 0 to 1.0000e-04.\n",
      "train_acc= 0.94\n",
      "train_loss = 0.16\n",
      "Epoch 16/20\n"
     ]
    },
    {
     "name": "stderr",
     "output_type": "stream",
     "text": [
      "100%|██████████| 212/212 [00:39<00:00,  5.35it/s]\n"
     ]
    },
    {
     "name": "stdout",
     "output_type": "stream",
     "text": [
      "Adjusting learning rate of group 0 to 1.0000e-04.\n",
      "train_acc= 0.95\n",
      "train_loss = 0.12\n",
      "Epoch 17/20\n"
     ]
    },
    {
     "name": "stderr",
     "output_type": "stream",
     "text": [
      "100%|██████████| 212/212 [00:39<00:00,  5.36it/s]\n"
     ]
    },
    {
     "name": "stdout",
     "output_type": "stream",
     "text": [
      "Adjusting learning rate of group 0 to 1.0000e-04.\n",
      "train_acc= 0.95\n",
      "train_loss = 0.12\n",
      "Epoch 18/20\n"
     ]
    },
    {
     "name": "stderr",
     "output_type": "stream",
     "text": [
      "100%|██████████| 212/212 [00:39<00:00,  5.36it/s]\n"
     ]
    },
    {
     "name": "stdout",
     "output_type": "stream",
     "text": [
      "Adjusting learning rate of group 0 to 1.0000e-04.\n",
      "train_acc= 0.95\n",
      "train_loss = 0.12\n",
      "Epoch 19/20\n"
     ]
    },
    {
     "name": "stderr",
     "output_type": "stream",
     "text": [
      "100%|██████████| 212/212 [00:39<00:00,  5.34it/s]\n"
     ]
    },
    {
     "name": "stdout",
     "output_type": "stream",
     "text": [
      "Adjusting learning rate of group 0 to 1.0000e-04.\n",
      "train_acc= 0.95\n",
      "train_loss = 0.11\n",
      "Epoch 20/20\n"
     ]
    },
    {
     "name": "stderr",
     "output_type": "stream",
     "text": [
      "100%|██████████| 212/212 [00:39<00:00,  5.30it/s]\n"
     ]
    },
    {
     "name": "stdout",
     "output_type": "stream",
     "text": [
      "Adjusting learning rate of group 0 to 1.0000e-04.\n",
      "train_acc= 0.96\n",
      "train_loss = 0.12\n",
      "Testing\n"
     ]
    },
    {
     "name": "stderr",
     "output_type": "stream",
     "text": [
      "100%|██████████| 23/23 [00:02<00:00,  8.98it/s]\n"
     ]
    },
    {
     "name": "stdout",
     "output_type": "stream",
     "text": [
      "test_acc = 0.97\n",
      "test_loss = 0.08\n",
      "================= Block 5 Finished ==============\n",
      "Adjusting learning rate of group 0 to 1.0000e-03.\n",
      "Epoch 1/20\n"
     ]
    },
    {
     "name": "stderr",
     "output_type": "stream",
     "text": [
      "100%|██████████| 212/212 [00:41<00:00,  5.10it/s]\n"
     ]
    },
    {
     "name": "stdout",
     "output_type": "stream",
     "text": [
      "Adjusting learning rate of group 0 to 1.0000e-03.\n",
      "train_acc= 0.85\n",
      "train_loss = 9.39\n",
      "Epoch 2/20\n"
     ]
    },
    {
     "name": "stderr",
     "output_type": "stream",
     "text": [
      "100%|██████████| 212/212 [00:41<00:00,  5.09it/s]\n"
     ]
    },
    {
     "name": "stdout",
     "output_type": "stream",
     "text": [
      "Adjusting learning rate of group 0 to 1.0000e-03.\n",
      "train_acc= 0.91\n",
      "train_loss = 0.22\n",
      "Epoch 3/20\n"
     ]
    },
    {
     "name": "stderr",
     "output_type": "stream",
     "text": [
      "100%|██████████| 212/212 [00:41<00:00,  5.10it/s]\n"
     ]
    },
    {
     "name": "stdout",
     "output_type": "stream",
     "text": [
      "Adjusting learning rate of group 0 to 1.0000e-03.\n",
      "train_acc= 0.93\n",
      "train_loss = 0.19\n",
      "Epoch 4/20\n"
     ]
    },
    {
     "name": "stderr",
     "output_type": "stream",
     "text": [
      "100%|██████████| 212/212 [00:41<00:00,  5.08it/s]\n"
     ]
    },
    {
     "name": "stdout",
     "output_type": "stream",
     "text": [
      "Adjusting learning rate of group 0 to 1.0000e-03.\n",
      "train_acc= 0.92\n",
      "train_loss = 0.19\n",
      "Epoch 5/20\n"
     ]
    },
    {
     "name": "stderr",
     "output_type": "stream",
     "text": [
      "100%|██████████| 212/212 [00:41<00:00,  5.09it/s]\n"
     ]
    },
    {
     "name": "stdout",
     "output_type": "stream",
     "text": [
      "Adjusting learning rate of group 0 to 1.0000e-03.\n",
      "train_acc= 0.93\n",
      "train_loss = 0.18\n",
      "Epoch 6/20\n"
     ]
    },
    {
     "name": "stderr",
     "output_type": "stream",
     "text": [
      "100%|██████████| 212/212 [00:41<00:00,  5.08it/s]\n"
     ]
    },
    {
     "name": "stdout",
     "output_type": "stream",
     "text": [
      "Adjusting learning rate of group 0 to 1.0000e-03.\n",
      "train_acc= 0.94\n",
      "train_loss = 0.17\n",
      "Epoch 7/20\n"
     ]
    },
    {
     "name": "stderr",
     "output_type": "stream",
     "text": [
      "100%|██████████| 212/212 [00:41<00:00,  5.08it/s]\n"
     ]
    },
    {
     "name": "stdout",
     "output_type": "stream",
     "text": [
      "Adjusting learning rate of group 0 to 1.0000e-03.\n",
      "train_acc= 0.93\n",
      "train_loss = 0.17\n",
      "Epoch 8/20\n"
     ]
    },
    {
     "name": "stderr",
     "output_type": "stream",
     "text": [
      "100%|██████████| 212/212 [00:41<00:00,  5.09it/s]\n"
     ]
    },
    {
     "name": "stdout",
     "output_type": "stream",
     "text": [
      "Adjusting learning rate of group 0 to 1.0000e-03.\n",
      "train_acc= 0.94\n",
      "train_loss = 0.17\n",
      "Epoch 9/20\n"
     ]
    },
    {
     "name": "stderr",
     "output_type": "stream",
     "text": [
      "100%|██████████| 212/212 [00:41<00:00,  5.07it/s]\n"
     ]
    },
    {
     "name": "stdout",
     "output_type": "stream",
     "text": [
      "Adjusting learning rate of group 0 to 1.0000e-03.\n",
      "train_acc= 0.94\n",
      "train_loss = 0.16\n",
      "Epoch 10/20\n"
     ]
    },
    {
     "name": "stderr",
     "output_type": "stream",
     "text": [
      "100%|██████████| 212/212 [00:41<00:00,  5.08it/s]\n"
     ]
    },
    {
     "name": "stdout",
     "output_type": "stream",
     "text": [
      "Adjusting learning rate of group 0 to 1.0000e-03.\n",
      "train_acc= 0.93\n",
      "train_loss = 0.18\n",
      "Epoch 11/20\n"
     ]
    },
    {
     "name": "stderr",
     "output_type": "stream",
     "text": [
      "100%|██████████| 212/212 [00:41<00:00,  5.09it/s]\n"
     ]
    },
    {
     "name": "stdout",
     "output_type": "stream",
     "text": [
      "Adjusting learning rate of group 0 to 1.0000e-03.\n",
      "train_acc= 0.93\n",
      "train_loss = 0.17\n",
      "Epoch 12/20\n"
     ]
    },
    {
     "name": "stderr",
     "output_type": "stream",
     "text": [
      "100%|██████████| 212/212 [00:41<00:00,  5.08it/s]\n"
     ]
    },
    {
     "name": "stdout",
     "output_type": "stream",
     "text": [
      "Adjusting learning rate of group 0 to 1.0000e-03.\n",
      "train_acc= 0.93\n",
      "train_loss = 0.18\n",
      "Epoch 13/20\n"
     ]
    },
    {
     "name": "stderr",
     "output_type": "stream",
     "text": [
      "100%|██████████| 212/212 [00:41<00:00,  5.12it/s]\n"
     ]
    },
    {
     "name": "stdout",
     "output_type": "stream",
     "text": [
      "Adjusting learning rate of group 0 to 1.0000e-03.\n",
      "train_acc= 0.94\n",
      "train_loss = 0.17\n",
      "Epoch 14/20\n"
     ]
    },
    {
     "name": "stderr",
     "output_type": "stream",
     "text": [
      "100%|██████████| 212/212 [00:41<00:00,  5.08it/s]\n"
     ]
    },
    {
     "name": "stdout",
     "output_type": "stream",
     "text": [
      "Adjusting learning rate of group 0 to 1.0000e-03.\n",
      "train_acc= 0.94\n",
      "train_loss = 0.16\n",
      "Epoch 15/20\n"
     ]
    },
    {
     "name": "stderr",
     "output_type": "stream",
     "text": [
      "100%|██████████| 212/212 [00:41<00:00,  5.09it/s]\n"
     ]
    },
    {
     "name": "stdout",
     "output_type": "stream",
     "text": [
      "Adjusting learning rate of group 0 to 1.0000e-04.\n",
      "train_acc= 0.93\n",
      "train_loss = 0.18\n",
      "Epoch 16/20\n"
     ]
    },
    {
     "name": "stderr",
     "output_type": "stream",
     "text": [
      "100%|██████████| 212/212 [00:41<00:00,  5.09it/s]\n"
     ]
    },
    {
     "name": "stdout",
     "output_type": "stream",
     "text": [
      "Adjusting learning rate of group 0 to 1.0000e-04.\n",
      "train_acc= 0.95\n",
      "train_loss = 0.13\n",
      "Epoch 17/20\n"
     ]
    },
    {
     "name": "stderr",
     "output_type": "stream",
     "text": [
      "100%|██████████| 212/212 [00:41<00:00,  5.11it/s]\n"
     ]
    },
    {
     "name": "stdout",
     "output_type": "stream",
     "text": [
      "Adjusting learning rate of group 0 to 1.0000e-04.\n",
      "train_acc= 0.95\n",
      "train_loss = 0.14\n",
      "Epoch 18/20\n"
     ]
    },
    {
     "name": "stderr",
     "output_type": "stream",
     "text": [
      "100%|██████████| 212/212 [00:41<00:00,  5.08it/s]\n"
     ]
    },
    {
     "name": "stdout",
     "output_type": "stream",
     "text": [
      "Adjusting learning rate of group 0 to 1.0000e-04.\n",
      "train_acc= 0.95\n",
      "train_loss = 0.13\n",
      "Epoch 19/20\n"
     ]
    },
    {
     "name": "stderr",
     "output_type": "stream",
     "text": [
      "100%|██████████| 212/212 [00:41<00:00,  5.10it/s]\n"
     ]
    },
    {
     "name": "stdout",
     "output_type": "stream",
     "text": [
      "Adjusting learning rate of group 0 to 1.0000e-04.\n",
      "train_acc= 0.95\n",
      "train_loss = 0.13\n",
      "Epoch 20/20\n"
     ]
    },
    {
     "name": "stderr",
     "output_type": "stream",
     "text": [
      "100%|██████████| 212/212 [00:41<00:00,  5.11it/s]\n"
     ]
    },
    {
     "name": "stdout",
     "output_type": "stream",
     "text": [
      "Adjusting learning rate of group 0 to 1.0000e-04.\n",
      "train_acc= 0.95\n",
      "train_loss = 0.13\n",
      "Testing\n"
     ]
    },
    {
     "name": "stderr",
     "output_type": "stream",
     "text": [
      "100%|██████████| 23/23 [00:02<00:00,  8.37it/s]\n"
     ]
    },
    {
     "name": "stdout",
     "output_type": "stream",
     "text": [
      "test_acc = 0.97\n",
      "test_loss = 0.09\n",
      "================= Block 6 Finished ==============\n",
      "Adjusting learning rate of group 0 to 1.0000e-03.\n",
      "Epoch 1/20\n"
     ]
    },
    {
     "name": "stderr",
     "output_type": "stream",
     "text": [
      "100%|██████████| 212/212 [00:43<00:00,  4.87it/s]\n"
     ]
    },
    {
     "name": "stdout",
     "output_type": "stream",
     "text": [
      "Adjusting learning rate of group 0 to 1.0000e-03.\n",
      "train_acc= 0.87\n",
      "train_loss = 6.01\n",
      "Epoch 2/20\n"
     ]
    },
    {
     "name": "stderr",
     "output_type": "stream",
     "text": [
      "100%|██████████| 212/212 [00:43<00:00,  4.87it/s]\n"
     ]
    },
    {
     "name": "stdout",
     "output_type": "stream",
     "text": [
      "Adjusting learning rate of group 0 to 1.0000e-03.\n",
      "train_acc= 0.93\n",
      "train_loss = 0.20\n",
      "Epoch 3/20\n"
     ]
    },
    {
     "name": "stderr",
     "output_type": "stream",
     "text": [
      "100%|██████████| 212/212 [00:43<00:00,  4.85it/s]\n"
     ]
    },
    {
     "name": "stdout",
     "output_type": "stream",
     "text": [
      "Adjusting learning rate of group 0 to 1.0000e-03.\n",
      "train_acc= 0.92\n",
      "train_loss = 0.21\n",
      "Epoch 4/20\n"
     ]
    },
    {
     "name": "stderr",
     "output_type": "stream",
     "text": [
      "100%|██████████| 212/212 [00:43<00:00,  4.85it/s]\n"
     ]
    },
    {
     "name": "stdout",
     "output_type": "stream",
     "text": [
      "Adjusting learning rate of group 0 to 1.0000e-03.\n",
      "train_acc= 0.93\n",
      "train_loss = 0.18\n",
      "Epoch 5/20\n"
     ]
    },
    {
     "name": "stderr",
     "output_type": "stream",
     "text": [
      "100%|██████████| 212/212 [00:43<00:00,  4.86it/s]\n"
     ]
    },
    {
     "name": "stdout",
     "output_type": "stream",
     "text": [
      "Adjusting learning rate of group 0 to 1.0000e-03.\n",
      "train_acc= 0.93\n",
      "train_loss = 0.19\n",
      "Epoch 6/20\n"
     ]
    },
    {
     "name": "stderr",
     "output_type": "stream",
     "text": [
      "100%|██████████| 212/212 [00:43<00:00,  4.85it/s]\n"
     ]
    },
    {
     "name": "stdout",
     "output_type": "stream",
     "text": [
      "Adjusting learning rate of group 0 to 1.0000e-03.\n",
      "train_acc= 0.93\n",
      "train_loss = 0.19\n",
      "Epoch 7/20\n"
     ]
    },
    {
     "name": "stderr",
     "output_type": "stream",
     "text": [
      "100%|██████████| 212/212 [00:43<00:00,  4.85it/s]\n"
     ]
    },
    {
     "name": "stdout",
     "output_type": "stream",
     "text": [
      "Adjusting learning rate of group 0 to 1.0000e-03.\n",
      "train_acc= 0.93\n",
      "train_loss = 0.17\n",
      "Epoch 8/20\n"
     ]
    },
    {
     "name": "stderr",
     "output_type": "stream",
     "text": [
      "100%|██████████| 212/212 [00:43<00:00,  4.84it/s]\n"
     ]
    },
    {
     "name": "stdout",
     "output_type": "stream",
     "text": [
      "Adjusting learning rate of group 0 to 1.0000e-03.\n",
      "train_acc= 0.94\n",
      "train_loss = 0.15\n",
      "Epoch 9/20\n"
     ]
    },
    {
     "name": "stderr",
     "output_type": "stream",
     "text": [
      "100%|██████████| 212/212 [00:43<00:00,  4.84it/s]\n"
     ]
    },
    {
     "name": "stdout",
     "output_type": "stream",
     "text": [
      "Adjusting learning rate of group 0 to 1.0000e-03.\n",
      "train_acc= 0.94\n",
      "train_loss = 0.15\n",
      "Epoch 10/20\n"
     ]
    },
    {
     "name": "stderr",
     "output_type": "stream",
     "text": [
      "100%|██████████| 212/212 [00:43<00:00,  4.85it/s]\n"
     ]
    },
    {
     "name": "stdout",
     "output_type": "stream",
     "text": [
      "Adjusting learning rate of group 0 to 1.0000e-03.\n",
      "train_acc= 0.94\n",
      "train_loss = 0.16\n",
      "Epoch 11/20\n"
     ]
    },
    {
     "name": "stderr",
     "output_type": "stream",
     "text": [
      "100%|██████████| 212/212 [00:43<00:00,  4.83it/s]\n"
     ]
    },
    {
     "name": "stdout",
     "output_type": "stream",
     "text": [
      "Adjusting learning rate of group 0 to 1.0000e-03.\n",
      "train_acc= 0.95\n",
      "train_loss = 0.15\n",
      "Epoch 12/20\n"
     ]
    },
    {
     "name": "stderr",
     "output_type": "stream",
     "text": [
      "100%|██████████| 212/212 [00:43<00:00,  4.86it/s]\n"
     ]
    },
    {
     "name": "stdout",
     "output_type": "stream",
     "text": [
      "Adjusting learning rate of group 0 to 1.0000e-03.\n",
      "train_acc= 0.94\n",
      "train_loss = 0.15\n",
      "Epoch 13/20\n"
     ]
    },
    {
     "name": "stderr",
     "output_type": "stream",
     "text": [
      "100%|██████████| 212/212 [00:43<00:00,  4.84it/s]\n"
     ]
    },
    {
     "name": "stdout",
     "output_type": "stream",
     "text": [
      "Adjusting learning rate of group 0 to 1.0000e-03.\n",
      "train_acc= 0.94\n",
      "train_loss = 0.15\n",
      "Epoch 14/20\n"
     ]
    },
    {
     "name": "stderr",
     "output_type": "stream",
     "text": [
      "100%|██████████| 212/212 [00:43<00:00,  4.87it/s]\n"
     ]
    },
    {
     "name": "stdout",
     "output_type": "stream",
     "text": [
      "Adjusting learning rate of group 0 to 1.0000e-03.\n",
      "train_acc= 0.94\n",
      "train_loss = 0.14\n",
      "Epoch 15/20\n"
     ]
    },
    {
     "name": "stderr",
     "output_type": "stream",
     "text": [
      "100%|██████████| 212/212 [00:43<00:00,  4.85it/s]\n"
     ]
    },
    {
     "name": "stdout",
     "output_type": "stream",
     "text": [
      "Adjusting learning rate of group 0 to 1.0000e-04.\n",
      "train_acc= 0.94\n",
      "train_loss = 0.17\n",
      "Epoch 16/20\n"
     ]
    },
    {
     "name": "stderr",
     "output_type": "stream",
     "text": [
      "100%|██████████| 212/212 [00:43<00:00,  4.88it/s]\n"
     ]
    },
    {
     "name": "stdout",
     "output_type": "stream",
     "text": [
      "Adjusting learning rate of group 0 to 1.0000e-04.\n",
      "train_acc= 0.95\n",
      "train_loss = 0.13\n",
      "Epoch 17/20\n"
     ]
    },
    {
     "name": "stderr",
     "output_type": "stream",
     "text": [
      "100%|██████████| 212/212 [00:43<00:00,  4.87it/s]\n"
     ]
    },
    {
     "name": "stdout",
     "output_type": "stream",
     "text": [
      "Adjusting learning rate of group 0 to 1.0000e-04.\n",
      "train_acc= 0.95\n",
      "train_loss = 0.13\n",
      "Epoch 18/20\n"
     ]
    },
    {
     "name": "stderr",
     "output_type": "stream",
     "text": [
      "100%|██████████| 212/212 [00:43<00:00,  4.86it/s]\n"
     ]
    },
    {
     "name": "stdout",
     "output_type": "stream",
     "text": [
      "Adjusting learning rate of group 0 to 1.0000e-04.\n",
      "train_acc= 0.95\n",
      "train_loss = 0.13\n",
      "Epoch 19/20\n"
     ]
    },
    {
     "name": "stderr",
     "output_type": "stream",
     "text": [
      "100%|██████████| 212/212 [00:43<00:00,  4.84it/s]\n"
     ]
    },
    {
     "name": "stdout",
     "output_type": "stream",
     "text": [
      "Adjusting learning rate of group 0 to 1.0000e-04.\n",
      "train_acc= 0.95\n",
      "train_loss = 0.12\n",
      "Epoch 20/20\n"
     ]
    },
    {
     "name": "stderr",
     "output_type": "stream",
     "text": [
      "100%|██████████| 212/212 [00:43<00:00,  4.84it/s]\n"
     ]
    },
    {
     "name": "stdout",
     "output_type": "stream",
     "text": [
      "Adjusting learning rate of group 0 to 1.0000e-04.\n",
      "train_acc= 0.95\n",
      "train_loss = 0.12\n",
      "Testing\n"
     ]
    },
    {
     "name": "stderr",
     "output_type": "stream",
     "text": [
      "100%|██████████| 23/23 [00:03<00:00,  7.36it/s]\n"
     ]
    },
    {
     "name": "stdout",
     "output_type": "stream",
     "text": [
      "test_acc = 0.97\n",
      "test_loss = 0.07\n",
      "================= Block 7 Finished ==============\n",
      "Adjusting learning rate of group 0 to 1.0000e-03.\n",
      "Epoch 1/20\n"
     ]
    },
    {
     "name": "stderr",
     "output_type": "stream",
     "text": [
      "100%|██████████| 212/212 [00:45<00:00,  4.65it/s]\n"
     ]
    },
    {
     "name": "stdout",
     "output_type": "stream",
     "text": [
      "Adjusting learning rate of group 0 to 1.0000e-03.\n",
      "train_acc= 0.88\n",
      "train_loss = 8.42\n",
      "Epoch 2/20\n"
     ]
    },
    {
     "name": "stderr",
     "output_type": "stream",
     "text": [
      "100%|██████████| 212/212 [00:45<00:00,  4.65it/s]\n"
     ]
    },
    {
     "name": "stdout",
     "output_type": "stream",
     "text": [
      "Adjusting learning rate of group 0 to 1.0000e-03.\n",
      "train_acc= 0.93\n",
      "train_loss = 0.18\n",
      "Epoch 3/20\n"
     ]
    },
    {
     "name": "stderr",
     "output_type": "stream",
     "text": [
      "100%|██████████| 212/212 [00:46<00:00,  4.60it/s]\n"
     ]
    },
    {
     "name": "stdout",
     "output_type": "stream",
     "text": [
      "Adjusting learning rate of group 0 to 1.0000e-03.\n",
      "train_acc= 0.93\n",
      "train_loss = 0.19\n",
      "Epoch 4/20\n"
     ]
    },
    {
     "name": "stderr",
     "output_type": "stream",
     "text": [
      "100%|██████████| 212/212 [00:45<00:00,  4.65it/s]\n"
     ]
    },
    {
     "name": "stdout",
     "output_type": "stream",
     "text": [
      "Adjusting learning rate of group 0 to 1.0000e-03.\n",
      "train_acc= 0.93\n",
      "train_loss = 0.20\n",
      "Epoch 5/20\n"
     ]
    },
    {
     "name": "stderr",
     "output_type": "stream",
     "text": [
      "100%|██████████| 212/212 [00:45<00:00,  4.63it/s]\n"
     ]
    },
    {
     "name": "stdout",
     "output_type": "stream",
     "text": [
      "Adjusting learning rate of group 0 to 1.0000e-03.\n",
      "train_acc= 0.93\n",
      "train_loss = 0.20\n",
      "Epoch 6/20\n"
     ]
    },
    {
     "name": "stderr",
     "output_type": "stream",
     "text": [
      "100%|██████████| 212/212 [00:45<00:00,  4.63it/s]\n"
     ]
    },
    {
     "name": "stdout",
     "output_type": "stream",
     "text": [
      "Adjusting learning rate of group 0 to 1.0000e-03.\n",
      "train_acc= 0.93\n",
      "train_loss = 0.18\n",
      "Epoch 7/20\n"
     ]
    },
    {
     "name": "stderr",
     "output_type": "stream",
     "text": [
      "100%|██████████| 212/212 [00:45<00:00,  4.62it/s]\n"
     ]
    },
    {
     "name": "stdout",
     "output_type": "stream",
     "text": [
      "Adjusting learning rate of group 0 to 1.0000e-03.\n",
      "train_acc= 0.94\n",
      "train_loss = 0.17\n",
      "Epoch 8/20\n"
     ]
    },
    {
     "name": "stderr",
     "output_type": "stream",
     "text": [
      "100%|██████████| 212/212 [00:45<00:00,  4.66it/s]\n"
     ]
    },
    {
     "name": "stdout",
     "output_type": "stream",
     "text": [
      "Adjusting learning rate of group 0 to 1.0000e-03.\n",
      "train_acc= 0.93\n",
      "train_loss = 0.17\n",
      "Epoch 9/20\n"
     ]
    },
    {
     "name": "stderr",
     "output_type": "stream",
     "text": [
      "100%|██████████| 212/212 [00:45<00:00,  4.63it/s]\n"
     ]
    },
    {
     "name": "stdout",
     "output_type": "stream",
     "text": [
      "Adjusting learning rate of group 0 to 1.0000e-03.\n",
      "train_acc= 0.94\n",
      "train_loss = 0.17\n",
      "Epoch 10/20\n"
     ]
    },
    {
     "name": "stderr",
     "output_type": "stream",
     "text": [
      "100%|██████████| 212/212 [00:45<00:00,  4.65it/s]\n"
     ]
    },
    {
     "name": "stdout",
     "output_type": "stream",
     "text": [
      "Adjusting learning rate of group 0 to 1.0000e-03.\n",
      "train_acc= 0.94\n",
      "train_loss = 0.16\n",
      "Epoch 11/20\n"
     ]
    },
    {
     "name": "stderr",
     "output_type": "stream",
     "text": [
      "100%|██████████| 212/212 [00:45<00:00,  4.63it/s]\n"
     ]
    },
    {
     "name": "stdout",
     "output_type": "stream",
     "text": [
      "Adjusting learning rate of group 0 to 1.0000e-03.\n",
      "train_acc= 0.94\n",
      "train_loss = 0.16\n",
      "Epoch 12/20\n"
     ]
    },
    {
     "name": "stderr",
     "output_type": "stream",
     "text": [
      "100%|██████████| 212/212 [00:45<00:00,  4.65it/s]\n"
     ]
    },
    {
     "name": "stdout",
     "output_type": "stream",
     "text": [
      "Adjusting learning rate of group 0 to 1.0000e-03.\n",
      "train_acc= 0.94\n",
      "train_loss = 0.16\n",
      "Epoch 13/20\n"
     ]
    },
    {
     "name": "stderr",
     "output_type": "stream",
     "text": [
      "100%|██████████| 212/212 [00:45<00:00,  4.64it/s]\n"
     ]
    },
    {
     "name": "stdout",
     "output_type": "stream",
     "text": [
      "Adjusting learning rate of group 0 to 1.0000e-03.\n",
      "train_acc= 0.94\n",
      "train_loss = 0.16\n",
      "Epoch 14/20\n"
     ]
    },
    {
     "name": "stderr",
     "output_type": "stream",
     "text": [
      "100%|██████████| 212/212 [00:45<00:00,  4.65it/s]\n"
     ]
    },
    {
     "name": "stdout",
     "output_type": "stream",
     "text": [
      "Adjusting learning rate of group 0 to 1.0000e-03.\n",
      "train_acc= 0.94\n",
      "train_loss = 0.16\n",
      "Epoch 15/20\n"
     ]
    },
    {
     "name": "stderr",
     "output_type": "stream",
     "text": [
      "100%|██████████| 212/212 [00:45<00:00,  4.64it/s]\n"
     ]
    },
    {
     "name": "stdout",
     "output_type": "stream",
     "text": [
      "Adjusting learning rate of group 0 to 1.0000e-04.\n",
      "train_acc= 0.94\n",
      "train_loss = 0.16\n",
      "Epoch 16/20\n"
     ]
    },
    {
     "name": "stderr",
     "output_type": "stream",
     "text": [
      "100%|██████████| 212/212 [00:45<00:00,  4.63it/s]\n"
     ]
    },
    {
     "name": "stdout",
     "output_type": "stream",
     "text": [
      "Adjusting learning rate of group 0 to 1.0000e-04.\n",
      "train_acc= 0.95\n",
      "train_loss = 0.14\n",
      "Epoch 17/20\n"
     ]
    },
    {
     "name": "stderr",
     "output_type": "stream",
     "text": [
      "100%|██████████| 212/212 [00:45<00:00,  4.64it/s]\n"
     ]
    },
    {
     "name": "stdout",
     "output_type": "stream",
     "text": [
      "Adjusting learning rate of group 0 to 1.0000e-04.\n",
      "train_acc= 0.95\n",
      "train_loss = 0.14\n",
      "Epoch 18/20\n"
     ]
    },
    {
     "name": "stderr",
     "output_type": "stream",
     "text": [
      "100%|██████████| 212/212 [00:45<00:00,  4.64it/s]\n"
     ]
    },
    {
     "name": "stdout",
     "output_type": "stream",
     "text": [
      "Adjusting learning rate of group 0 to 1.0000e-04.\n",
      "train_acc= 0.94\n",
      "train_loss = 0.14\n",
      "Epoch 19/20\n"
     ]
    },
    {
     "name": "stderr",
     "output_type": "stream",
     "text": [
      "100%|██████████| 212/212 [00:45<00:00,  4.65it/s]\n"
     ]
    },
    {
     "name": "stdout",
     "output_type": "stream",
     "text": [
      "Adjusting learning rate of group 0 to 1.0000e-04.\n",
      "train_acc= 0.95\n",
      "train_loss = 0.14\n",
      "Epoch 20/20\n"
     ]
    },
    {
     "name": "stderr",
     "output_type": "stream",
     "text": [
      "100%|██████████| 212/212 [00:45<00:00,  4.64it/s]\n"
     ]
    },
    {
     "name": "stdout",
     "output_type": "stream",
     "text": [
      "Adjusting learning rate of group 0 to 1.0000e-04.\n",
      "train_acc= 0.95\n",
      "train_loss = 0.14\n",
      "Testing\n"
     ]
    },
    {
     "name": "stderr",
     "output_type": "stream",
     "text": [
      "100%|██████████| 23/23 [00:03<00:00,  7.06it/s]\n"
     ]
    },
    {
     "name": "stdout",
     "output_type": "stream",
     "text": [
      "test_acc = 0.97\n",
      "test_loss = 0.09\n",
      "================= Block 8 Finished ==============\n",
      "Adjusting learning rate of group 0 to 1.0000e-03.\n",
      "Epoch 1/20\n"
     ]
    },
    {
     "name": "stderr",
     "output_type": "stream",
     "text": [
      "100%|██████████| 212/212 [00:47<00:00,  4.47it/s]\n"
     ]
    },
    {
     "name": "stdout",
     "output_type": "stream",
     "text": [
      "Adjusting learning rate of group 0 to 1.0000e-03.\n",
      "train_acc= 0.89\n",
      "train_loss = 6.55\n",
      "Epoch 2/20\n"
     ]
    },
    {
     "name": "stderr",
     "output_type": "stream",
     "text": [
      "100%|██████████| 212/212 [00:47<00:00,  4.46it/s]\n"
     ]
    },
    {
     "name": "stdout",
     "output_type": "stream",
     "text": [
      "Adjusting learning rate of group 0 to 1.0000e-03.\n",
      "train_acc= 0.93\n",
      "train_loss = 0.20\n",
      "Epoch 3/20\n"
     ]
    },
    {
     "name": "stderr",
     "output_type": "stream",
     "text": [
      "100%|██████████| 212/212 [00:47<00:00,  4.44it/s]\n"
     ]
    },
    {
     "name": "stdout",
     "output_type": "stream",
     "text": [
      "Adjusting learning rate of group 0 to 1.0000e-03.\n",
      "train_acc= 0.92\n",
      "train_loss = 0.19\n",
      "Epoch 4/20\n"
     ]
    },
    {
     "name": "stderr",
     "output_type": "stream",
     "text": [
      "100%|██████████| 212/212 [00:47<00:00,  4.45it/s]\n"
     ]
    },
    {
     "name": "stdout",
     "output_type": "stream",
     "text": [
      "Adjusting learning rate of group 0 to 1.0000e-03.\n",
      "train_acc= 0.93\n",
      "train_loss = 0.18\n",
      "Epoch 5/20\n"
     ]
    },
    {
     "name": "stderr",
     "output_type": "stream",
     "text": [
      "100%|██████████| 212/212 [00:47<00:00,  4.45it/s]\n"
     ]
    },
    {
     "name": "stdout",
     "output_type": "stream",
     "text": [
      "Adjusting learning rate of group 0 to 1.0000e-03.\n",
      "train_acc= 0.92\n",
      "train_loss = 0.20\n",
      "Epoch 6/20\n"
     ]
    },
    {
     "name": "stderr",
     "output_type": "stream",
     "text": [
      "100%|██████████| 212/212 [00:47<00:00,  4.44it/s]\n"
     ]
    },
    {
     "name": "stdout",
     "output_type": "stream",
     "text": [
      "Adjusting learning rate of group 0 to 1.0000e-03.\n",
      "train_acc= 0.93\n",
      "train_loss = 0.20\n",
      "Epoch 7/20\n"
     ]
    },
    {
     "name": "stderr",
     "output_type": "stream",
     "text": [
      "100%|██████████| 212/212 [00:47<00:00,  4.43it/s]\n"
     ]
    },
    {
     "name": "stdout",
     "output_type": "stream",
     "text": [
      "Adjusting learning rate of group 0 to 1.0000e-03.\n",
      "train_acc= 0.93\n",
      "train_loss = 0.18\n",
      "Epoch 8/20\n"
     ]
    },
    {
     "name": "stderr",
     "output_type": "stream",
     "text": [
      "100%|██████████| 212/212 [00:47<00:00,  4.46it/s]\n"
     ]
    },
    {
     "name": "stdout",
     "output_type": "stream",
     "text": [
      "Adjusting learning rate of group 0 to 1.0000e-03.\n",
      "train_acc= 0.94\n",
      "train_loss = 0.16\n",
      "Epoch 9/20\n"
     ]
    },
    {
     "name": "stderr",
     "output_type": "stream",
     "text": [
      "100%|██████████| 212/212 [00:47<00:00,  4.44it/s]\n"
     ]
    },
    {
     "name": "stdout",
     "output_type": "stream",
     "text": [
      "Adjusting learning rate of group 0 to 1.0000e-03.\n",
      "train_acc= 0.94\n",
      "train_loss = 0.16\n",
      "Epoch 10/20\n"
     ]
    },
    {
     "name": "stderr",
     "output_type": "stream",
     "text": [
      "100%|██████████| 212/212 [00:47<00:00,  4.44it/s]\n"
     ]
    },
    {
     "name": "stdout",
     "output_type": "stream",
     "text": [
      "Adjusting learning rate of group 0 to 1.0000e-03.\n",
      "train_acc= 0.94\n",
      "train_loss = 0.16\n",
      "Epoch 11/20\n"
     ]
    },
    {
     "name": "stderr",
     "output_type": "stream",
     "text": [
      "100%|██████████| 212/212 [00:47<00:00,  4.44it/s]\n"
     ]
    },
    {
     "name": "stdout",
     "output_type": "stream",
     "text": [
      "Adjusting learning rate of group 0 to 1.0000e-03.\n",
      "train_acc= 0.94\n",
      "train_loss = 0.16\n",
      "Epoch 12/20\n"
     ]
    },
    {
     "name": "stderr",
     "output_type": "stream",
     "text": [
      "100%|██████████| 212/212 [00:47<00:00,  4.44it/s]\n"
     ]
    },
    {
     "name": "stdout",
     "output_type": "stream",
     "text": [
      "Adjusting learning rate of group 0 to 1.0000e-03.\n",
      "train_acc= 0.94\n",
      "train_loss = 0.17\n",
      "Epoch 13/20\n"
     ]
    },
    {
     "name": "stderr",
     "output_type": "stream",
     "text": [
      "100%|██████████| 212/212 [00:47<00:00,  4.44it/s]\n"
     ]
    },
    {
     "name": "stdout",
     "output_type": "stream",
     "text": [
      "Adjusting learning rate of group 0 to 1.0000e-03.\n",
      "train_acc= 0.94\n",
      "train_loss = 0.15\n",
      "Epoch 14/20\n"
     ]
    },
    {
     "name": "stderr",
     "output_type": "stream",
     "text": [
      "100%|██████████| 212/212 [00:47<00:00,  4.45it/s]\n"
     ]
    },
    {
     "name": "stdout",
     "output_type": "stream",
     "text": [
      "Adjusting learning rate of group 0 to 1.0000e-03.\n",
      "train_acc= 0.94\n",
      "train_loss = 0.15\n",
      "Epoch 15/20\n"
     ]
    },
    {
     "name": "stderr",
     "output_type": "stream",
     "text": [
      "100%|██████████| 212/212 [00:48<00:00,  4.41it/s]\n"
     ]
    },
    {
     "name": "stdout",
     "output_type": "stream",
     "text": [
      "Adjusting learning rate of group 0 to 1.0000e-04.\n",
      "train_acc= 0.94\n",
      "train_loss = 0.15\n",
      "Epoch 16/20\n"
     ]
    },
    {
     "name": "stderr",
     "output_type": "stream",
     "text": [
      "100%|██████████| 212/212 [00:47<00:00,  4.45it/s]\n"
     ]
    },
    {
     "name": "stdout",
     "output_type": "stream",
     "text": [
      "Adjusting learning rate of group 0 to 1.0000e-04.\n",
      "train_acc= 0.94\n",
      "train_loss = 0.14\n",
      "Epoch 17/20\n"
     ]
    },
    {
     "name": "stderr",
     "output_type": "stream",
     "text": [
      "100%|██████████| 212/212 [00:47<00:00,  4.44it/s]\n"
     ]
    },
    {
     "name": "stdout",
     "output_type": "stream",
     "text": [
      "Adjusting learning rate of group 0 to 1.0000e-04.\n",
      "train_acc= 0.94\n",
      "train_loss = 0.14\n",
      "Epoch 18/20\n"
     ]
    },
    {
     "name": "stderr",
     "output_type": "stream",
     "text": [
      "100%|██████████| 212/212 [00:47<00:00,  4.44it/s]\n"
     ]
    },
    {
     "name": "stdout",
     "output_type": "stream",
     "text": [
      "Adjusting learning rate of group 0 to 1.0000e-04.\n",
      "train_acc= 0.95\n",
      "train_loss = 0.14\n",
      "Epoch 19/20\n"
     ]
    },
    {
     "name": "stderr",
     "output_type": "stream",
     "text": [
      "100%|██████████| 212/212 [00:47<00:00,  4.43it/s]\n"
     ]
    },
    {
     "name": "stdout",
     "output_type": "stream",
     "text": [
      "Adjusting learning rate of group 0 to 1.0000e-04.\n",
      "train_acc= 0.95\n",
      "train_loss = 0.14\n",
      "Epoch 20/20\n"
     ]
    },
    {
     "name": "stderr",
     "output_type": "stream",
     "text": [
      "100%|██████████| 212/212 [00:47<00:00,  4.45it/s]\n"
     ]
    },
    {
     "name": "stdout",
     "output_type": "stream",
     "text": [
      "Adjusting learning rate of group 0 to 1.0000e-04.\n",
      "train_acc= 0.95\n",
      "train_loss = 0.14\n",
      "Testing\n"
     ]
    },
    {
     "name": "stderr",
     "output_type": "stream",
     "text": [
      "100%|██████████| 23/23 [00:03<00:00,  6.58it/s]\n"
     ]
    },
    {
     "name": "stdout",
     "output_type": "stream",
     "text": [
      "test_acc = 0.97\n",
      "test_loss = 0.10\n",
      "================= Block 9 Finished ==============\n",
      "Adjusting learning rate of group 0 to 1.0000e-03.\n",
      "Epoch 1/20\n"
     ]
    },
    {
     "name": "stderr",
     "output_type": "stream",
     "text": [
      "100%|██████████| 212/212 [00:49<00:00,  4.27it/s]\n"
     ]
    },
    {
     "name": "stdout",
     "output_type": "stream",
     "text": [
      "Adjusting learning rate of group 0 to 1.0000e-03.\n",
      "train_acc= 0.89\n",
      "train_loss = 16.37\n",
      "Epoch 2/20\n"
     ]
    },
    {
     "name": "stderr",
     "output_type": "stream",
     "text": [
      "100%|██████████| 212/212 [00:49<00:00,  4.27it/s]\n"
     ]
    },
    {
     "name": "stdout",
     "output_type": "stream",
     "text": [
      "Adjusting learning rate of group 0 to 1.0000e-03.\n",
      "train_acc= 0.92\n",
      "train_loss = 0.23\n",
      "Epoch 3/20\n"
     ]
    },
    {
     "name": "stderr",
     "output_type": "stream",
     "text": [
      "100%|██████████| 212/212 [00:49<00:00,  4.25it/s]\n"
     ]
    },
    {
     "name": "stdout",
     "output_type": "stream",
     "text": [
      "Adjusting learning rate of group 0 to 1.0000e-03.\n",
      "train_acc= 0.94\n",
      "train_loss = 0.19\n",
      "Epoch 4/20\n"
     ]
    },
    {
     "name": "stderr",
     "output_type": "stream",
     "text": [
      "100%|██████████| 212/212 [00:49<00:00,  4.27it/s]\n"
     ]
    },
    {
     "name": "stdout",
     "output_type": "stream",
     "text": [
      "Adjusting learning rate of group 0 to 1.0000e-03.\n",
      "train_acc= 0.93\n",
      "train_loss = 0.19\n",
      "Epoch 5/20\n"
     ]
    },
    {
     "name": "stderr",
     "output_type": "stream",
     "text": [
      "100%|██████████| 212/212 [00:49<00:00,  4.27it/s]\n"
     ]
    },
    {
     "name": "stdout",
     "output_type": "stream",
     "text": [
      "Adjusting learning rate of group 0 to 1.0000e-03.\n",
      "train_acc= 0.93\n",
      "train_loss = 0.17\n",
      "Epoch 6/20\n"
     ]
    },
    {
     "name": "stderr",
     "output_type": "stream",
     "text": [
      "100%|██████████| 212/212 [00:49<00:00,  4.26it/s]\n"
     ]
    },
    {
     "name": "stdout",
     "output_type": "stream",
     "text": [
      "Adjusting learning rate of group 0 to 1.0000e-03.\n",
      "train_acc= 0.93\n",
      "train_loss = 0.17\n",
      "Epoch 7/20\n"
     ]
    },
    {
     "name": "stderr",
     "output_type": "stream",
     "text": [
      "100%|██████████| 212/212 [00:49<00:00,  4.25it/s]\n"
     ]
    },
    {
     "name": "stdout",
     "output_type": "stream",
     "text": [
      "Adjusting learning rate of group 0 to 1.0000e-03.\n",
      "train_acc= 0.93\n",
      "train_loss = 0.18\n",
      "Epoch 8/20\n"
     ]
    },
    {
     "name": "stderr",
     "output_type": "stream",
     "text": [
      "100%|██████████| 212/212 [00:49<00:00,  4.26it/s]\n"
     ]
    },
    {
     "name": "stdout",
     "output_type": "stream",
     "text": [
      "Adjusting learning rate of group 0 to 1.0000e-03.\n",
      "train_acc= 0.93\n",
      "train_loss = 0.17\n",
      "Epoch 9/20\n"
     ]
    },
    {
     "name": "stderr",
     "output_type": "stream",
     "text": [
      "100%|██████████| 212/212 [00:49<00:00,  4.27it/s]\n"
     ]
    },
    {
     "name": "stdout",
     "output_type": "stream",
     "text": [
      "Adjusting learning rate of group 0 to 1.0000e-03.\n",
      "train_acc= 0.93\n",
      "train_loss = 0.22\n",
      "Epoch 10/20\n"
     ]
    },
    {
     "name": "stderr",
     "output_type": "stream",
     "text": [
      "100%|██████████| 212/212 [00:49<00:00,  4.27it/s]\n"
     ]
    },
    {
     "name": "stdout",
     "output_type": "stream",
     "text": [
      "Adjusting learning rate of group 0 to 1.0000e-03.\n",
      "train_acc= 0.94\n",
      "train_loss = 0.17\n",
      "Epoch 11/20\n"
     ]
    },
    {
     "name": "stderr",
     "output_type": "stream",
     "text": [
      "100%|██████████| 212/212 [00:49<00:00,  4.26it/s]\n"
     ]
    },
    {
     "name": "stdout",
     "output_type": "stream",
     "text": [
      "Adjusting learning rate of group 0 to 1.0000e-03.\n",
      "train_acc= 0.92\n",
      "train_loss = 0.24\n",
      "Epoch 12/20\n"
     ]
    },
    {
     "name": "stderr",
     "output_type": "stream",
     "text": [
      "100%|██████████| 212/212 [00:49<00:00,  4.26it/s]\n"
     ]
    },
    {
     "name": "stdout",
     "output_type": "stream",
     "text": [
      "Adjusting learning rate of group 0 to 1.0000e-03.\n",
      "train_acc= 0.93\n",
      "train_loss = 0.18\n",
      "Epoch 13/20\n"
     ]
    },
    {
     "name": "stderr",
     "output_type": "stream",
     "text": [
      "100%|██████████| 212/212 [00:49<00:00,  4.25it/s]\n"
     ]
    },
    {
     "name": "stdout",
     "output_type": "stream",
     "text": [
      "Adjusting learning rate of group 0 to 1.0000e-03.\n",
      "train_acc= 0.94\n",
      "train_loss = 0.20\n",
      "Epoch 14/20\n"
     ]
    },
    {
     "name": "stderr",
     "output_type": "stream",
     "text": [
      "100%|██████████| 212/212 [00:49<00:00,  4.29it/s]\n"
     ]
    },
    {
     "name": "stdout",
     "output_type": "stream",
     "text": [
      "Adjusting learning rate of group 0 to 1.0000e-03.\n",
      "train_acc= 0.94\n",
      "train_loss = 0.19\n",
      "Epoch 15/20\n"
     ]
    },
    {
     "name": "stderr",
     "output_type": "stream",
     "text": [
      "100%|██████████| 212/212 [00:49<00:00,  4.27it/s]\n"
     ]
    },
    {
     "name": "stdout",
     "output_type": "stream",
     "text": [
      "Adjusting learning rate of group 0 to 1.0000e-04.\n",
      "train_acc= 0.94\n",
      "train_loss = 0.18\n",
      "Epoch 16/20\n"
     ]
    },
    {
     "name": "stderr",
     "output_type": "stream",
     "text": [
      "100%|██████████| 212/212 [00:49<00:00,  4.26it/s]\n"
     ]
    },
    {
     "name": "stdout",
     "output_type": "stream",
     "text": [
      "Adjusting learning rate of group 0 to 1.0000e-04.\n",
      "train_acc= 0.94\n",
      "train_loss = 0.16\n",
      "Epoch 17/20\n"
     ]
    },
    {
     "name": "stderr",
     "output_type": "stream",
     "text": [
      "100%|██████████| 212/212 [00:49<00:00,  4.26it/s]\n"
     ]
    },
    {
     "name": "stdout",
     "output_type": "stream",
     "text": [
      "Adjusting learning rate of group 0 to 1.0000e-04.\n",
      "train_acc= 0.94\n",
      "train_loss = 0.16\n",
      "Epoch 18/20\n"
     ]
    },
    {
     "name": "stderr",
     "output_type": "stream",
     "text": [
      "100%|██████████| 212/212 [00:49<00:00,  4.27it/s]\n"
     ]
    },
    {
     "name": "stdout",
     "output_type": "stream",
     "text": [
      "Adjusting learning rate of group 0 to 1.0000e-04.\n",
      "train_acc= 0.95\n",
      "train_loss = 0.15\n",
      "Epoch 19/20\n"
     ]
    },
    {
     "name": "stderr",
     "output_type": "stream",
     "text": [
      "100%|██████████| 212/212 [00:49<00:00,  4.26it/s]\n"
     ]
    },
    {
     "name": "stdout",
     "output_type": "stream",
     "text": [
      "Adjusting learning rate of group 0 to 1.0000e-04.\n",
      "train_acc= 0.94\n",
      "train_loss = 0.15\n",
      "Epoch 20/20\n"
     ]
    },
    {
     "name": "stderr",
     "output_type": "stream",
     "text": [
      "100%|██████████| 212/212 [00:49<00:00,  4.25it/s]\n"
     ]
    },
    {
     "name": "stdout",
     "output_type": "stream",
     "text": [
      "Adjusting learning rate of group 0 to 1.0000e-04.\n",
      "train_acc= 0.94\n",
      "train_loss = 0.15\n",
      "Testing\n"
     ]
    },
    {
     "name": "stderr",
     "output_type": "stream",
     "text": [
      "100%|██████████| 23/23 [00:03<00:00,  6.18it/s]\n"
     ]
    },
    {
     "name": "stdout",
     "output_type": "stream",
     "text": [
      "test_acc = 0.97\n",
      "test_loss = 0.11\n",
      "================= Block 10 Finished ==============\n",
      "Adjusting learning rate of group 0 to 1.0000e-03.\n",
      "Epoch 1/20\n"
     ]
    },
    {
     "name": "stderr",
     "output_type": "stream",
     "text": [
      "100%|██████████| 212/212 [00:51<00:00,  4.12it/s]\n"
     ]
    },
    {
     "name": "stdout",
     "output_type": "stream",
     "text": [
      "Adjusting learning rate of group 0 to 1.0000e-03.\n",
      "train_acc= 0.88\n",
      "train_loss = 12.08\n",
      "Epoch 2/20\n"
     ]
    },
    {
     "name": "stderr",
     "output_type": "stream",
     "text": [
      "100%|██████████| 212/212 [00:51<00:00,  4.09it/s]\n"
     ]
    },
    {
     "name": "stdout",
     "output_type": "stream",
     "text": [
      "Adjusting learning rate of group 0 to 1.0000e-03.\n",
      "train_acc= 0.92\n",
      "train_loss = 0.24\n",
      "Epoch 3/20\n"
     ]
    },
    {
     "name": "stderr",
     "output_type": "stream",
     "text": [
      "100%|██████████| 212/212 [00:51<00:00,  4.09it/s]\n"
     ]
    },
    {
     "name": "stdout",
     "output_type": "stream",
     "text": [
      "Adjusting learning rate of group 0 to 1.0000e-03.\n",
      "train_acc= 0.93\n",
      "train_loss = 0.21\n",
      "Epoch 4/20\n"
     ]
    },
    {
     "name": "stderr",
     "output_type": "stream",
     "text": [
      "100%|██████████| 212/212 [00:51<00:00,  4.10it/s]\n"
     ]
    },
    {
     "name": "stdout",
     "output_type": "stream",
     "text": [
      "Adjusting learning rate of group 0 to 1.0000e-03.\n",
      "train_acc= 0.93\n",
      "train_loss = 0.19\n",
      "Epoch 5/20\n"
     ]
    },
    {
     "name": "stderr",
     "output_type": "stream",
     "text": [
      "100%|██████████| 212/212 [00:51<00:00,  4.08it/s]\n"
     ]
    },
    {
     "name": "stdout",
     "output_type": "stream",
     "text": [
      "Adjusting learning rate of group 0 to 1.0000e-03.\n",
      "train_acc= 0.92\n",
      "train_loss = 0.22\n",
      "Epoch 6/20\n"
     ]
    },
    {
     "name": "stderr",
     "output_type": "stream",
     "text": [
      "100%|██████████| 212/212 [00:51<00:00,  4.09it/s]\n"
     ]
    },
    {
     "name": "stdout",
     "output_type": "stream",
     "text": [
      "Adjusting learning rate of group 0 to 1.0000e-03.\n",
      "train_acc= 0.92\n",
      "train_loss = 0.22\n",
      "Epoch 7/20\n"
     ]
    },
    {
     "name": "stderr",
     "output_type": "stream",
     "text": [
      "100%|██████████| 212/212 [00:51<00:00,  4.09it/s]\n"
     ]
    },
    {
     "name": "stdout",
     "output_type": "stream",
     "text": [
      "Adjusting learning rate of group 0 to 1.0000e-03.\n",
      "train_acc= 0.92\n",
      "train_loss = 0.24\n",
      "Epoch 8/20\n"
     ]
    },
    {
     "name": "stderr",
     "output_type": "stream",
     "text": [
      "100%|██████████| 212/212 [00:51<00:00,  4.10it/s]\n"
     ]
    },
    {
     "name": "stdout",
     "output_type": "stream",
     "text": [
      "Adjusting learning rate of group 0 to 1.0000e-03.\n",
      "train_acc= 0.94\n",
      "train_loss = 0.16\n",
      "Epoch 9/20\n"
     ]
    },
    {
     "name": "stderr",
     "output_type": "stream",
     "text": [
      "100%|██████████| 212/212 [00:51<00:00,  4.09it/s]\n"
     ]
    },
    {
     "name": "stdout",
     "output_type": "stream",
     "text": [
      "Adjusting learning rate of group 0 to 1.0000e-03.\n",
      "train_acc= 0.94\n",
      "train_loss = 0.17\n",
      "Epoch 10/20\n"
     ]
    },
    {
     "name": "stderr",
     "output_type": "stream",
     "text": [
      "100%|██████████| 212/212 [00:51<00:00,  4.11it/s]\n"
     ]
    },
    {
     "name": "stdout",
     "output_type": "stream",
     "text": [
      "Adjusting learning rate of group 0 to 1.0000e-03.\n",
      "train_acc= 0.94\n",
      "train_loss = 0.16\n",
      "Epoch 11/20\n"
     ]
    },
    {
     "name": "stderr",
     "output_type": "stream",
     "text": [
      "100%|██████████| 212/212 [00:51<00:00,  4.10it/s]\n"
     ]
    },
    {
     "name": "stdout",
     "output_type": "stream",
     "text": [
      "Adjusting learning rate of group 0 to 1.0000e-03.\n",
      "train_acc= 0.94\n",
      "train_loss = 0.16\n",
      "Epoch 12/20\n"
     ]
    },
    {
     "name": "stderr",
     "output_type": "stream",
     "text": [
      "100%|██████████| 212/212 [00:51<00:00,  4.09it/s]\n"
     ]
    },
    {
     "name": "stdout",
     "output_type": "stream",
     "text": [
      "Adjusting learning rate of group 0 to 1.0000e-03.\n",
      "train_acc= 0.94\n",
      "train_loss = 0.16\n",
      "Epoch 13/20\n"
     ]
    },
    {
     "name": "stderr",
     "output_type": "stream",
     "text": [
      "100%|██████████| 212/212 [00:51<00:00,  4.10it/s]\n"
     ]
    },
    {
     "name": "stdout",
     "output_type": "stream",
     "text": [
      "Adjusting learning rate of group 0 to 1.0000e-03.\n",
      "train_acc= 0.94\n",
      "train_loss = 0.16\n",
      "Epoch 14/20\n"
     ]
    },
    {
     "name": "stderr",
     "output_type": "stream",
     "text": [
      "100%|██████████| 212/212 [00:51<00:00,  4.11it/s]\n"
     ]
    },
    {
     "name": "stdout",
     "output_type": "stream",
     "text": [
      "Adjusting learning rate of group 0 to 1.0000e-03.\n",
      "train_acc= 0.94\n",
      "train_loss = 0.16\n",
      "Epoch 15/20\n"
     ]
    },
    {
     "name": "stderr",
     "output_type": "stream",
     "text": [
      "100%|██████████| 212/212 [00:51<00:00,  4.10it/s]\n"
     ]
    },
    {
     "name": "stdout",
     "output_type": "stream",
     "text": [
      "Adjusting learning rate of group 0 to 1.0000e-04.\n",
      "train_acc= 0.94\n",
      "train_loss = 0.16\n",
      "Epoch 16/20\n"
     ]
    },
    {
     "name": "stderr",
     "output_type": "stream",
     "text": [
      "100%|██████████| 212/212 [00:51<00:00,  4.09it/s]\n"
     ]
    },
    {
     "name": "stdout",
     "output_type": "stream",
     "text": [
      "Adjusting learning rate of group 0 to 1.0000e-04.\n",
      "train_acc= 0.94\n",
      "train_loss = 0.15\n",
      "Epoch 17/20\n"
     ]
    },
    {
     "name": "stderr",
     "output_type": "stream",
     "text": [
      "100%|██████████| 212/212 [00:51<00:00,  4.09it/s]\n"
     ]
    },
    {
     "name": "stdout",
     "output_type": "stream",
     "text": [
      "Adjusting learning rate of group 0 to 1.0000e-04.\n",
      "train_acc= 0.94\n",
      "train_loss = 0.15\n",
      "Epoch 18/20\n"
     ]
    },
    {
     "name": "stderr",
     "output_type": "stream",
     "text": [
      "100%|██████████| 212/212 [00:51<00:00,  4.09it/s]\n"
     ]
    },
    {
     "name": "stdout",
     "output_type": "stream",
     "text": [
      "Adjusting learning rate of group 0 to 1.0000e-04.\n",
      "train_acc= 0.94\n",
      "train_loss = 0.15\n",
      "Epoch 19/20\n"
     ]
    },
    {
     "name": "stderr",
     "output_type": "stream",
     "text": [
      "100%|██████████| 212/212 [00:51<00:00,  4.09it/s]\n"
     ]
    },
    {
     "name": "stdout",
     "output_type": "stream",
     "text": [
      "Adjusting learning rate of group 0 to 1.0000e-04.\n",
      "train_acc= 0.94\n",
      "train_loss = 0.14\n",
      "Epoch 20/20\n"
     ]
    },
    {
     "name": "stderr",
     "output_type": "stream",
     "text": [
      "100%|██████████| 212/212 [00:51<00:00,  4.09it/s]\n"
     ]
    },
    {
     "name": "stdout",
     "output_type": "stream",
     "text": [
      "Adjusting learning rate of group 0 to 1.0000e-04.\n",
      "train_acc= 0.94\n",
      "train_loss = 0.15\n",
      "Testing\n"
     ]
    },
    {
     "name": "stderr",
     "output_type": "stream",
     "text": [
      "100%|██████████| 23/23 [00:03<00:00,  5.78it/s]\n"
     ]
    },
    {
     "name": "stdout",
     "output_type": "stream",
     "text": [
      "test_acc = 0.97\n",
      "test_loss = 0.10\n",
      "================= Block 11 Finished ==============\n"
     ]
    },
    {
     "ename": "",
     "evalue": "",
     "output_type": "error",
     "traceback": [
      "\u001b[1;31mThe Kernel crashed while executing code in the the current cell or a previous cell. Please review the code in the cell(s) to identify a possible cause of the failure. Click <a href='https://aka.ms/vscodeJupyterKernelCrash'>here</a> for more info. View Jupyter <a href='command:jupyter.viewOutput'>log</a> for further details."
     ]
    }
   ],
   "source": [
    "from mlp import Classifier\n",
    "\n",
    "# os.environ['CUDA_DEVICE_ORDER'] = 'PCI_BUS_ID'\n",
    "# os.environ['CUDA_VISIBLE_DEVICES']= '4'\n",
    "\n",
    "epochs = 100\n",
    "lr = 1e-3\n",
    "\n",
    "vit = 'models/vit_base_patch16_224_in21k_test-accuracy_0.96_chest.pth'\n",
    "image_size = (224,224)\n",
    "batch_size = 30\n",
    "\n",
    "model = torch.load(vit).cuda()\n",
    "\n",
    "for w in model.parameters(): \n",
    "    w.requires_grad = False\n",
    "\n",
    "root_dir = \"adv_data/TB_adversarial_data/\"\n",
    "data_loader, image_dataset = data.data_loader(root_dir=root_dir, batch_size= batch_size, image_size=image_size)\n",
    "\n",
    "\n",
    "test_list = {f'block_{i}': [] for i in range(12)}\n",
    "epochs = 20\n",
    "lr = 1e-3\n",
    "for index in range(12): \n",
    "    classifier = Classifier(num_classes=2).cuda()\n",
    "    criterion = nn.CrossEntropyLoss()\n",
    "    optimizer = optim.Adam(classifier.parameters(),lr = lr)\n",
    "    scheduler = StepLR(optimizer=optimizer, step_size=15, gamma=0.1, verbose=True)\n",
    "\n",
    "    classifier.train()\n",
    "    for epoch in range(epochs): \n",
    "        train_acc = 0.0\n",
    "        train_loss = 0.0 \n",
    "        print(f'Epoch {epoch+1}/{epochs}')\n",
    "        for image, label in tqdm(data_loader['train']):\n",
    "            image = image.cuda()\n",
    "            label = label.cuda()\n",
    "            x = model.patch_embed(image)\n",
    "            x = torch.cat((model.cls_token.expand(x.shape[0], -1, -1), x), dim=1)\n",
    "            x = model.pos_drop(x + model.pos_embed)\n",
    "            for i in range(index+1):\n",
    "                x = model.blocks[i](x)\n",
    "            # output = classifier(x[:,0,:])\n",
    "            output = classifier(x[:,1:,:])\n",
    "            prediction = torch.argmax(output , dim= -1)\n",
    "            loss = criterion(output, label)\n",
    "\n",
    "            optimizer.zero_grad()\n",
    "            loss.backward()\n",
    "            optimizer.step()\n",
    "\n",
    "            train_loss += loss.item()\n",
    "            acc = sum(prediction == label).float().item()/len(label)\n",
    "            train_acc += acc \n",
    "            \n",
    "        scheduler.step() \n",
    "        train_acc = train_acc/len(data_loader['train'])   \n",
    "        train_loss = train_loss/len(data_loader['train'])\n",
    "        print(f'train_acc= {train_acc:.2f}')\n",
    "        print (f'train_loss = {train_loss:.2f}')    \n",
    "    \n",
    "    #Test loop \n",
    "    print('Testing')\n",
    "    classifier.eval()\n",
    "    test_acc = 0.0\n",
    "    test_loss = 0.0\n",
    "\n",
    "    with torch.no_grad(): \n",
    "        for image, label in tqdm(data_loader['test']):\n",
    "            image = image.cuda()\n",
    "            label = label.cuda()\n",
    "            x = model.patch_embed(image)\n",
    "            x = torch.cat((model.cls_token.expand(x.shape[0], -1, -1), x), dim=1)\n",
    "            x = model.pos_drop(x + model.pos_embed)\n",
    "            for i in range(index+1):\n",
    "                x = model.blocks[i](x)\n",
    "            output = classifier(x[:,1:,:])\n",
    "            loss = criterion(output, label)\n",
    "            acc = sum(torch.argmax(output, dim=-1) == label).float().item()/len(label)\n",
    "            test_acc += acc\n",
    "            test_loss += loss.item()\n",
    "    test_acc = test_acc/len(data_loader['test'])\n",
    "    test_loss = test_loss/len(data_loader['test'])\n",
    "    print(f'test_acc = {test_acc:.2f}')\n",
    "    print (f'test_loss = {test_loss:.2f}')\n",
    "    test_list[f'block_{index}'].append(test_acc)\n",
    "    print(f'================= Block {index} Finished ==============')\n",
    "    \n",
    "    save_pth = f'ReVIT/adv_train_models/mlps/mlp_block_{index}_train_acc{train_acc:.2f}_test_acc{test_acc:.2f}.pth'\n",
    "    torch.save(classifier, save_pth)\n",
    "\n",
    "with open(\"accuracy_list_chest_mlp_cls_latest\", \"wb\") as fp:   #Pickling\n",
    "     pickle.dump(test_list, fp)"
   ]
  },
  {
   "attachments": {},
   "cell_type": "markdown",
   "metadata": {},
   "source": [
    "# 2. Training CNN modules"
   ]
  },
  {
   "cell_type": "code",
   "execution_count": null,
   "metadata": {},
   "outputs": [],
   "source": [
    "from ReVIT.CNN import CNN\n",
    "\n",
    "# os.environ['CUDA_DEVICE_ORDER'] = 'PCI_BUS_ID'\n",
    "# os.environ['CUDA_VISIBLE_DEVICES']= '4'\n",
    "\n",
    "epochs = 100\n",
    "lr = 1e-3\n",
    "\n",
    "vit = 'models/vit_base_patch16_224_in21k_test-accuracy_0.96_chest.pth'\n",
    "image_size = (224,224)\n",
    "batch_size = 30\n",
    "\n",
    "model = torch.load(vit).cuda()\n",
    "\n",
    "for w in model.parameters(): \n",
    "    w.requires_grad = False\n",
    "\n",
    "root_dir = \"adv_data/TB_adversarial_data\"\n",
    "data_loader, image_dataset = data.data_loader(root_dir=root_dir, batch_size= batch_size, image_size=image_size)\n",
    "\n",
    "\n",
    "test_list = {f'block_{i}': [] for i in range(12)}\n",
    "epochs = 20\n",
    "lr = 1e-3\n",
    "for index in range(12): \n",
    "    classifier = CNN(num_classes=2).cuda()\n",
    "    criterion = nn.CrossEntropyLoss()\n",
    "    optimizer = optim.Adam(classifier.parameters(),lr = lr)\n",
    "    scheduler = StepLR(optimizer=optimizer, step_size=15, gamma=0.1, verbose=True)\n",
    "\n",
    "    classifier.train()\n",
    "    for epoch in range(epochs):\n",
    "        train_acc = 0.0\n",
    "        train_loss = 0.0 \n",
    "        print(f'Epoch {epoch+1}/{epochs}')\n",
    "        for image, label in tqdm(data_loader['train']):\n",
    "            image = image.cuda()\n",
    "            label = label.cuda()\n",
    "            x = model.patch_embed(image)\n",
    "            x = torch.cat((model.cls_token.expand(x.shape[0], -1, -1), x), dim=1)\n",
    "            x = model.pos_drop(x + model.pos_embed)\n",
    "            for i in range(index+1):\n",
    "                x = model.blocks[i](x)\n",
    "            # output = classifier(x[:,0,:])\n",
    "            output = classifier(x[:,1:,:])\n",
    "            prediction = torch.argmax(output , dim= -1)\n",
    "            loss = criterion(output, label)\n",
    "\n",
    "            optimizer.zero_grad()\n",
    "            loss.backward()\n",
    "            optimizer.step()\n",
    "\n",
    "            train_loss += loss.item()\n",
    "            acc = sum(prediction == label).float().item()/len(label)\n",
    "            train_acc += acc \n",
    "            \n",
    "        scheduler.step() \n",
    "        train_acc = train_acc/len(data_loader['train'])   \n",
    "        train_loss = train_loss/len(data_loader['train'])\n",
    "        print(f'train_acc= {train_acc:.2f}')\n",
    "        print (f'train_loss = {train_loss:.2f}')    \n",
    "    \n",
    "    #Test loop \n",
    "    print('Testing')\n",
    "    classifier.eval()\n",
    "    test_acc = 0.0\n",
    "    test_loss = 0.0\n",
    "\n",
    "    with torch.no_grad(): \n",
    "        for image, label in tqdm(data_loader['test']):\n",
    "            image = image.cuda()\n",
    "            label = label.cuda()\n",
    "            x = model.patch_embed(image)\n",
    "            x = torch.cat((model.cls_token.expand(x.shape[0], -1, -1), x), dim=1)\n",
    "            x = model.pos_drop(x + model.pos_embed)\n",
    "            for i in range(index+1):\n",
    "                x = model.blocks[i](x)\n",
    "            output = classifier(x[:,1:,:])\n",
    "            loss = criterion(output, label)\n",
    "            acc = sum(torch.argmax(output, dim=-1) == label).float().item()/len(label)\n",
    "            test_acc += acc\n",
    "            test_loss += loss.item()\n",
    "    test_acc = test_acc/len(data_loader['test'])\n",
    "    test_loss = test_loss/len(data_loader['test'])\n",
    "    print(f'test_acc = {test_acc:.2f}')\n",
    "    print (f'test_loss = {test_loss:.2f}')\n",
    "    test_list[f'block_{index}'].append(test_acc)\n",
    "    print(f'================= Block {index} Finished ==============')\n",
    "    \n",
    "    save_pth = f'ReVIT/adv_train_models/cnns/cnn_block_{index}_train_acc{train_acc:.2f}_test_acc{test_acc:.2f}.pth'\n",
    "    torch.save(classifier, save_pth)\n",
    "\n",
    "with open(\"accuracy_list_chest_mlp_cls_latest\", \"wb\") as fp:   #Pickling\n",
    "     pickle.dump(test_list, fp)"
   ]
  },
  {
   "attachments": {},
   "cell_type": "markdown",
   "metadata": {},
   "source": [
    "# 3. Training ResNet_FT"
   ]
  },
  {
   "cell_type": "code",
   "execution_count": null,
   "metadata": {},
   "outputs": [],
   "source": [
    "from ReVIT.ResnetFT import ResNet18\n",
    "\n",
    "# os.environ['CUDA_DEVICE_ORDER'] = 'PCI_BUS_ID'\n",
    "# os.environ['CUDA_VISIBLE_DEVICES']= '4'\n",
    "\n",
    "epochs = 100\n",
    "lr = 1e-3\n",
    "\n",
    "vit = 'models/vit_base_patch16_224_in21k_test-accuracy_0.96_chest.pth'\n",
    "image_size = (224,224)\n",
    "batch_size = 30\n",
    "\n",
    "model = torch.load(vit).cuda()\n",
    "\n",
    "for w in model.parameters(): \n",
    "    w.requires_grad = False\n",
    "\n",
    "root_dir = \"adv_data/TB_adversarial_data\"\n",
    "data_loader, image_dataset = data.data_loader(root_dir=root_dir, batch_size= batch_size, image_size=image_size)\n",
    "\n",
    "\n",
    "test_list = {f'block_{i}': [] for i in range(12)}\n",
    "epochs = 20\n",
    "lr = 1e-3\n",
    "for index in range(12): \n",
    "    classifier = ResNet18(num_classes=2).cuda()\n",
    "    criterion = nn.CrossEntropyLoss()\n",
    "    optimizer = optim.Adam(classifier.parameters(),lr = lr)\n",
    "    scheduler = StepLR(optimizer=optimizer, step_size=15, gamma=0.1, verbose=True)\n",
    "\n",
    "    classifier.train()\n",
    "    for epoch in range(epochs):\n",
    "        train_acc = 0.0\n",
    "        train_loss = 0.0 \n",
    "        print(f'Epoch {epoch+1}/{epochs}')\n",
    "        for image, label in tqdm(data_loader['train']):\n",
    "            image = image.cuda()\n",
    "            label = label.cuda()\n",
    "            x = model.patch_embed(image)\n",
    "            x = torch.cat((model.cls_token.expand(x.shape[0], -1, -1), x), dim=1)\n",
    "            x = model.pos_drop(x + model.pos_embed)\n",
    "            for i in range(index+1):\n",
    "                x = model.blocks[i](x)\n",
    "            # output = classifier(x[:,0,:])\n",
    "            output = classifier(x[:,1:,:])\n",
    "            prediction = torch.argmax(output , dim= -1)\n",
    "            loss = criterion(output, label)\n",
    "\n",
    "            optimizer.zero_grad()\n",
    "            loss.backward()\n",
    "            optimizer.step()\n",
    "\n",
    "            train_loss += loss.item()\n",
    "            acc = sum(prediction == label).float().item()/len(label)\n",
    "            train_acc += acc \n",
    "            \n",
    "        scheduler.step() \n",
    "        train_acc = train_acc/len(data_loader['train'])   \n",
    "        train_loss = train_loss/len(data_loader['train'])\n",
    "        print(f'train_acc= {train_acc:.2f}')\n",
    "        print (f'train_loss = {train_loss:.2f}')    \n",
    "    \n",
    "    #Test loop \n",
    "    print('Testing')\n",
    "    classifier.eval()\n",
    "    test_acc = 0.0\n",
    "    test_loss = 0.0\n",
    "\n",
    "    with torch.no_grad(): \n",
    "        for image, label in tqdm(data_loader['test']):\n",
    "            image = image.cuda()\n",
    "            label = label.cuda()\n",
    "            x = model.patch_embed(image)\n",
    "            x = torch.cat((model.cls_token.expand(x.shape[0], -1, -1), x), dim=1)\n",
    "            x = model.pos_drop(x + model.pos_embed)\n",
    "            for i in range(index+1):\n",
    "                x = model.blocks[i](x)\n",
    "            output = classifier(x[:,1:,:])\n",
    "            loss = criterion(output, label)\n",
    "            acc = sum(torch.argmax(output, dim=-1) == label).float().item()/len(label)\n",
    "            test_acc += acc\n",
    "            test_loss += loss.item()\n",
    "    test_acc = test_acc/len(data_loader['test'])\n",
    "    test_loss = test_loss/len(data_loader['test'])\n",
    "    print(f'test_acc = {test_acc:.2f}')\n",
    "    print (f'test_loss = {test_loss:.2f}')\n",
    "    test_list[f'block_{index}'].append(test_acc)\n",
    "    print(f'================= Block {index} Finished ==============')\n",
    "    \n",
    "    save_pth = f'ReVIT/adv_train_models/resnets_ft/resnet_ft_block_{index}_train_acc{train_acc:.2f}_test_acc{test_acc:.2f}.pth'\n",
    "    torch.save(classifier, save_pth)\n",
    "\n",
    "with open(\"accuracy_list_chest_mlp_cls_latest\", \"wb\") as fp:   #Pickling\n",
    "     pickle.dump(test_list, fp)"
   ]
  },
  {
   "attachments": {},
   "cell_type": "markdown",
   "metadata": {},
   "source": [
    "# 4. Training ResNet_TL"
   ]
  },
  {
   "cell_type": "code",
   "execution_count": null,
   "metadata": {},
   "outputs": [],
   "source": [
    "from ReVIT.ResnetTL import ResNet18\n",
    "\n",
    "# os.environ['CUDA_DEVICE_ORDER'] = 'PCI_BUS_ID'\n",
    "# os.environ['CUDA_VISIBLE_DEVICES']= '4'\n",
    "\n",
    "epochs = 100\n",
    "lr = 1e-3\n",
    "\n",
    "vit = 'models/vit_base_patch16_224_in21k_test-accuracy_0.96_chest.pth'\n",
    "image_size = (224,224)\n",
    "batch_size = 30\n",
    "\n",
    "model = torch.load(vit).cuda()\n",
    "\n",
    "for w in model.parameters(): \n",
    "    w.requires_grad = False\n",
    "\n",
    "root_dir = \"adv_data/TB_adversarial_data\"\n",
    "data_loader, image_dataset = data.data_loader(root_dir=root_dir, batch_size= batch_size, image_size=image_size)\n",
    "\n",
    "\n",
    "test_list = {f'block_{i}': [] for i in range(12)}\n",
    "epochs = 20\n",
    "lr = 1e-3\n",
    "for index in range(12): \n",
    "    classifier = ResNet18(num_classes=2).cuda()\n",
    "    criterion = nn.CrossEntropyLoss()\n",
    "    optimizer = optim.Adam(classifier.parameters(),lr = lr)\n",
    "    scheduler = StepLR(optimizer=optimizer, step_size=15, gamma=0.1, verbose=True)\n",
    "\n",
    "    classifier.train()\n",
    "    for epoch in range(epochs):\n",
    "        train_acc = 0.0\n",
    "        train_loss = 0.0 \n",
    "        print(f'Epoch {epoch+1}/{epochs}')\n",
    "        for image, label in tqdm(data_loader['train']):\n",
    "            image = image.cuda()\n",
    "            label = label.cuda()\n",
    "            x = model.patch_embed(image)\n",
    "            x = torch.cat((model.cls_token.expand(x.shape[0], -1, -1), x), dim=1)\n",
    "            x = model.pos_drop(x + model.pos_embed)\n",
    "            for i in range(index+1):\n",
    "                x = model.blocks[i](x)\n",
    "            # output = classifier(x[:,0,:])\n",
    "            output = classifier(x[:,1:,:])\n",
    "            prediction = torch.argmax(output , dim= -1)\n",
    "            loss = criterion(output, label)\n",
    "\n",
    "            optimizer.zero_grad()\n",
    "            loss.backward()\n",
    "            optimizer.step()\n",
    "\n",
    "            train_loss += loss.item()\n",
    "            acc = sum(prediction == label).float().item()/len(label)\n",
    "            train_acc += acc \n",
    "            \n",
    "        scheduler.step() \n",
    "        train_acc = train_acc/len(data_loader['train'])   \n",
    "        train_loss = train_loss/len(data_loader['train'])\n",
    "        print(f'train_acc= {train_acc:.2f}')\n",
    "        print (f'train_loss = {train_loss:.2f}')    \n",
    "    \n",
    "    #Test loop \n",
    "    print('Testing')\n",
    "    classifier.eval()\n",
    "    test_acc = 0.0\n",
    "    test_loss = 0.0\n",
    "\n",
    "    with torch.no_grad(): \n",
    "        for image, label in tqdm(data_loader['test']):\n",
    "            image = image.cuda()\n",
    "            label = label.cuda()\n",
    "            x = model.patch_embed(image)\n",
    "            x = torch.cat((model.cls_token.expand(x.shape[0], -1, -1), x), dim=1)\n",
    "            x = model.pos_drop(x + model.pos_embed)\n",
    "            for i in range(index+1):\n",
    "                x = model.blocks[i](x)\n",
    "            output = classifier(x[:,1:,:])\n",
    "            loss = criterion(output, label)\n",
    "            acc = sum(torch.argmax(output, dim=-1) == label).float().item()/len(label)\n",
    "            test_acc += acc\n",
    "            test_loss += loss.item()\n",
    "    test_acc = test_acc/len(data_loader['test'])\n",
    "    test_loss = test_loss/len(data_loader['test'])\n",
    "    print(f'test_acc = {test_acc:.2f}')\n",
    "    print (f'test_loss = {test_loss:.2f}')\n",
    "    test_list[f'block_{index}'].append(test_acc)\n",
    "    print(f'================= Block {index} Finished ==============')\n",
    "    \n",
    "    save_pth = f'ReVIT/adv_train_models/resnets_tl/resnet_tl_block_{index}_train_acc{train_acc:.2f}_test_acc{test_acc:.2f}.pth'\n",
    "    torch.save(classifier, save_pth)\n",
    "\n",
    "with open(\"accuracy_list_chest_mlp_cls_latest\", \"wb\") as fp:   #Pickling\n",
    "     pickle.dump(test_list, fp)"
   ]
  },
  {
   "attachments": {},
   "cell_type": "markdown",
   "metadata": {},
   "source": [
    "# 5. Training ResNet_FT_CNN"
   ]
  },
  {
   "cell_type": "code",
   "execution_count": null,
   "metadata": {},
   "outputs": [],
   "source": [
    "from ReVIT.ResnetFT_CNN import ResNet18\n",
    "\n",
    "# os.environ['CUDA_DEVICE_ORDER'] = 'PCI_BUS_ID'\n",
    "# os.environ['CUDA_VISIBLE_DEVICES']= '4'\n",
    "\n",
    "epochs = 100\n",
    "lr = 1e-3\n",
    "\n",
    "vit = 'models/vit_base_patch16_224_in21k_test-accuracy_0.96_chest.pth'\n",
    "image_size = (224,224)\n",
    "batch_size = 30\n",
    "\n",
    "model = torch.load(vit).cuda()\n",
    "\n",
    "for w in model.parameters(): \n",
    "    w.requires_grad = False\n",
    "\n",
    "root_dir = \"adv_data/TB_adversarial_data\"\n",
    "data_loader, image_dataset = data.data_loader(root_dir=root_dir, batch_size= batch_size, image_size=image_size)\n",
    "\n",
    "\n",
    "test_list = {f'block_{i}': [] for i in range(12)}\n",
    "epochs = 20\n",
    "lr = 1e-3\n",
    "for index in range(12): \n",
    "    classifier = ResNet18(num_classes=2).cuda()\n",
    "    criterion = nn.CrossEntropyLoss()\n",
    "    optimizer = optim.Adam(classifier.parameters(),lr = lr)\n",
    "    scheduler = StepLR(optimizer=optimizer, step_size=15, gamma=0.1, verbose=True)\n",
    "\n",
    "    classifier.train()\n",
    "    for epoch in range(epochs):\n",
    "        train_acc = 0.0\n",
    "        train_loss = 0.0 \n",
    "        print(f'Epoch {epoch+1}/{epochs}')\n",
    "        for image, label in tqdm(data_loader['train']):\n",
    "            image = image.cuda()\n",
    "            label = label.cuda()\n",
    "            x = model.patch_embed(image)\n",
    "            x = torch.cat((model.cls_token.expand(x.shape[0], -1, -1), x), dim=1)\n",
    "            x = model.pos_drop(x + model.pos_embed)\n",
    "            for i in range(index+1):\n",
    "                x = model.blocks[i](x)\n",
    "            # output = classifier(x[:,0,:])\n",
    "            output = classifier(x[:,1:,:])\n",
    "            prediction = torch.argmax(output , dim= -1)\n",
    "            loss = criterion(output, label)\n",
    "\n",
    "            optimizer.zero_grad()\n",
    "            loss.backward()\n",
    "            optimizer.step()\n",
    "\n",
    "            train_loss += loss.item()\n",
    "            acc = sum(prediction == label).float().item()/len(label)\n",
    "            train_acc += acc \n",
    "            \n",
    "        scheduler.step() \n",
    "        train_acc = train_acc/len(data_loader['train'])   \n",
    "        train_loss = train_loss/len(data_loader['train'])\n",
    "        print(f'train_acc= {train_acc:.2f}')\n",
    "        print (f'train_loss = {train_loss:.2f}')    \n",
    "    \n",
    "    #Test loop \n",
    "    print('Testing')\n",
    "    classifier.eval()\n",
    "    test_acc = 0.0\n",
    "    test_loss = 0.0\n",
    "\n",
    "    with torch.no_grad(): \n",
    "        for image, label in tqdm(data_loader['test']):\n",
    "            image = image.cuda()\n",
    "            label = label.cuda()\n",
    "            x = model.patch_embed(image)\n",
    "            x = torch.cat((model.cls_token.expand(x.shape[0], -1, -1), x), dim=1)\n",
    "            x = model.pos_drop(x + model.pos_embed)\n",
    "            for i in range(index+1):\n",
    "                x = model.blocks[i](x)\n",
    "            output = classifier(x[:,1:,:])\n",
    "            loss = criterion(output, label)\n",
    "            acc = sum(torch.argmax(output, dim=-1) == label).float().item()/len(label)\n",
    "            test_acc += acc\n",
    "            test_loss += loss.item()\n",
    "    test_acc = test_acc/len(data_loader['test'])\n",
    "    test_loss = test_loss/len(data_loader['test'])\n",
    "    print(f'test_acc = {test_acc:.2f}')\n",
    "    print (f'test_loss = {test_loss:.2f}')\n",
    "    test_list[f'block_{index}'].append(test_acc)\n",
    "    print(f'================= Block {index} Finished ==============')\n",
    "    \n",
    "    save_pth = f'ReVIT/adv_train_models/resnets_ft_cnn/resnet_ft_cnn_block_{index}_train_acc{train_acc:.2f}_test_acc{test_acc:.2f}.pth'\n",
    "    torch.save(classifier, save_pth)\n",
    "\n",
    "with open(\"accuracy_list_chest_mlp_cls_latest\", \"wb\") as fp:   #Pickling\n",
    "     pickle.dump(test_list, fp)"
   ]
  },
  {
   "attachments": {},
   "cell_type": "markdown",
   "metadata": {},
   "source": [
    "# 6. Training ResNet_TL_CNN"
   ]
  },
  {
   "cell_type": "code",
   "execution_count": null,
   "metadata": {},
   "outputs": [],
   "source": [
    "from ReVIT.ResnetTL_CNN import ResNet18\n",
    "\n",
    "# os.environ['CUDA_DEVICE_ORDER'] = 'PCI_BUS_ID'\n",
    "# os.environ['CUDA_VISIBLE_DEVICES']= '4'\n",
    "\n",
    "epochs = 100\n",
    "lr = 1e-3\n",
    "\n",
    "vit = 'models/vit_base_patch16_224_in21k_test-accuracy_0.96_chest.pth'\n",
    "image_size = (224,224)\n",
    "batch_size = 30\n",
    "\n",
    "model = torch.load(vit).cuda()\n",
    "\n",
    "for w in model.parameters(): \n",
    "    w.requires_grad = False\n",
    "\n",
    "root_dir = \"adv_data/TB_adversarial_data\"\n",
    "data_loader, image_dataset = data.data_loader(root_dir=root_dir, batch_size= batch_size, image_size=image_size)\n",
    "\n",
    "\n",
    "test_list = {f'block_{i}': [] for i in range(12)}\n",
    "epochs = 20\n",
    "lr = 1e-3\n",
    "for index in range(12): \n",
    "    classifier = ResNet18(num_classes=2).cuda()\n",
    "    criterion = nn.CrossEntropyLoss()\n",
    "    optimizer = optim.Adam(classifier.parameters(),lr = lr)\n",
    "    scheduler = StepLR(optimizer=optimizer, step_size=15, gamma=0.1, verbose=True)\n",
    "\n",
    "    classifier.train()\n",
    "    for epoch in range(epochs):\n",
    "        train_acc = 0.0\n",
    "        train_loss = 0.0 \n",
    "        print(f'Epoch {epoch+1}/{epochs}')\n",
    "        for image, label in tqdm(data_loader['train']):\n",
    "            image = image.cuda()\n",
    "            label = label.cuda()\n",
    "            x = model.patch_embed(image)\n",
    "            x = torch.cat((model.cls_token.expand(x.shape[0], -1, -1), x), dim=1)\n",
    "            x = model.pos_drop(x + model.pos_embed)\n",
    "            for i in range(index+1):\n",
    "                x = model.blocks[i](x)\n",
    "            # output = classifier(x[:,0,:])\n",
    "            output = classifier(x[:,1:,:])\n",
    "            prediction = torch.argmax(output , dim= -1)\n",
    "            loss = criterion(output, label)\n",
    "\n",
    "            optimizer.zero_grad()\n",
    "            loss.backward()\n",
    "            optimizer.step()\n",
    "\n",
    "            train_loss += loss.item()\n",
    "            acc = sum(prediction == label).float().item()/len(label)\n",
    "            train_acc += acc \n",
    "            \n",
    "        scheduler.step() \n",
    "        train_acc = train_acc/len(data_loader['train'])   \n",
    "        train_loss = train_loss/len(data_loader['train'])\n",
    "        print(f'train_acc= {train_acc:.2f}')\n",
    "        print (f'train_loss = {train_loss:.2f}')    \n",
    "    \n",
    "    #Test loop \n",
    "    print('Testing')\n",
    "    classifier.eval()\n",
    "    test_acc = 0.0\n",
    "    test_loss = 0.0\n",
    "\n",
    "    with torch.no_grad(): \n",
    "        for image, label in tqdm(data_loader['test']):\n",
    "            image = image.cuda()\n",
    "            label = label.cuda()\n",
    "            x = model.patch_embed(image)\n",
    "            x = torch.cat((model.cls_token.expand(x.shape[0], -1, -1), x), dim=1)\n",
    "            x = model.pos_drop(x + model.pos_embed)\n",
    "            for i in range(index+1):\n",
    "                x = model.blocks[i](x)\n",
    "            output = classifier(x[:,1:,:])\n",
    "            loss = criterion(output, label)\n",
    "            acc = sum(torch.argmax(output, dim=-1) == label).float().item()/len(label)\n",
    "            test_acc += acc\n",
    "            test_loss += loss.item()\n",
    "    test_acc = test_acc/len(data_loader['test'])\n",
    "    test_loss = test_loss/len(data_loader['test'])\n",
    "    print(f'test_acc = {test_acc:.2f}')\n",
    "    print (f'test_loss = {test_loss:.2f}')\n",
    "    test_list[f'block_{index}'].append(test_acc)\n",
    "    print(f'================= Block {index} Finished ==============')\n",
    "    \n",
    "    save_pth = f'ReVIT/adv_train_models/resnets_tl_cnn/resnet_tl_cnn_block_{index}_train_acc{train_acc:.2f}_test_acc{test_acc:.2f}.pth'\n",
    "    torch.save(classifier, save_pth)\n",
    "\n",
    "with open(\"accuracy_list_chest_mlp_cls_latest\", \"wb\") as fp:   #Pickling\n",
    "     pickle.dump(test_list, fp)"
   ]
  },
  {
   "cell_type": "code",
   "execution_count": null,
   "metadata": {},
   "outputs": [],
   "source": [
    "x = torch.randn(30, 196, 768)\n",
    "# print(x.shape)\n",
    "\n",
    "import torch.nn as nn\n",
    "import torch\n",
    "\n",
    "# This is what Faris told\n",
    "class CNN(nn.Module):\n",
    "    \"\"\"\n",
    "    CNN classifier. \n",
    "    Args:\n",
    "        num_classes -> number of classes \n",
    "        in_features -> features dimension\n",
    "    Return: logits. \n",
    "    \"\"\"\n",
    "    def __init__(self, num_classes=2, in_features=196*768):\n",
    "        super().__init__()\n",
    "        self.conv1 = nn.Conv2d(in_channels=768, out_channels=128, kernel_size=3, padding=1)\n",
    "        self.relu1 = nn.ReLU(inplace=True)\n",
    "        self.pool1 = nn.MaxPool2d(kernel_size=2, stride=2)\n",
    "        self.conv2 = nn.Conv2d(in_channels=128, out_channels=64, kernel_size=3, padding=1)\n",
    "        self.relu2 = nn.ReLU(inplace=True)\n",
    "        self.pool2 = nn.MaxPool2d(kernel_size=2, stride=2)\n",
    "        self.flatten = nn.Flatten()\n",
    "        self.linear1 = nn.Linear(in_features=3*3*64, out_features=128)\n",
    "        self.relu3 = nn.ReLU(inplace=True)\n",
    "        self.linear2 = nn.Linear(in_features=128, out_features=num_classes)\n",
    "\n",
    "    def forward(self, x):\n",
    "        print(x.shape)\n",
    "        # x = x.view(-1, 768, 14, 14) # reshape patches to image-like format\n",
    "        x = x.reshape(-1, 768, 14, 14)\n",
    "        # print(x.shape)\n",
    "        x = self.conv1(x)\n",
    "        x = self.relu1(x)\n",
    "        x = self.pool1(x)\n",
    "        x = self.conv2(x)\n",
    "        x = self.relu2(x)\n",
    "        x = self.pool2(x)\n",
    "        # print(x.shape)\n",
    "        x = self.flatten(x)\n",
    "        # print(x.shape)\n",
    "        x = self.linear1(x)\n",
    "        x = self.relu3(x)\n",
    "        x = self.linear2(x)\n",
    "        print(x.shape)\n",
    "        return x\n",
    "    \n",
    "import torch.nn as nn \n",
    "import torch\n",
    "\n",
    "class Mlp(nn.Module): \n",
    "    \"\"\"\n",
    "    MLP classifier. \n",
    "    Args:\n",
    "        num_classes -> number of classes \n",
    "        in_feature -> features dimension\n",
    "\n",
    "    return logits. \n",
    "    \n",
    "    \"\"\"\n",
    "    def __init__(self,num_classes=2 ,in_features = 768*196):\n",
    "        \n",
    "        super().__init__()\n",
    "        self.linear1 = nn.Linear(in_features= in_features, out_features= 4096)\n",
    "        self.linear2 = nn.Linear(in_features= 4096, out_features= 2048)\n",
    "        self.linear3 = nn.Linear(in_features= 2048, out_features= 128)\n",
    "        self.linear4 = nn.Linear(in_features= 128, out_features= num_classes)\n",
    "        self.dropout = nn.Dropout(0.3)\n",
    "    \n",
    "    def forward(self,x):\n",
    "        print(x.shape)\n",
    "        x= x.reshape(-1, 196*768)\n",
    "        x = nn.functional.relu(self.linear1(x))\n",
    "        x = nn.functional.relu(self.linear2(x))\n",
    "        x = nn.functional.relu(self.linear3(x))\n",
    "        x = self.linear4(x)\n",
    "        print(x.shape)\n",
    "        return x\n",
    "\n",
    "import torch.nn as nn\n",
    "import torchvision.models as models\n",
    "\n",
    "class ResNet18_FT(nn.Module):\n",
    "    \"\"\"\n",
    "    ResNet18 classifier. \n",
    "    Args:\n",
    "        num_classes -> number of classes \n",
    "        in_features -> features dimension\n",
    "    Return: logits. \n",
    "    \"\"\"\n",
    "    def __init__(self, num_classes=2, in_features=196*768):\n",
    "        super().__init__()\n",
    "        self.conv1 = nn.Conv2d(in_channels=768, out_channels=64, kernel_size=7, stride=2, padding=3, bias=False)\n",
    "        self.bn1 = nn.BatchNorm2d(64)\n",
    "        self.relu = nn.ReLU(inplace=True)\n",
    "        self.maxpool = nn.MaxPool2d(kernel_size=3, stride=2, padding=1)\n",
    "        self.resnet18 = models.resnet18(pretrained=True)\n",
    "        self.resnet18.fc = nn.Linear(512, num_classes)\n",
    "\n",
    "    def forward(self, x):\n",
    "        print(x.shape)\n",
    "        x = x.reshape(-1, 768, 14, 14) # reshape patches to image-like format\n",
    "        print(x.shape)\n",
    "        x = self.conv1(x)\n",
    "        x = self.bn1(x)\n",
    "        x = self.relu(x)\n",
    "        x = self.maxpool(x)\n",
    "        # print(x.shape)\n",
    "        print(\"HI\")\n",
    "        x = self.resnet18.layer1(x)\n",
    "        print(\"HI\")\n",
    "        x = self.resnet18.layer2(x)\n",
    "        x = self.resnet18.layer3(x)\n",
    "        x = self.resnet18.layer4(x)\n",
    "        x = self.resnet18.avgpool(x)\n",
    "        x = x.view(x.size(0), -1)\n",
    "        x = self.resnet18.fc(x)\n",
    "        print(x.shape)\n",
    "        return x\n",
    "\n",
    "\n",
    "class ResNet18_TL(nn.Module):\n",
    "    \"\"\"\n",
    "    ResNet18 classifier. \n",
    "    Args:\n",
    "        num_classes -> number of classes \n",
    "        in_features -> features dimension\n",
    "    Return: logits. \n",
    "    \"\"\"\n",
    "    def __init__(self, num_classes=2, in_features=196*768, freeze=True):\n",
    "        super().__init__()\n",
    "        self.conv1 = nn.Conv2d(in_channels=768, out_channels=64, kernel_size=7, stride=2, padding=3, bias=False)\n",
    "        self.bn1 = nn.BatchNorm2d(64)\n",
    "        self.relu = nn.ReLU(inplace=True)\n",
    "        self.maxpool = nn.MaxPool2d(kernel_size=3, stride=2, padding=1)\n",
    "        self.resnet18 = models.resnet18(pretrained=True)\n",
    "\n",
    "        # Freeze layers\n",
    "        if freeze:\n",
    "            for param in self.resnet18.parameters():\n",
    "                param.requires_grad = False\n",
    "\n",
    "        self.resnet18.fc = nn.Linear(512, num_classes)\n",
    "\n",
    "    def forward(self, x):\n",
    "        print(x.shape)\n",
    "        x = x.reshape(-1, 768, 14, 14) # reshape patches to image-like format\n",
    "        print(x.shape)\n",
    "        x = self.conv1(x)\n",
    "        x = self.bn1(x)\n",
    "        x = self.relu(x)\n",
    "        x = self.maxpool(x)\n",
    "        x = self.resnet18.layer1(x)\n",
    "        x = self.resnet18.layer2(x)\n",
    "        x = self.resnet18.layer3(x)\n",
    "        x = self.resnet18.layer4(x)\n",
    "        x = self.resnet18.avgpool(x)\n",
    "        x = x.view(x.size(0), -1)\n",
    "        x = self.resnet18.fc(x)\n",
    "        print(x.shape)\n",
    "        return x\n",
    "\n",
    "\n",
    "class ResNet18_FT_CNN(nn.Module):\n",
    "    \"\"\"\n",
    "    ResNet18 classifier. \n",
    "    Args:\n",
    "        num_classes -> number of classes \n",
    "        in_features -> features dimension\n",
    "    Return: logits. \n",
    "    \"\"\"\n",
    "    def __init__(self, num_classes=2, in_features=196*768):\n",
    "        super().__init__()\n",
    "        self.conv1 = nn.Conv2d(in_channels=768, out_channels=64, kernel_size=7, stride=2, padding=3, bias=False)\n",
    "        self.bn1 = nn.BatchNorm2d(64)\n",
    "        self.relu = nn.ReLU(inplace=True)\n",
    "        self.maxpool = nn.MaxPool2d(kernel_size=3, stride=2, padding=1)\n",
    "        self.resnet18 = models.resnet18(pretrained=True)\n",
    "        self.additional_convs = nn.Sequential(\n",
    "            nn.Conv2d(in_channels=512, out_channels=128, kernel_size=3, stride=1, padding=1),\n",
    "            nn.BatchNorm2d(128),\n",
    "            nn.ReLU(inplace=True),\n",
    "            nn.Conv2d(in_channels=128, out_channels=64, kernel_size=3, stride=1, padding=1),\n",
    "            nn.BatchNorm2d(64),\n",
    "            nn.ReLU(inplace=True),\n",
    "            nn.Conv2d(in_channels=64, out_channels=32, kernel_size=3, stride=1, padding=1),\n",
    "            nn.BatchNorm2d(32),\n",
    "            nn.ReLU(inplace=True),\n",
    "        )\n",
    "        self.resnet18.fc = nn.Linear(32, num_classes)\n",
    "\n",
    "    def forward(self, x):\n",
    "        print(x.shape)\n",
    "        x = x.reshape(-1, 768, 14, 14) # reshape patches to image-like format\n",
    "        print(x.shape)\n",
    "        x = self.conv1(x)\n",
    "        x = self.bn1(x)\n",
    "        x = self.relu(x)\n",
    "        x = self.maxpool(x)\n",
    "        x = self.resnet18.layer1(x)\n",
    "        x = self.resnet18.layer2(x)\n",
    "        x = self.resnet18.layer3(x)\n",
    "        x = self.resnet18.layer4(x)\n",
    "        x = self.additional_convs(x) # pass through additional conv layers\n",
    "        x = self.resnet18.avgpool(x)\n",
    "        x = x.view(x.size(0), -1)\n",
    "        x = self.resnet18.fc(x)\n",
    "        print(x.shape)\n",
    "        return x\n",
    "\n",
    "import torch.nn as nn\n",
    "import torchvision.models as models\n",
    "\n",
    "class ResNet18_TL_CNN(nn.Module):\n",
    "    \"\"\"\n",
    "    ResNet18 classifier. \n",
    "    Args:\n",
    "        num_classes -> number of classes \n",
    "        in_features -> features dimension\n",
    "    Return: logits. \n",
    "    \"\"\"\n",
    "    def __init__(self, num_classes=2, in_features=196*768):\n",
    "        super().__init__()\n",
    "        self.conv1 = nn.Conv2d(in_channels=768, out_channels=64, kernel_size=7, stride=2, padding=3, bias=False)\n",
    "        self.bn1 = nn.BatchNorm2d(64)\n",
    "        self.relu = nn.ReLU(inplace=True)\n",
    "        self.maxpool = nn.MaxPool2d(kernel_size=3, stride=2, padding=1)\n",
    "        self.resnet18 = models.resnet18(pretrained=True)\n",
    "        \n",
    "        # Freeze ResNet layers\n",
    "        for param in self.resnet18.parameters():\n",
    "            param.requires_grad = False\n",
    "        \n",
    "        self.additional_convs = nn.Sequential(\n",
    "            nn.Conv2d(in_channels=512, out_channels=128, kernel_size=3, stride=1, padding=1),\n",
    "            nn.BatchNorm2d(128),\n",
    "            nn.ReLU(inplace=True),\n",
    "            nn.Conv2d(in_channels=128, out_channels=64, kernel_size=3, stride=1, padding=1),\n",
    "            nn.BatchNorm2d(64),\n",
    "            nn.ReLU(inplace=True),\n",
    "            nn.Conv2d(in_channels=64, out_channels=32, kernel_size=3, stride=1, padding=1),\n",
    "            nn.BatchNorm2d(32),\n",
    "            nn.ReLU(inplace=True),\n",
    "        )\n",
    "        self.resnet18.fc = nn.Linear(32, num_classes)\n",
    "\n",
    "    def forward(self, x):\n",
    "        print(x.shape)\n",
    "        x = x.reshape(-1, 768, 14, 14) # reshape patches to image-like format\n",
    "        print(x.shape)\n",
    "        x = self.conv1(x)\n",
    "        x = self.bn1(x)\n",
    "        x = self.relu(x)\n",
    "        x = self.maxpool(x)\n",
    "        x = self.resnet18.layer1(x)\n",
    "        x = self.resnet18.layer2(x)\n",
    "        x = self.resnet18.layer3(x)\n",
    "        x = self.resnet18.layer4(x)\n",
    "        x = self.additional_convs(x) # pass through additional conv layers\n",
    "        x = self.resnet18.avgpool(x)\n",
    "        x = x.view(x.size(0), -1)\n",
    "        x = self.resnet18.fc(x)\n",
    "        print(x.shape)\n",
    "        return x\n",
    "\n",
    "\n",
    "# clf = CNN()\n",
    "# # print(clf)\n",
    "# output = clf(x)\n",
    "# countParams(clf)\n",
    "\n",
    "# mlp = Mlp()\n",
    "# output = clf(x)\n",
    "# countParams(mlp)\n",
    "\n",
    "# resnet = ResNet18_FT()\n",
    "# output = resnet(x)\n",
    "# countParams(resnet)\n",
    "\n",
    "# resnet = ResNet18_TL()\n",
    "# output = resnet(x)\n",
    "# countParams(resnet)\n",
    "\n",
    "# resnet = ResNet18_FT_CNN()\n",
    "# output = resnet(x)\n",
    "# countParams(resnet)\n",
    "\n",
    "resnet = ResNet18_TL_CNN()\n",
    "output = resnet(x)\n",
    "countParams(resnet)"
   ]
  },
  {
   "attachments": {},
   "cell_type": "markdown",
   "metadata": {},
   "source": [
    "# Testing"
   ]
  },
  {
   "cell_type": "code",
   "execution_count": null,
   "metadata": {},
   "outputs": [],
   "source": [
    "def test_clfs(mlps_list, data_loader, mlp_root_dir, model):\n",
    "    length = (len(mlps_list))\n",
    "    print(length)\n",
    "    # test_list = {f'block_{i}': [] for i in range(length)}\n",
    "    # test_acc = 0.0\n",
    "    # test_loss = 0.0\n",
    "    # criterion = nn.CrossEntropyLoss()\n",
    "\n",
    "    for index in range(length): \n",
    "        acc_avg = 0.0\n",
    "        mlp_in = os.path.join(mlp_root_dir, mlps_list[index])\n",
    "        print(mlp_in)\n",
    "        print(mlp_in, f\": MLP at index {index} has been loaded\")\n",
    "        classifier = torch.load(mlp_in).cuda()\n",
    "        classifier.eval()\n",
    "        data_loader_test = data_loader['test']\n",
    "\n",
    "        with torch.no_grad(): \n",
    "            for image, label in tqdm(data_loader_test):\n",
    "                image = image.cuda()\n",
    "                label = label.cuda()\n",
    "                x = model.patch_embed(image)\n",
    "                x = torch.cat((model.cls_token.expand(x.shape[0], -1, -1), x), dim=1)\n",
    "                x = model.pos_drop(x + model.pos_embed)\n",
    "                for i in range(index+1):\n",
    "                    x = model.blocks[i](x)\n",
    "                output = classifier(x[:,1:,:])\n",
    "                predictions = torch.argmax(output, dim=-1)\n",
    "                acc = torch.sum(predictions == label).item()/len(label)\n",
    "                acc_avg += acc\n",
    "            print(f'Accuracy of block {index} = {(acc_avg/len(data_loader_test)):.3f}')\n",
    "        print(f'================= Block {index} Finished ==============')\n"
   ]
  },
  {
   "attachments": {},
   "cell_type": "markdown",
   "metadata": {},
   "source": [
    "### \\__main\\__"
   ]
  },
  {
   "cell_type": "code",
   "execution_count": null,
   "metadata": {},
   "outputs": [],
   "source": [
    "# __main__\n",
    "# mlp\n",
    "root_dir = \"adv_data/TB_adversarial_data\"\n",
    "mlp_path = 'ReVIT/adv_train_models/mlps'\n",
    "vit = 'models/vit_base_patch16_224_in21k_test-accuracy_0.96_chest.pth'\n",
    "\n",
    "loader_, dataset_ = data.data_loader(root_dir=root_dir)\n",
    "model = torch.load(vit).cuda()\n",
    "model.eval()\n",
    "\n",
    "mlps_list = sorted(os.listdir(mlp_path))\n",
    "print(mlps_list)\n",
    "acc = test_clfs(mlps_list= mlps_list, data_loader=loader_, mlp_root_dir=mlp_path, model=model)"
   ]
  },
  {
   "cell_type": "code",
   "execution_count": null,
   "metadata": {},
   "outputs": [],
   "source": [
    "# __main__\n",
    "# cnns\n",
    "root_dir = \"adv_data/TB_adversarial_data\"\n",
    "cnns_path = 'ReVIT/adv_train_models/cnns'\n",
    "vit = 'models/vit_base_patch16_224_in21k_test-accuracy_0.96_chest.pth'\n",
    "\n",
    "loader_, dataset_ = data.data_loader(root_dir=root_dir)\n",
    "model = torch.load(vit).cuda()\n",
    "model.eval()\n",
    "\n",
    "cnns_list = sorted(os.listdir(cnns_path))\n",
    "print(cnns_list)\n",
    "acc = test_clfs(mlps_list= cnns_list, data_loader=loader_, mlp_root_dir=cnns_path, model=model)"
   ]
  },
  {
   "cell_type": "code",
   "execution_count": null,
   "metadata": {},
   "outputs": [],
   "source": [
    "# __main__\n",
    "# resnets_ft\n",
    "root_dir = \"adv_data/TB_adversarial_data\"\n",
    "resnets_ft_path = 'ReVIT/adv_train_models/resnets_ft'\n",
    "vit = 'models/vit_base_patch16_224_in21k_test-accuracy_0.96_chest.pth'\n",
    "\n",
    "loader_, dataset_ = data.data_loader(root_dir=root_dir)\n",
    "model = torch.load(vit).cuda()\n",
    "model.eval()\n",
    "\n",
    "resnets_ft_list = sorted(os.listdir(resnets_ft_path))\n",
    "print(resnets_ft_list)\n",
    "acc = test_clfs(mlps_list= resnets_ft_list, data_loader=loader_, mlp_root_dir=resnets_ft_path, model=model)"
   ]
  },
  {
   "cell_type": "code",
   "execution_count": null,
   "metadata": {},
   "outputs": [],
   "source": [
    "# __main__\n",
    "# resnets_tl\n",
    "root_dir = \"adv_data/TB_adversarial_data\"\n",
    "resnets_tl_path = 'ReVIT/adv_train_models/resnets_tl'\n",
    "vit = 'models/vit_base_patch16_224_in21k_test-accuracy_0.96_chest.pth'\n",
    "\n",
    "loader_, dataset_ = data.data_loader(root_dir=root_dir)\n",
    "model = torch.load(vit).cuda()\n",
    "model.eval()\n",
    "\n",
    "resnets_tl_list = sorted(os.listdir(resnets_tl_path))\n",
    "print(resnets_tl_list)\n",
    "acc = test_clfs(mlps_list= resnets_tl_list, data_loader=loader_, mlp_root_dir=resnets_tl_path, model=model)"
   ]
  }
 ],
 "metadata": {
  "kernelspec": {
   "display_name": "Python 3",
   "language": "python",
   "name": "python3"
  },
  "language_info": {
   "codemirror_mode": {
    "name": "ipython",
    "version": 3
   },
   "file_extension": ".py",
   "mimetype": "text/x-python",
   "name": "python",
   "nbconvert_exporter": "python",
   "pygments_lexer": "ipython3",
   "version": "3.8.13"
  },
  "orig_nbformat": 4,
  "vscode": {
   "interpreter": {
    "hash": "89ade8f41426f99352904e8be2cf333ad690b99e026c88e03d1f284bef19dc61"
   }
  }
 },
 "nbformat": 4,
 "nbformat_minor": 2
}
