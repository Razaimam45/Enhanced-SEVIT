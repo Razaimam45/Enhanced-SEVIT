{
 "cells": [
  {
   "cell_type": "code",
   "execution_count": 3,
   "metadata": {},
   "outputs": [],
   "source": [
    "# import os\n",
    "# import shutil\n",
    "# import pandas as pd\n",
    "\n",
    "# # Read metadata CSV\n",
    "# metadata = pd.read_csv('dataAux/shenzhen_metadata.csv')\n",
    "\n",
    "# # Create output directories\n",
    "# os.makedirs('Normal', exist_ok=True)\n",
    "# os.makedirs('Tuberculosis', exist_ok=True)\n",
    "\n",
    "# # Loop over images and copy to appropriate directory\n",
    "# for idx, row in metadata.iterrows():\n",
    "#     filename = row['study_id']\n",
    "#     src_path = os.path.join('dataAux/images/images/', filename)\n",
    "#     # print(src_path)\n",
    "#     if row['findings'] == 'normal':\n",
    "#         dst_path = os.path.join('Normal', filename)\n",
    "#     else:\n",
    "#         dst_path = os.path.join('Tuberculosis', filename)\n",
    "#     shutil.copyfile(src_path, dst_path)\n"
   ]
  },
  {
   "cell_type": "code",
   "execution_count": 4,
   "metadata": {},
   "outputs": [],
   "source": [
    "# import os\n",
    "# import shutil\n",
    "# import random\n",
    "\n",
    "# # set the path to the original dataset\n",
    "# dataset_path = \"dataAux\"\n",
    "\n",
    "# # set the paths for the train, test, and validation sets\n",
    "# train_path = \"data/TB_data_Aux_Shenzen/training\"\n",
    "# test_path = \"data/TB_data_Aux_Shenzen/testing\"\n",
    "# val_path = \"data/TB_data_Aux_Shenzen/validation\"\n",
    "\n",
    "# # create the train, test, and validation sub-folders\n",
    "# os.makedirs(train_path + \"/Normal\")\n",
    "# os.makedirs(train_path + \"/Tuberculosis\")\n",
    "# os.makedirs(test_path + \"/Normal\")\n",
    "# os.makedirs(test_path + \"/Tuberculosis\")\n",
    "# os.makedirs(val_path + \"/Normal\")\n",
    "# os.makedirs(val_path + \"/Tuberculosis\")\n",
    "\n",
    "# # set the percentage split for the train, test, and validation sets\n",
    "# train_pct = 0.8\n",
    "# test_pct = 0.1\n",
    "# val_pct = 0.1\n",
    "\n",
    "# # loop through the original dataset and move images to their respective set folders\n",
    "# for class_name in os.listdir(dataset_path):\n",
    "#     class_path = os.path.join(dataset_path, class_name)\n",
    "#     if os.path.isdir(class_path):\n",
    "#         images = os.listdir(class_path)\n",
    "#         num_images = len(images)\n",
    "#         train_size = int(num_images * train_pct)\n",
    "#         test_size = int(num_images * test_pct)\n",
    "#         val_size = num_images - train_size - test_size\n",
    "#         random.shuffle(images)\n",
    "#         for i, img in enumerate(images):\n",
    "#             img_path = os.path.join(class_path, img)\n",
    "#             if i < train_size:\n",
    "#                 if class_name == \"Normal\":\n",
    "#                     shutil.copy2(img_path, train_path + \"/Normal/\" + img)\n",
    "#                 else:\n",
    "#                     shutil.copy2(img_path, train_path + \"/Tuberculosis/\" + img)\n",
    "#             elif i < train_size + test_size:\n",
    "#                 if class_name == \"Normal\":\n",
    "#                     shutil.copy2(img_path, test_path + \"/Normal/\" + img)\n",
    "#                 else:\n",
    "#                     shutil.copy2(img_path, test_path + \"/Tuberculosis/\" + img)\n",
    "#             else:\n",
    "#                 if class_name == \"Normal\":\n",
    "#                     shutil.copy2(img_path, val_path + \"/Normal/\" + img)\n",
    "#                 else:\n",
    "#                     shutil.copy2(img_path, val_path + \"/Tuberculosis/\" + img)\n"
   ]
  },
  {
   "cell_type": "code",
   "execution_count": null,
   "metadata": {},
   "outputs": [],
   "source": [
    "import numpy as np\n",
    "from sklearn.tree import DecisionTreeRegressor\n",
    "\n",
    "# Choose a target model\n",
    "def target_model(x):\n",
    "    return np.sin(x)\n",
    "\n",
    "# Prepare a training dataset\n",
    "train_inputs = np.random.rand(100, 1)\n",
    "train_outputs = target_model(train_inputs)\n",
    "\n",
    "# Choose a surrogate model architecture\n",
    "surrogate_model = DecisionTreeRegressor(max_depth=3)\n",
    "\n",
    "# Train the surrogate model\n",
    "surrogate_model.fit(train_inputs, train_outputs)\n",
    "\n",
    "# Evaluate the surrogate model\n",
    "test_inputs = np.linspace(0, 1, 100).reshape(-1, 1)\n",
    "test_outputs = target_model(test_inputs)\n",
    "predictions = surrogate_model.predict(test_inputs)\n",
    "\n",
    "# Use the surrogate model to make predictions on new data\n",
    "new_data = np.array([[0.25], [0.5], [0.75]])\n",
    "new_predictions = surrogate_model.predict(new_data)\n"
   ]
  },
  {
   "cell_type": "code",
   "execution_count": null,
   "metadata": {},
   "outputs": [],
   "source": [
    "# # Hard Predictions\n",
    "# import torch\n",
    "# import torch.nn as nn\n",
    "# from torch.utils.data import Dataset, DataLoader\n",
    "# import numpy as np\n",
    "# from utils import *\n",
    "# from tqdm import tqdm\n",
    "# from data import dataset as data\n",
    "\n",
    "# class ExtractionDataset(Dataset):\n",
    "#     def __init__(self, data_loader):\n",
    "#         self.data_loader = data_loader\n",
    "#         # self.target_model = target_model\n",
    "\n",
    "#         root_dir = 'data/TB_data/'\n",
    "#         vit_path = 'models/vit_base_patch16_224_in21k_test-accuracy_0.96_chest.pth'\n",
    "#         mlp_path = 'ReVIT/models/cnns'\n",
    "\n",
    "#         model = torch.load(vit_path).cuda()\n",
    "#         print('ViT is loaded!')\n",
    "\n",
    "#         mlps_list = get_classifiers_list(MLP_path=mlp_path, num_classifiers=5)\n",
    "#         print('All CNNs are loaded!')\n",
    "\n",
    "#         self.inputs = []\n",
    "#         self.labels = []\n",
    "#         self.predictions = []\n",
    "\n",
    "#         with torch.no_grad():\n",
    "#             for image, label in tqdm(self.data_loader):\n",
    "#                 image = image.cuda()\n",
    "#                 label = label.cuda()\n",
    "\n",
    "#                 final_prediction = []\n",
    "#                 vit_output = model(image)\n",
    "#                 vit_predictions = torch.argmax(vit_output.detach().cpu(), dim=-1)\n",
    "#                 final_prediction.append(vit_predictions.detach().cpu())\n",
    "#                 x = model.patch_embed(image)\n",
    "#                 x_0 = model.pos_drop(x)\n",
    "#                 i=0\n",
    "#                 for mlp in mlps_list:\n",
    "#                     x_0 = model.blocks[i](x_0)\n",
    "#                     mlp_output = mlp(x_0)\n",
    "#                     # print(mlp_output.shape)\n",
    "#                     mlp_predictions = torch.argmax(mlp_output.detach().cpu(), dim=-1)\n",
    "#                     # print(mlp_predictions.shape)\n",
    "#                     final_prediction.append(mlp_predictions.detach().cpu())\n",
    "#                     i+=1\n",
    "#                 stacked_tesnor = torch.stack(final_prediction,dim=1)\n",
    "#                 print(stacked_tesnor.shape)\n",
    "#                 prediction = torch.argmax(torch.nn.functional.one_hot(stacked_tesnor).sum(dim=1), dim=-1)\n",
    "#                 print(prediction.shape)\n",
    "\n",
    "#                 # output = self.target_model(image)\n",
    "#                 # prediction = torch.argmax(output, dim=-1)\n",
    "                \n",
    "#                 self.inputs.append(image)\n",
    "#                 self.labels.append(label)\n",
    "#                 self.predictions.append(prediction)\n",
    "#                 break\n",
    "\n",
    "#     def __len__(self):\n",
    "#         return len(self.inputs)\n",
    "\n",
    "#     def __getitem__(self, idx):\n",
    "#         return self.inputs[idx], self.predictions[idx]\n",
    "        \n",
    "# import torch.nn as nn\n",
    "\n",
    "# class SurrogateModel(nn.Module):\n",
    "#     \"\"\"\n",
    "#     CNN classifier. \n",
    "#     Args:\n",
    "#         num_classes -> number of classes \n",
    "#     Return: logits. \n",
    "#     \"\"\"\n",
    "#     def __init__(self, num_classes=2):\n",
    "#         super().__init__()\n",
    "#         self.conv1 = nn.Conv2d(in_channels=3, out_channels=16, kernel_size=3, padding=1)\n",
    "#         self.relu1 = nn.ReLU(inplace=True)\n",
    "#         self.pool1 = nn.MaxPool2d(kernel_size=2, stride=2)\n",
    "#         self.conv2 = nn.Conv2d(in_channels=16, out_channels=32, kernel_size=3, padding=1)\n",
    "#         self.relu2 = nn.ReLU(inplace=True)\n",
    "#         self.pool2 = nn.MaxPool2d(kernel_size=2, stride=2)\n",
    "#         self.conv3 = nn.Conv2d(in_channels=32, out_channels=64, kernel_size=3, padding=1)\n",
    "#         self.relu3 = nn.ReLU(inplace=True)\n",
    "#         self.pool3 = nn.MaxPool2d(kernel_size=2, stride=2)\n",
    "#         self.flatten = nn.Flatten()\n",
    "#         self.fc1 = nn.Linear(in_features=64*28*28, out_features=128)\n",
    "#         self.relu4 = nn.ReLU(inplace=True)\n",
    "#         self.fc2 = nn.Linear(in_features=128, out_features=num_classes)\n",
    "\n",
    "#     def forward(self, x):\n",
    "#         # print(x.shape)\n",
    "#         x = x.view(30,3,224,224)\n",
    "#         x = self.conv1(x)\n",
    "#         x = self.relu1(x)\n",
    "#         x = self.pool1(x)\n",
    "#         x = self.conv2(x)\n",
    "#         x = self.relu2(x)\n",
    "#         x = self.pool2(x)\n",
    "#         x = self.conv3(x)\n",
    "#         x = self.relu3(x)\n",
    "#         x = self.pool3(x)\n",
    "#         x = self.flatten(x)\n",
    "#         x = self.fc1(x)\n",
    "#         x = self.relu4(x)\n",
    "#         x = self.fc2(x)\n",
    "#         # print(x.shape)\n",
    "#         return x\n",
    "\n",
    "\n",
    "# def train_surrogate_model(dataset, model, optimizer, criterion, num_epochs):\n",
    "#     data_loader = DataLoader(dataset, batch_size=30, shuffle=True)\n",
    "\n",
    "#     for epoch in range(num_epochs):\n",
    "#         epoch_loss = 0.0\n",
    "#         epoch_accuracy = 0.0\n",
    "\n",
    "#         for inputs, predictions in tqdm(data_loader):\n",
    "#             print(inputs.shape)\n",
    "#             print(inputs[0].shape)\n",
    "#             inputs = inputs.cuda()\n",
    "#             predictions = (predictions.view(30)).cuda()\n",
    "#             optimizer.zero_grad()\n",
    "\n",
    "#             outputs = model(inputs)\n",
    "#             outputs = torch.argmax(outputs.detach().cpu(), dim=-1)\n",
    "#             print(outputs.shape, predictions.shape)\n",
    "#             loss = criterion(outputs, predictions)\n",
    "#             loss.backward()\n",
    "#             optimizer.step()\n",
    "\n",
    "#             epoch_loss += loss.item()\n",
    "#             epoch_accuracy += (torch.argmax(outputs, dim=-1) == predictions).float().mean().item()\n",
    "\n",
    "#         epoch_loss /= len(data_loader)\n",
    "#         epoch_accuracy /= len(data_loader)\n",
    "#         print(f\"Epoch {epoch + 1} - Loss: {epoch_loss:.4f}, Accuracy: {epoch_accuracy:.4f}\")\n",
    "\n",
    "#     return model\n",
    "\n",
    "# root_dir = 'data/TB_data/'\n",
    "# data_loader, dataset_ = data.data_loader(root_dir=root_dir)\n",
    "\n",
    "# # Create dataset of input-output pairs\n",
    "# extraction_dataset = ExtractionDataset(data_loader['train'])\n",
    "\n",
    "# # Train surrogate model\n",
    "# surrogate_model = SurrogateModel(num_classes=2).cuda()\n",
    "# optimizer = torch.optim.Adam(surrogate_model.parameters(), lr=1e-3)\n",
    "# criterion = nn.CrossEntropyLoss()\n",
    "\n",
    "# surrogate_model = train_surrogate_model(extraction_dataset, surrogate_model, optimizer, criterion, num_epochs=10)\n",
    "\n",
    "# # Fine-tune surrogate model\n",
    "# train_loader, val_loader = data_loader['train'], data_loader['val']\n",
    "# optimizer = torch.optim.Adam(surrogate_model.parameters(), lr=1e-4)\n",
    "\n",
    "# surrogate_model = train_surrogate_model(train_loader, val_loader, surrogate_model, optimizer, criterion, num_epochs=10)"
   ]
  },
  {
   "cell_type": "code",
   "execution_count": 1,
   "metadata": {},
   "outputs": [],
   "source": [
    "import torch\n",
    "import torch.nn as nn\n",
    "from torch.utils.data import Dataset, DataLoader\n",
    "import numpy as np\n",
    "from utils import *\n",
    "from tqdm import tqdm\n",
    "from data import dataset as data\n",
    "from ReVIT.surrogate import SurrogateModel\n",
    "from data.dataset import data_loader, data_loader_attacks"
   ]
  },
  {
   "cell_type": "code",
   "execution_count": 6,
   "metadata": {},
   "outputs": [],
   "source": [
    "# Soft Predictions\n",
    "\n",
    "class ExtractionDataset(Dataset):\n",
    "    def __init__(self, data_loader, adversarial_train=False):\n",
    "        self.data_loader = data_loader\n",
    "        self.adversarial_train = adversarial_train\n",
    "\n",
    "        # root_dir = 'data/TB_data_Aux_Shenzen/'\n",
    "        vit_path = 'models/vit_base_patch16_224_in21k_test-accuracy_0.96_chest.pth'\n",
    "        if self.adversarial_train:\n",
    "            mlp_path = 'ReVIT/adv_train_models/cnns/'\n",
    "        else:\n",
    "            mlp_path = 'ReVIT/models/cnns/'\n",
    "\n",
    "        model = torch.load(vit_path).cuda()\n",
    "        print('ViT is loaded!')\n",
    "\n",
    "        mlps_list = get_classifiers_list(MLP_path=mlp_path, num_classifiers=1)\n",
    "        print('All CNNs are loaded!')\n",
    "\n",
    "        self.inputs = []\n",
    "        self.labels = []\n",
    "        self.predictions = []\n",
    "\n",
    "        with torch.no_grad():\n",
    "            for image, label in tqdm(self.data_loader):\n",
    "                image = image.cuda()\n",
    "                label = label.cuda()\n",
    "\n",
    "                final_prediction = []\n",
    "                vit_output = model(image)\n",
    "                vit_predictions = torch.argmax(vit_output.detach().cpu(), dim=-1)\n",
    "                final_prediction.append(vit_output.detach().cpu())\n",
    "                x = model.patch_embed(image)\n",
    "                x_0 = model.pos_drop(x)\n",
    "                i=0\n",
    "                for mlp in mlps_list:\n",
    "                    x_0 = model.blocks[i](x_0)\n",
    "                    mlp_output = mlp(x_0)\n",
    "                    mlp_predictions = mlp_output.detach().cpu()\n",
    "                    final_prediction.append(mlp_predictions)\n",
    "                    i+=1\n",
    "                stacked_tesnor = torch.stack(final_prediction,dim=1)\n",
    "                prediction = torch.mean(stacked_tesnor, dim=1)\n",
    "\n",
    "                for i in range(image.shape[0]):\n",
    "                    self.inputs.append(image[i,:,:,:])\n",
    "                    self.labels.append(label[i])\n",
    "                    self.predictions.append(prediction[i])\n",
    "\n",
    "                # break\n",
    "\n",
    "    def __len__(self):\n",
    "        return len(self.inputs)\n",
    "\n",
    "    def __getitem__(self, idx):\n",
    "        return self.inputs[idx], self.predictions[idx]\n",
    "\n",
    "class ExtractionDataset_Def(Dataset):\n",
    "    def __init__(self, data_loader, model):\n",
    "        self.data_loader = data_loader\n",
    "        self.model = model\n",
    "        \n",
    "        self.inputs = []\n",
    "        self.labels = []\n",
    "        self.predictions = []\n",
    "\n",
    "        with torch.no_grad():\n",
    "            for inputs, labels in tqdm(data_loader):\n",
    "                inputs, labels = inputs.to('cuda'), labels.to('cuda')\n",
    "                outputs = self.model(inputs)\n",
    "                # loss = criterion(outputs, labels)\n",
    "                # test_loss += loss.item() * inputs.size(0)\n",
    "                # prediction = torch.mean(outputs, 1)\n",
    "                # print(prediction.shape)\n",
    "\n",
    "                for i in range(inputs.shape[0]):\n",
    "                    self.inputs.append(inputs[i,:,:,:])\n",
    "                    self.labels.append(labels[i])\n",
    "                    self.predictions.append(outputs[i])\n",
    "\n",
    "                    # break\n",
    "\n",
    "    def __len__(self):\n",
    "        return len(self.inputs)\n",
    "\n",
    "    def __getitem__(self, idx):\n",
    "        return self.inputs[idx], self.predictions[idx]\n",
    "\n",
    "\n",
    "def train_surrogate_model(dataset, model, optimizer, criterion, num_epochs):\n",
    "    data_loader = DataLoader(dataset, batch_size=30, shuffle=True)\n",
    "\n",
    "    for epoch in range(num_epochs):\n",
    "        epoch_loss = 0.0\n",
    "        epoch_accuracy = 0.0\n",
    "\n",
    "        for inputs, predictions in tqdm(data_loader):\n",
    "            # print(inputs.shape)\n",
    "            # print(predictions.shape)\n",
    "            inputs = inputs.cuda()\n",
    "            predictions = (predictions).cuda()\n",
    "            predictions = torch.argmax(predictions, dim=1)\n",
    "            optimizer.zero_grad()\n",
    "\n",
    "            outputs = model(inputs)\n",
    "            # outputs = torch.argmax(outputs.detach().cpu(), dim=-1)\n",
    "            # print((outputs).shape, (predictions).shape)\n",
    "            loss = criterion(outputs, predictions.long()) #Outputs is soft preds. Predictions is hard preds.\n",
    "            loss.backward()\n",
    "            optimizer.step()\n",
    "\n",
    "            epoch_loss += loss.item()\n",
    "            epoch_accuracy += (torch.argmax(outputs, dim=-1) == predictions).float().mean().item()\n",
    "\n",
    "        epoch_loss /= len(data_loader)\n",
    "        epoch_accuracy /= len(data_loader)\n",
    "        print(f\"Epoch {epoch + 1} - Loss: {epoch_loss:.4f}, Accuracy: {epoch_accuracy:.4f}\")\n",
    "\n",
    "    save_pth = f'ReVIT/models/surrogate_cnn/surrogate_cnn_final_loss_{epoch_loss:.2f}_train_acc_{epoch_accuracy:.2f}.pth'\n",
    "    torch.save(model, save_pth)\n",
    "\n",
    "    return model\n",
    "\n",
    "\n",
    "#Testing\n",
    "def test_surrogate_model(data_loader, model):\n",
    "    device = torch.device('cuda' if torch.cuda.is_available() else 'cpu')\n",
    "    test_loader = data_loader\n",
    "    # Evaluate on test set\n",
    "    model.eval()\n",
    "    test_loss = 0.0\n",
    "    test_acc = 0.0\n",
    "    with torch.no_grad():\n",
    "        for inputs, labels in tqdm(test_loader):\n",
    "            inputs, labels = inputs.to(device), labels.to(device)\n",
    "            outputs = model(inputs)\n",
    "            loss = criterion(outputs, labels)\n",
    "            test_loss += loss.item() * inputs.size(0)\n",
    "            _, preds = torch.max(outputs, 1)\n",
    "            test_acc += torch.sum(preds == labels.data)\n",
    "    test_loss /= len(test_loader.dataset)\n",
    "    test_acc = test_acc.double() / len(test_loader.dataset)\n",
    "    print(f\"Test Loss: {test_loss:.4f}, Test Accuracy: {test_acc:.4f}\")\n",
    "\n",
    "    return test_loss, test_acc\n",
    "\n",
    "\n",
    "#__main__\n",
    "\n",
    "\n",
    "\n",
    "\n",
    "# Fine-tune surrogate model\n",
    "# train_loader, val_loader = data_loader['train'], data_loader['valid']\n",
    "# optimizer = torch.optim.Adam(surrogate_model.parameters(), lr=1e-4)\n",
    "\n",
    "# surrogate_model = train_model(train_loader, val_loader, surrogate_model, optimizer, criterion, num_epochs=10)\n"
   ]
  },
  {
   "attachments": {},
   "cell_type": "markdown",
   "metadata": {},
   "source": [
    "# Defensive Distillation"
   ]
  },
  {
   "cell_type": "code",
   "execution_count": 3,
   "metadata": {},
   "outputs": [
    {
     "name": "stdout",
     "output_type": "stream",
     "text": [
      "['number of train images is 5670', 'number of valid images is 630', 'number of test images is 700']\n",
      "Classes with index are: {'Normal': 0, 'Tuberculosis': 1}\n",
      "['Normal', 'Tuberculosis']\n",
      "ViT is loaded!\n",
      "cnn_block_0_train_acc0.91_test_acc0.93.pth\n",
      "MLP 1 is loaded!\n",
      "cnn_block_1_train_acc0.94_test_acc0.95.pth\n",
      "All CNNs are loaded!\n"
     ]
    },
    {
     "name": "stderr",
     "output_type": "stream",
     "text": [
      "100%|██████████| 189/189 [00:25<00:00,  7.38it/s]\n",
      "100%|██████████| 189/189 [00:05<00:00, 32.35it/s]\n"
     ]
    },
    {
     "name": "stdout",
     "output_type": "stream",
     "text": [
      "Epoch 1 - Loss: 0.5137, Accuracy: 0.7277\n"
     ]
    },
    {
     "name": "stderr",
     "output_type": "stream",
     "text": [
      "100%|██████████| 189/189 [00:05<00:00, 32.35it/s]\n"
     ]
    },
    {
     "name": "stdout",
     "output_type": "stream",
     "text": [
      "Epoch 2 - Loss: 0.3557, Accuracy: 0.8448\n"
     ]
    },
    {
     "name": "stderr",
     "output_type": "stream",
     "text": [
      "100%|██████████| 189/189 [00:05<00:00, 32.31it/s]\n"
     ]
    },
    {
     "name": "stdout",
     "output_type": "stream",
     "text": [
      "Epoch 3 - Loss: 0.3034, Accuracy: 0.8718\n"
     ]
    },
    {
     "name": "stderr",
     "output_type": "stream",
     "text": [
      "100%|██████████| 189/189 [00:05<00:00, 32.22it/s]\n"
     ]
    },
    {
     "name": "stdout",
     "output_type": "stream",
     "text": [
      "Epoch 4 - Loss: 0.2727, Accuracy: 0.8857\n"
     ]
    },
    {
     "name": "stderr",
     "output_type": "stream",
     "text": [
      "100%|██████████| 189/189 [00:05<00:00, 32.18it/s]\n"
     ]
    },
    {
     "name": "stdout",
     "output_type": "stream",
     "text": [
      "Epoch 5 - Loss: 0.2292, Accuracy: 0.9086\n"
     ]
    },
    {
     "name": "stderr",
     "output_type": "stream",
     "text": [
      "100%|██████████| 189/189 [00:05<00:00, 32.13it/s]\n"
     ]
    },
    {
     "name": "stdout",
     "output_type": "stream",
     "text": [
      "Epoch 6 - Loss: 0.1940, Accuracy: 0.9178\n"
     ]
    },
    {
     "name": "stderr",
     "output_type": "stream",
     "text": [
      "100%|██████████| 189/189 [00:05<00:00, 32.06it/s]\n"
     ]
    },
    {
     "name": "stdout",
     "output_type": "stream",
     "text": [
      "Epoch 7 - Loss: 0.1911, Accuracy: 0.9222\n"
     ]
    },
    {
     "name": "stderr",
     "output_type": "stream",
     "text": [
      "100%|██████████| 189/189 [00:05<00:00, 32.08it/s]\n"
     ]
    },
    {
     "name": "stdout",
     "output_type": "stream",
     "text": [
      "Epoch 8 - Loss: 0.1878, Accuracy: 0.9219\n"
     ]
    },
    {
     "name": "stderr",
     "output_type": "stream",
     "text": [
      "100%|██████████| 189/189 [00:05<00:00, 31.99it/s]\n"
     ]
    },
    {
     "name": "stdout",
     "output_type": "stream",
     "text": [
      "Epoch 9 - Loss: 0.1585, Accuracy: 0.9360\n"
     ]
    },
    {
     "name": "stderr",
     "output_type": "stream",
     "text": [
      "100%|██████████| 189/189 [00:05<00:00, 32.00it/s]\n"
     ]
    },
    {
     "name": "stdout",
     "output_type": "stream",
     "text": [
      "Epoch 10 - Loss: 0.1517, Accuracy: 0.9402\n"
     ]
    },
    {
     "name": "stderr",
     "output_type": "stream",
     "text": [
      "100%|██████████| 189/189 [00:05<00:00, 31.97it/s]\n"
     ]
    },
    {
     "name": "stdout",
     "output_type": "stream",
     "text": [
      "Epoch 11 - Loss: 0.1338, Accuracy: 0.9448\n"
     ]
    },
    {
     "name": "stderr",
     "output_type": "stream",
     "text": [
      "100%|██████████| 189/189 [00:05<00:00, 31.99it/s]\n"
     ]
    },
    {
     "name": "stdout",
     "output_type": "stream",
     "text": [
      "Epoch 12 - Loss: 0.1286, Accuracy: 0.9496\n"
     ]
    },
    {
     "name": "stderr",
     "output_type": "stream",
     "text": [
      "100%|██████████| 189/189 [00:05<00:00, 31.94it/s]\n"
     ]
    },
    {
     "name": "stdout",
     "output_type": "stream",
     "text": [
      "Epoch 13 - Loss: 0.1221, Accuracy: 0.9533\n"
     ]
    },
    {
     "name": "stderr",
     "output_type": "stream",
     "text": [
      "100%|██████████| 189/189 [00:05<00:00, 31.85it/s]\n"
     ]
    },
    {
     "name": "stdout",
     "output_type": "stream",
     "text": [
      "Epoch 14 - Loss: 0.1026, Accuracy: 0.9607\n"
     ]
    },
    {
     "name": "stderr",
     "output_type": "stream",
     "text": [
      "100%|██████████| 189/189 [00:05<00:00, 31.80it/s]\n"
     ]
    },
    {
     "name": "stdout",
     "output_type": "stream",
     "text": [
      "Epoch 15 - Loss: 0.1156, Accuracy: 0.9561\n"
     ]
    },
    {
     "name": "stderr",
     "output_type": "stream",
     "text": [
      "100%|██████████| 189/189 [00:05<00:00, 31.80it/s]\n"
     ]
    },
    {
     "name": "stdout",
     "output_type": "stream",
     "text": [
      "Epoch 16 - Loss: 0.0960, Accuracy: 0.9628\n"
     ]
    },
    {
     "name": "stderr",
     "output_type": "stream",
     "text": [
      "100%|██████████| 189/189 [00:05<00:00, 31.83it/s]\n"
     ]
    },
    {
     "name": "stdout",
     "output_type": "stream",
     "text": [
      "Epoch 17 - Loss: 0.0849, Accuracy: 0.9681\n"
     ]
    },
    {
     "name": "stderr",
     "output_type": "stream",
     "text": [
      "100%|██████████| 189/189 [00:05<00:00, 31.81it/s]\n"
     ]
    },
    {
     "name": "stdout",
     "output_type": "stream",
     "text": [
      "Epoch 18 - Loss: 0.0830, Accuracy: 0.9670\n"
     ]
    },
    {
     "name": "stderr",
     "output_type": "stream",
     "text": [
      "100%|██████████| 189/189 [00:05<00:00, 31.79it/s]\n"
     ]
    },
    {
     "name": "stdout",
     "output_type": "stream",
     "text": [
      "Epoch 19 - Loss: 0.0724, Accuracy: 0.9734\n"
     ]
    },
    {
     "name": "stderr",
     "output_type": "stream",
     "text": [
      "100%|██████████| 189/189 [00:05<00:00, 31.81it/s]\n"
     ]
    },
    {
     "name": "stdout",
     "output_type": "stream",
     "text": [
      "Epoch 20 - Loss: 0.0979, Accuracy: 0.9658\n",
      "['number of train images is 5670', 'number of valid images is 630', 'number of test images is 700']\n",
      "Classes with index are: {'Normal': 0, 'Tuberculosis': 1}\n",
      "['Normal', 'Tuberculosis']\n",
      "\n",
      "-->> Testing for Clean Samples\n"
     ]
    },
    {
     "name": "stderr",
     "output_type": "stream",
     "text": [
      "100%|██████████| 23/23 [00:01<00:00, 16.43it/s]\n"
     ]
    },
    {
     "name": "stdout",
     "output_type": "stream",
     "text": [
      "Test Loss: 0.2022, Test Accuracy: 0.9286\n",
      "\n",
      "-->> Testing for Attack Samples\n",
      "\n",
      "For FGSM Attack samples:\n",
      "number of images is 690\n",
      "Classes with index are: {'Normal': 0, 'Tuberculosis': 1}\n"
     ]
    },
    {
     "name": "stderr",
     "output_type": "stream",
     "text": [
      "100%|██████████| 46/46 [00:00<00:00, 50.90it/s]\n"
     ]
    },
    {
     "name": "stdout",
     "output_type": "stream",
     "text": [
      "Test Loss: 0.3430, Test Accuracy: 0.9072\n",
      "\n",
      "For PGD Attack samples:\n",
      "number of images is 690\n",
      "Classes with index are: {'Normal': 0, 'Tuberculosis': 1}\n"
     ]
    },
    {
     "name": "stderr",
     "output_type": "stream",
     "text": [
      "100%|██████████| 46/46 [00:00<00:00, 52.11it/s]\n"
     ]
    },
    {
     "name": "stdout",
     "output_type": "stream",
     "text": [
      "Test Loss: 0.3398, Test Accuracy: 0.9029\n",
      "\n",
      "For BIM Attack samples:\n",
      "number of images is 690\n",
      "Classes with index are: {'Normal': 0, 'Tuberculosis': 1}\n"
     ]
    },
    {
     "name": "stderr",
     "output_type": "stream",
     "text": [
      "100%|██████████| 46/46 [00:00<00:00, 52.91it/s]\n"
     ]
    },
    {
     "name": "stdout",
     "output_type": "stream",
     "text": [
      "Test Loss: 0.2051, Test Accuracy: 0.9420\n",
      "\n",
      "For AUTOPGD Attack samples:\n",
      "number of images is 690\n",
      "Classes with index are: {'Normal': 0, 'Tuberculosis': 1}\n"
     ]
    },
    {
     "name": "stderr",
     "output_type": "stream",
     "text": [
      "100%|██████████| 46/46 [00:00<00:00, 52.72it/s]\n"
     ]
    },
    {
     "name": "stdout",
     "output_type": "stream",
     "text": [
      "Test Loss: 0.3275, Test Accuracy: 0.9087\n",
      "\n",
      "For CW Attack samples:\n",
      "number of images is 690\n",
      "Classes with index are: {'Normal': 0, 'Tuberculosis': 1}\n"
     ]
    },
    {
     "name": "stderr",
     "output_type": "stream",
     "text": [
      "100%|██████████| 46/46 [00:00<00:00, 52.48it/s]"
     ]
    },
    {
     "name": "stdout",
     "output_type": "stream",
     "text": [
      "Test Loss: 0.2051, Test Accuracy: 0.9420\n"
     ]
    },
    {
     "name": "stderr",
     "output_type": "stream",
     "text": [
      "\n"
     ]
    }
   ],
   "source": [
    "#__main__ \n",
    "from ReVIT.DistilledModel import Distilled_CNN \n",
    "root_dir = 'data/TB_data/' #Auxillary dataset\n",
    "data_loader, dataset_ = data.data_loader(root_dir=root_dir)\n",
    "\n",
    "# Create dataset of input-output pairs\n",
    "extraction_dataset = ExtractionDataset(data_loader['train']) #Here Input is the In-Distribution Valid set from Original data.\n",
    "\n",
    "surrogate_model_2 = Distilled_CNN(num_classes=2).cuda()\n",
    "optimizer = torch.optim.Adam(surrogate_model_2.parameters(), lr=1e-3)\n",
    "criterion = nn.CrossEntropyLoss()\n",
    "surrogate_model_Def = train_surrogate_model(extraction_dataset, surrogate_model_2, optimizer, criterion, num_epochs=20)\n",
    "\n",
    "# Testing surrogate model\n",
    "\n",
    "# surrogate_cnn_path = 'ReVIT/models/surrogate_cnn/surrogate_cnn_final_loss_0.15_train_acc_0.93.pth'\n",
    "# model = torch.load(surrogate_cnn_path).cuda()\n",
    "\n",
    "root_dir = 'data/TB_data/'\n",
    "data_loader, dataset_ = data.data_loader(root_dir=root_dir)\n",
    "print(\"\\n-->> Testing for Clean Samples\")\n",
    "total_loss, total_accuracy = test_surrogate_model(data_loader['test'], surrogate_model_Def) # Here test set is from Original data.\n",
    "print(\"\\n-->> Testing for Attack Samples\")\n",
    "\n",
    "image_folder_path = 'attack_images'\n",
    "attack_list = ['FGSM', 'PGD', 'BIM', 'AUTOPGD', 'CW']\n",
    "for i in attack_list: #For all attack types in attack_list\n",
    "    attack_name = i\n",
    "    print(f'\\nFor {attack_name} Attack samples:')\n",
    "    loader_, dataset_ = data_loader_attacks(root_dir=image_folder_path, attack_name= attack_name, batch_size=15)\n",
    "    total_loss, total_accuracy = test_surrogate_model(loader_, surrogate_model_Def) # Here test set is from Attack data.\n"
   ]
  },
  {
   "attachments": {},
   "cell_type": "markdown",
   "metadata": {},
   "source": [
    "Extracting distilled model ((Model Extraction on Distilled Model ))"
   ]
  },
  {
   "cell_type": "code",
   "execution_count": 4,
   "metadata": {},
   "outputs": [
    {
     "name": "stdout",
     "output_type": "stream",
     "text": [
      "['number of train images is 5670', 'number of valid images is 630', 'number of test images is 700']\n",
      "Classes with index are: {'Normal': 0, 'Tuberculosis': 1}\n",
      "['Normal', 'Tuberculosis']\n"
     ]
    },
    {
     "name": "stderr",
     "output_type": "stream",
     "text": [
      "100%|██████████| 21/21 [00:01<00:00, 16.74it/s]\n",
      "100%|██████████| 21/21 [00:00<00:00, 70.27it/s]\n"
     ]
    },
    {
     "name": "stdout",
     "output_type": "stream",
     "text": [
      "Epoch 1 - Loss: 0.6090, Accuracy: 0.6397\n"
     ]
    },
    {
     "name": "stderr",
     "output_type": "stream",
     "text": [
      "100%|██████████| 21/21 [00:00<00:00, 69.23it/s]\n"
     ]
    },
    {
     "name": "stdout",
     "output_type": "stream",
     "text": [
      "Epoch 2 - Loss: 0.3808, Accuracy: 0.8349\n"
     ]
    },
    {
     "name": "stderr",
     "output_type": "stream",
     "text": [
      "100%|██████████| 21/21 [00:00<00:00, 69.67it/s]\n"
     ]
    },
    {
     "name": "stdout",
     "output_type": "stream",
     "text": [
      "Epoch 3 - Loss: 0.2791, Accuracy: 0.8698\n"
     ]
    },
    {
     "name": "stderr",
     "output_type": "stream",
     "text": [
      "100%|██████████| 21/21 [00:00<00:00, 68.74it/s]\n"
     ]
    },
    {
     "name": "stdout",
     "output_type": "stream",
     "text": [
      "Epoch 4 - Loss: 0.2134, Accuracy: 0.9190\n"
     ]
    },
    {
     "name": "stderr",
     "output_type": "stream",
     "text": [
      "100%|██████████| 21/21 [00:00<00:00, 70.03it/s]\n"
     ]
    },
    {
     "name": "stdout",
     "output_type": "stream",
     "text": [
      "Epoch 5 - Loss: 0.1538, Accuracy: 0.9381\n"
     ]
    },
    {
     "name": "stderr",
     "output_type": "stream",
     "text": [
      "100%|██████████| 21/21 [00:00<00:00, 68.74it/s]\n"
     ]
    },
    {
     "name": "stdout",
     "output_type": "stream",
     "text": [
      "Epoch 6 - Loss: 0.1236, Accuracy: 0.9603\n"
     ]
    },
    {
     "name": "stderr",
     "output_type": "stream",
     "text": [
      "100%|██████████| 21/21 [00:00<00:00, 69.18it/s]\n"
     ]
    },
    {
     "name": "stdout",
     "output_type": "stream",
     "text": [
      "Epoch 7 - Loss: 0.0998, Accuracy: 0.9651\n"
     ]
    },
    {
     "name": "stderr",
     "output_type": "stream",
     "text": [
      "100%|██████████| 21/21 [00:00<00:00, 69.78it/s]\n"
     ]
    },
    {
     "name": "stdout",
     "output_type": "stream",
     "text": [
      "Epoch 8 - Loss: 0.0890, Accuracy: 0.9683\n"
     ]
    },
    {
     "name": "stderr",
     "output_type": "stream",
     "text": [
      "100%|██████████| 21/21 [00:00<00:00, 69.47it/s]\n"
     ]
    },
    {
     "name": "stdout",
     "output_type": "stream",
     "text": [
      "Epoch 9 - Loss: 0.0641, Accuracy: 0.9794\n"
     ]
    },
    {
     "name": "stderr",
     "output_type": "stream",
     "text": [
      "100%|██████████| 21/21 [00:00<00:00, 70.10it/s]\n"
     ]
    },
    {
     "name": "stdout",
     "output_type": "stream",
     "text": [
      "Epoch 10 - Loss: 0.0550, Accuracy: 0.9746\n"
     ]
    },
    {
     "name": "stderr",
     "output_type": "stream",
     "text": [
      "100%|██████████| 21/21 [00:00<00:00, 70.22it/s]\n"
     ]
    },
    {
     "name": "stdout",
     "output_type": "stream",
     "text": [
      "Epoch 11 - Loss: 0.0480, Accuracy: 0.9810\n"
     ]
    },
    {
     "name": "stderr",
     "output_type": "stream",
     "text": [
      "100%|██████████| 21/21 [00:00<00:00, 69.93it/s]\n"
     ]
    },
    {
     "name": "stdout",
     "output_type": "stream",
     "text": [
      "Epoch 12 - Loss: 0.0689, Accuracy: 0.9762\n"
     ]
    },
    {
     "name": "stderr",
     "output_type": "stream",
     "text": [
      "100%|██████████| 21/21 [00:00<00:00, 69.70it/s]\n"
     ]
    },
    {
     "name": "stdout",
     "output_type": "stream",
     "text": [
      "Epoch 13 - Loss: 0.0338, Accuracy: 0.9905\n"
     ]
    },
    {
     "name": "stderr",
     "output_type": "stream",
     "text": [
      "100%|██████████| 21/21 [00:00<00:00, 69.08it/s]\n"
     ]
    },
    {
     "name": "stdout",
     "output_type": "stream",
     "text": [
      "Epoch 14 - Loss: 0.0199, Accuracy: 0.9952\n"
     ]
    },
    {
     "name": "stderr",
     "output_type": "stream",
     "text": [
      "100%|██████████| 21/21 [00:00<00:00, 69.56it/s]\n"
     ]
    },
    {
     "name": "stdout",
     "output_type": "stream",
     "text": [
      "Epoch 15 - Loss: 0.0162, Accuracy: 0.9952\n"
     ]
    },
    {
     "name": "stderr",
     "output_type": "stream",
     "text": [
      "100%|██████████| 21/21 [00:00<00:00, 69.07it/s]\n"
     ]
    },
    {
     "name": "stdout",
     "output_type": "stream",
     "text": [
      "Epoch 16 - Loss: 0.0237, Accuracy: 0.9905\n"
     ]
    },
    {
     "name": "stderr",
     "output_type": "stream",
     "text": [
      "100%|██████████| 21/21 [00:00<00:00, 69.30it/s]\n"
     ]
    },
    {
     "name": "stdout",
     "output_type": "stream",
     "text": [
      "Epoch 17 - Loss: 0.0643, Accuracy: 0.9762\n"
     ]
    },
    {
     "name": "stderr",
     "output_type": "stream",
     "text": [
      "100%|██████████| 21/21 [00:00<00:00, 70.44it/s]\n"
     ]
    },
    {
     "name": "stdout",
     "output_type": "stream",
     "text": [
      "Epoch 18 - Loss: 0.1113, Accuracy: 0.9571\n"
     ]
    },
    {
     "name": "stderr",
     "output_type": "stream",
     "text": [
      "100%|██████████| 21/21 [00:00<00:00, 70.61it/s]\n"
     ]
    },
    {
     "name": "stdout",
     "output_type": "stream",
     "text": [
      "Epoch 19 - Loss: 0.0516, Accuracy: 0.9810\n"
     ]
    },
    {
     "name": "stderr",
     "output_type": "stream",
     "text": [
      "100%|██████████| 21/21 [00:00<00:00, 70.52it/s]\n"
     ]
    },
    {
     "name": "stdout",
     "output_type": "stream",
     "text": [
      "Epoch 20 - Loss: 0.0352, Accuracy: 0.9873\n",
      "['number of train images is 5670', 'number of valid images is 630', 'number of test images is 700']\n",
      "Classes with index are: {'Normal': 0, 'Tuberculosis': 1}\n",
      "['Normal', 'Tuberculosis']\n",
      "\n",
      "-->> Testing for Clean Samples\n"
     ]
    },
    {
     "name": "stderr",
     "output_type": "stream",
     "text": [
      "100%|██████████| 23/23 [00:01<00:00, 17.66it/s]\n"
     ]
    },
    {
     "name": "stdout",
     "output_type": "stream",
     "text": [
      "Test Loss: 0.3686, Test Accuracy: 0.8971\n",
      "\n",
      "-->> Testing for Attack Samples\n",
      "\n",
      "For FGSM Attack samples:\n",
      "number of images is 690\n",
      "Classes with index are: {'Normal': 0, 'Tuberculosis': 1}\n"
     ]
    },
    {
     "name": "stderr",
     "output_type": "stream",
     "text": [
      "100%|██████████| 46/46 [00:00<00:00, 59.77it/s]\n"
     ]
    },
    {
     "name": "stdout",
     "output_type": "stream",
     "text": [
      "Test Loss: 0.7751, Test Accuracy: 0.8072\n",
      "\n",
      "For PGD Attack samples:\n",
      "number of images is 690\n",
      "Classes with index are: {'Normal': 0, 'Tuberculosis': 1}\n"
     ]
    },
    {
     "name": "stderr",
     "output_type": "stream",
     "text": [
      "100%|██████████| 46/46 [00:00<00:00, 57.24it/s]\n"
     ]
    },
    {
     "name": "stdout",
     "output_type": "stream",
     "text": [
      "Test Loss: 0.6539, Test Accuracy: 0.8377\n",
      "\n",
      "For BIM Attack samples:\n",
      "number of images is 690\n",
      "Classes with index are: {'Normal': 0, 'Tuberculosis': 1}\n"
     ]
    },
    {
     "name": "stderr",
     "output_type": "stream",
     "text": [
      "100%|██████████| 46/46 [00:00<00:00, 57.61it/s]\n"
     ]
    },
    {
     "name": "stdout",
     "output_type": "stream",
     "text": [
      "Test Loss: 0.3740, Test Accuracy: 0.9101\n",
      "\n",
      "For AUTOPGD Attack samples:\n",
      "number of images is 690\n",
      "Classes with index are: {'Normal': 0, 'Tuberculosis': 1}\n"
     ]
    },
    {
     "name": "stderr",
     "output_type": "stream",
     "text": [
      "100%|██████████| 46/46 [00:00<00:00, 55.11it/s]\n"
     ]
    },
    {
     "name": "stdout",
     "output_type": "stream",
     "text": [
      "Test Loss: 0.5675, Test Accuracy: 0.8507\n",
      "\n",
      "For CW Attack samples:\n",
      "number of images is 690\n",
      "Classes with index are: {'Normal': 0, 'Tuberculosis': 1}\n"
     ]
    },
    {
     "name": "stderr",
     "output_type": "stream",
     "text": [
      "100%|██████████| 46/46 [00:00<00:00, 57.05it/s]"
     ]
    },
    {
     "name": "stdout",
     "output_type": "stream",
     "text": [
      "Test Loss: 0.3740, Test Accuracy: 0.9101\n"
     ]
    },
    {
     "name": "stderr",
     "output_type": "stream",
     "text": [
      "\n"
     ]
    }
   ],
   "source": [
    "#__main__ \n",
    "\n",
    "root_dir = 'data/TB_data/' #Auxillary dataset\n",
    "data_loader, dataset_ = data.data_loader(root_dir=root_dir)\n",
    "\n",
    "# Create dataset of input-output pairs\n",
    "extraction_dataset = ExtractionDataset_Def(data_loader['valid'], surrogate_model_Def) #Here model-to-extract is the Distilled surrogate_model_Def model\n",
    "\n",
    "# Train surrogate model\n",
    "surrogate_model_1 = SurrogateModel(num_classes=2).cuda()\n",
    "optimizer = torch.optim.Adam(surrogate_model_1.parameters(), lr=1e-3)\n",
    "criterion = nn.CrossEntropyLoss()\n",
    "surrogate_model = train_surrogate_model(extraction_dataset, surrogate_model_1, optimizer, criterion, num_epochs=20)\n",
    "\n",
    "# Testing surrogate model\n",
    "# surrogate_cnn_path = 'ReVIT/models/surrogate_cnn/surrogate_cnn_final_loss_0.15_train_acc_0.93.pth'\n",
    "# model = torch.load(surrogate_cnn_path).cuda()\n",
    "\n",
    "root_dir = 'data/TB_data/'\n",
    "data_loader, dataset_ = data.data_loader(root_dir=root_dir)\n",
    "print(\"\\n-->> Testing for Clean Samples\")\n",
    "total_loss, total_accuracy = test_surrogate_model(data_loader['test'], surrogate_model_1) # Here test set is from Original data.\n",
    "print(\"\\n-->> Testing for Attack Samples\")\n",
    "\n",
    "image_folder_path = 'attack_images_surrogate_0.03/'\n",
    "attack_list = ['FGSM', 'PGD', 'BIM', 'AUTOPGD', 'CW']\n",
    "for i in attack_list: #For all attack types in attack_list\n",
    "    attack_name = i\n",
    "    print(f'\\nFor {attack_name} Attack samples:')\n",
    "    loader_, dataset_ = data_loader_attacks(root_dir=image_folder_path, attack_name= attack_name, batch_size=15)\n",
    "    total_loss, total_accuracy = test_surrogate_model(loader_, surrogate_model_1) # Here test set is from Attack data."
   ]
  },
  {
   "attachments": {},
   "cell_type": "markdown",
   "metadata": {},
   "source": [
    "(Model Extraction on Original Model) (Attack samples are from Extracted model)"
   ]
  },
  {
   "cell_type": "code",
   "execution_count": 5,
   "metadata": {},
   "outputs": [
    {
     "name": "stdout",
     "output_type": "stream",
     "text": [
      "['number of train images is 5670', 'number of valid images is 630', 'number of test images is 700']\n",
      "Classes with index are: {'Normal': 0, 'Tuberculosis': 1}\n",
      "['Normal', 'Tuberculosis']\n",
      "ViT is loaded!\n",
      "cnn_block_0_train_acc0.91_test_acc0.93.pth\n",
      "MLP 1 is loaded!\n",
      "cnn_block_1_train_acc0.94_test_acc0.95.pth\n",
      "All CNNs are loaded!\n"
     ]
    },
    {
     "name": "stderr",
     "output_type": "stream",
     "text": [
      "100%|██████████| 21/21 [00:03<00:00,  5.95it/s]\n",
      "100%|██████████| 21/21 [00:00<00:00, 69.42it/s]\n"
     ]
    },
    {
     "name": "stdout",
     "output_type": "stream",
     "text": [
      "Epoch 1 - Loss: 0.6751, Accuracy: 0.6095\n"
     ]
    },
    {
     "name": "stderr",
     "output_type": "stream",
     "text": [
      "100%|██████████| 21/21 [00:00<00:00, 70.79it/s]\n"
     ]
    },
    {
     "name": "stdout",
     "output_type": "stream",
     "text": [
      "Epoch 2 - Loss: 0.4006, Accuracy: 0.8238\n"
     ]
    },
    {
     "name": "stderr",
     "output_type": "stream",
     "text": [
      "100%|██████████| 21/21 [00:00<00:00, 71.16it/s]\n"
     ]
    },
    {
     "name": "stdout",
     "output_type": "stream",
     "text": [
      "Epoch 3 - Loss: 0.3243, Accuracy: 0.8667\n"
     ]
    },
    {
     "name": "stderr",
     "output_type": "stream",
     "text": [
      "100%|██████████| 21/21 [00:00<00:00, 71.66it/s]\n"
     ]
    },
    {
     "name": "stdout",
     "output_type": "stream",
     "text": [
      "Epoch 4 - Loss: 0.2396, Accuracy: 0.9063\n"
     ]
    },
    {
     "name": "stderr",
     "output_type": "stream",
     "text": [
      "100%|██████████| 21/21 [00:00<00:00, 72.34it/s]\n"
     ]
    },
    {
     "name": "stdout",
     "output_type": "stream",
     "text": [
      "Epoch 5 - Loss: 0.2074, Accuracy: 0.9111\n"
     ]
    },
    {
     "name": "stderr",
     "output_type": "stream",
     "text": [
      "100%|██████████| 21/21 [00:00<00:00, 71.90it/s]\n"
     ]
    },
    {
     "name": "stdout",
     "output_type": "stream",
     "text": [
      "Epoch 6 - Loss: 0.1632, Accuracy: 0.9286\n"
     ]
    },
    {
     "name": "stderr",
     "output_type": "stream",
     "text": [
      "100%|██████████| 21/21 [00:00<00:00, 70.99it/s]\n"
     ]
    },
    {
     "name": "stdout",
     "output_type": "stream",
     "text": [
      "Epoch 7 - Loss: 0.1357, Accuracy: 0.9460\n"
     ]
    },
    {
     "name": "stderr",
     "output_type": "stream",
     "text": [
      "100%|██████████| 21/21 [00:00<00:00, 71.46it/s]\n"
     ]
    },
    {
     "name": "stdout",
     "output_type": "stream",
     "text": [
      "Epoch 8 - Loss: 0.1177, Accuracy: 0.9571\n"
     ]
    },
    {
     "name": "stderr",
     "output_type": "stream",
     "text": [
      "100%|██████████| 21/21 [00:00<00:00, 70.82it/s]\n"
     ]
    },
    {
     "name": "stdout",
     "output_type": "stream",
     "text": [
      "Epoch 9 - Loss: 0.1306, Accuracy: 0.9460\n"
     ]
    },
    {
     "name": "stderr",
     "output_type": "stream",
     "text": [
      "100%|██████████| 21/21 [00:00<00:00, 69.95it/s]\n"
     ]
    },
    {
     "name": "stdout",
     "output_type": "stream",
     "text": [
      "Epoch 10 - Loss: 0.0848, Accuracy: 0.9683\n"
     ]
    },
    {
     "name": "stderr",
     "output_type": "stream",
     "text": [
      "100%|██████████| 21/21 [00:00<00:00, 69.01it/s]\n"
     ]
    },
    {
     "name": "stdout",
     "output_type": "stream",
     "text": [
      "Epoch 11 - Loss: 0.0760, Accuracy: 0.9714\n"
     ]
    },
    {
     "name": "stderr",
     "output_type": "stream",
     "text": [
      "100%|██████████| 21/21 [00:00<00:00, 72.23it/s]\n"
     ]
    },
    {
     "name": "stdout",
     "output_type": "stream",
     "text": [
      "Epoch 12 - Loss: 0.0732, Accuracy: 0.9730\n"
     ]
    },
    {
     "name": "stderr",
     "output_type": "stream",
     "text": [
      "100%|██████████| 21/21 [00:00<00:00, 72.15it/s]\n"
     ]
    },
    {
     "name": "stdout",
     "output_type": "stream",
     "text": [
      "Epoch 13 - Loss: 0.0750, Accuracy: 0.9714\n"
     ]
    },
    {
     "name": "stderr",
     "output_type": "stream",
     "text": [
      "100%|██████████| 21/21 [00:00<00:00, 71.36it/s]\n"
     ]
    },
    {
     "name": "stdout",
     "output_type": "stream",
     "text": [
      "Epoch 14 - Loss: 0.0462, Accuracy: 0.9810\n"
     ]
    },
    {
     "name": "stderr",
     "output_type": "stream",
     "text": [
      "100%|██████████| 21/21 [00:00<00:00, 71.82it/s]\n"
     ]
    },
    {
     "name": "stdout",
     "output_type": "stream",
     "text": [
      "Epoch 15 - Loss: 0.0287, Accuracy: 0.9921\n"
     ]
    },
    {
     "name": "stderr",
     "output_type": "stream",
     "text": [
      "100%|██████████| 21/21 [00:00<00:00, 72.02it/s]\n"
     ]
    },
    {
     "name": "stdout",
     "output_type": "stream",
     "text": [
      "Epoch 16 - Loss: 0.0321, Accuracy: 0.9905\n"
     ]
    },
    {
     "name": "stderr",
     "output_type": "stream",
     "text": [
      "100%|██████████| 21/21 [00:00<00:00, 71.78it/s]\n"
     ]
    },
    {
     "name": "stdout",
     "output_type": "stream",
     "text": [
      "Epoch 17 - Loss: 0.0212, Accuracy: 0.9905\n"
     ]
    },
    {
     "name": "stderr",
     "output_type": "stream",
     "text": [
      "100%|██████████| 21/21 [00:00<00:00, 71.67it/s]\n"
     ]
    },
    {
     "name": "stdout",
     "output_type": "stream",
     "text": [
      "Epoch 18 - Loss: 0.0279, Accuracy: 0.9921\n"
     ]
    },
    {
     "name": "stderr",
     "output_type": "stream",
     "text": [
      "100%|██████████| 21/21 [00:00<00:00, 71.79it/s]\n"
     ]
    },
    {
     "name": "stdout",
     "output_type": "stream",
     "text": [
      "Epoch 19 - Loss: 0.0276, Accuracy: 0.9921\n"
     ]
    },
    {
     "name": "stderr",
     "output_type": "stream",
     "text": [
      "100%|██████████| 21/21 [00:00<00:00, 71.75it/s]\n"
     ]
    },
    {
     "name": "stdout",
     "output_type": "stream",
     "text": [
      "Epoch 20 - Loss: 0.0123, Accuracy: 0.9984\n",
      "['number of train images is 5670', 'number of valid images is 630', 'number of test images is 700']\n",
      "Classes with index are: {'Normal': 0, 'Tuberculosis': 1}\n",
      "['Normal', 'Tuberculosis']\n",
      "\n",
      "-->> Testing for Clean Samples\n"
     ]
    },
    {
     "name": "stderr",
     "output_type": "stream",
     "text": [
      "100%|██████████| 23/23 [00:01<00:00, 15.28it/s]\n"
     ]
    },
    {
     "name": "stdout",
     "output_type": "stream",
     "text": [
      "Test Loss: 0.3376, Test Accuracy: 0.9257\n",
      "\n",
      "-->> Testing for Attack Samples\n",
      "\n",
      "For FGSM Attack samples:\n",
      "number of images is 690\n",
      "Classes with index are: {'Normal': 0, 'Tuberculosis': 1}\n"
     ]
    },
    {
     "name": "stderr",
     "output_type": "stream",
     "text": [
      "100%|██████████| 46/46 [00:00<00:00, 61.06it/s]\n"
     ]
    },
    {
     "name": "stdout",
     "output_type": "stream",
     "text": [
      "Test Loss: 1.3517, Test Accuracy: 0.7536\n",
      "\n",
      "For PGD Attack samples:\n",
      "number of images is 690\n",
      "Classes with index are: {'Normal': 0, 'Tuberculosis': 1}\n"
     ]
    },
    {
     "name": "stderr",
     "output_type": "stream",
     "text": [
      "100%|██████████| 46/46 [00:00<00:00, 57.98it/s]\n"
     ]
    },
    {
     "name": "stdout",
     "output_type": "stream",
     "text": [
      "Test Loss: 1.5749, Test Accuracy: 0.6942\n",
      "\n",
      "For BIM Attack samples:\n",
      "number of images is 690\n",
      "Classes with index are: {'Normal': 0, 'Tuberculosis': 1}\n"
     ]
    },
    {
     "name": "stderr",
     "output_type": "stream",
     "text": [
      "100%|██████████| 46/46 [00:00<00:00, 59.40it/s]\n"
     ]
    },
    {
     "name": "stdout",
     "output_type": "stream",
     "text": [
      "Test Loss: 0.3425, Test Accuracy: 0.9391\n",
      "\n",
      "For AUTOPGD Attack samples:\n",
      "number of images is 690\n",
      "Classes with index are: {'Normal': 0, 'Tuberculosis': 1}\n"
     ]
    },
    {
     "name": "stderr",
     "output_type": "stream",
     "text": [
      "100%|██████████| 46/46 [00:00<00:00, 58.57it/s]\n"
     ]
    },
    {
     "name": "stdout",
     "output_type": "stream",
     "text": [
      "Test Loss: 1.3271, Test Accuracy: 0.6783\n",
      "\n",
      "For CW Attack samples:\n",
      "number of images is 690\n",
      "Classes with index are: {'Normal': 0, 'Tuberculosis': 1}\n"
     ]
    },
    {
     "name": "stderr",
     "output_type": "stream",
     "text": [
      "100%|██████████| 46/46 [00:00<00:00, 59.56it/s]"
     ]
    },
    {
     "name": "stdout",
     "output_type": "stream",
     "text": [
      "Test Loss: 0.3425, Test Accuracy: 0.9391\n"
     ]
    },
    {
     "name": "stderr",
     "output_type": "stream",
     "text": [
      "\n"
     ]
    }
   ],
   "source": [
    "#__main__\n",
    "\n",
    "root_dir = 'data/TB_data/' #Auxillary dataset\n",
    "data_loader, dataset_ = data.data_loader(root_dir=root_dir)\n",
    "\n",
    "# Create dataset of input-output pairs\n",
    "extraction_dataset = ExtractionDataset(data_loader['valid']) #Here Input is the In-Distribution Valid set from Original data.\n",
    "\n",
    "# Train surrogate model\n",
    "surrogate_model_1 = SurrogateModel(num_classes=2).cuda()\n",
    "optimizer = torch.optim.Adam(surrogate_model_1.parameters(), lr=1e-3)\n",
    "criterion = nn.CrossEntropyLoss()\n",
    "surrogate_model = train_surrogate_model(extraction_dataset, surrogate_model_1, optimizer, criterion, num_epochs=20)\n",
    "\n",
    "# Testing surrogate model\n",
    "# surrogate_cnn_path = 'ReVIT/models/surrogate_cnn/surrogate_cnn_final_loss_0.15_train_acc_0.93.pth'\n",
    "# model = torch.load(surrogate_cnn_path).cuda()\n",
    "\n",
    "root_dir = 'data/TB_data/'\n",
    "data_loader, dataset_ = data.data_loader(root_dir=root_dir)\n",
    "print(\"\\n-->> Testing for Clean Samples\")\n",
    "total_loss, total_accuracy = test_surrogate_model(data_loader['test'], surrogate_model_1) # Here test set is from Original data.\n",
    "print(\"\\n-->> Testing for Attack Samples\")\n",
    "\n",
    "image_folder_path = 'attack_images_surrogate_0.03/'\n",
    "attack_list = ['FGSM', 'PGD', 'BIM', 'AUTOPGD', 'CW']\n",
    "for i in attack_list: #For all attack types in attack_list\n",
    "    attack_name = i\n",
    "    print(f'\\nFor {attack_name} Attack samples:')\n",
    "    loader_, dataset_ = data_loader_attacks(root_dir=image_folder_path, attack_name= attack_name, batch_size=15)\n",
    "    total_loss, total_accuracy = test_surrogate_model(loader_, surrogate_model_1) # Here test set is from Attack data."
   ]
  },
  {
   "cell_type": "markdown",
   "metadata": {},
   "source": [
    "# After Adversarial training"
   ]
  },
  {
   "attachments": {},
   "cell_type": "markdown",
   "metadata": {},
   "source": [
    "# Defensive Distillation"
   ]
  },
  {
   "cell_type": "code",
   "execution_count": 7,
   "metadata": {},
   "outputs": [
    {
     "name": "stdout",
     "output_type": "stream",
     "text": [
      "['number of train images is 10500', 'number of valid images is 630', 'number of test images is 700']\n",
      "Classes with index are: {'Normal': 0, 'Tuberculosis': 1}\n",
      "['Normal', 'Tuberculosis']\n",
      "ViT is loaded!\n",
      "cnn_block_0_train_acc0.91_test_acc0.95.pth\n",
      "MLP 1 is loaded!\n",
      "cnn_block_1_train_acc0.94_test_acc0.96.pth\n",
      "All CNNs are loaded!\n"
     ]
    },
    {
     "name": "stderr",
     "output_type": "stream",
     "text": [
      "100%|██████████| 350/350 [00:47<00:00,  7.34it/s]\n",
      "100%|██████████| 350/350 [00:04<00:00, 71.23it/s]\n"
     ]
    },
    {
     "name": "stdout",
     "output_type": "stream",
     "text": [
      "Epoch 1 - Loss: 0.4427, Accuracy: 0.7920\n"
     ]
    },
    {
     "name": "stderr",
     "output_type": "stream",
     "text": [
      "100%|██████████| 350/350 [00:04<00:00, 71.43it/s]\n"
     ]
    },
    {
     "name": "stdout",
     "output_type": "stream",
     "text": [
      "Epoch 2 - Loss: 0.3322, Accuracy: 0.8581\n"
     ]
    },
    {
     "name": "stderr",
     "output_type": "stream",
     "text": [
      "100%|██████████| 350/350 [00:04<00:00, 71.23it/s]\n"
     ]
    },
    {
     "name": "stdout",
     "output_type": "stream",
     "text": [
      "Epoch 3 - Loss: 0.2871, Accuracy: 0.8800\n"
     ]
    },
    {
     "name": "stderr",
     "output_type": "stream",
     "text": [
      "100%|██████████| 350/350 [00:04<00:00, 71.27it/s]\n"
     ]
    },
    {
     "name": "stdout",
     "output_type": "stream",
     "text": [
      "Epoch 4 - Loss: 0.2537, Accuracy: 0.8921\n"
     ]
    },
    {
     "name": "stderr",
     "output_type": "stream",
     "text": [
      "100%|██████████| 350/350 [00:04<00:00, 70.94it/s]\n"
     ]
    },
    {
     "name": "stdout",
     "output_type": "stream",
     "text": [
      "Epoch 5 - Loss: 0.2171, Accuracy: 0.9076\n"
     ]
    },
    {
     "name": "stderr",
     "output_type": "stream",
     "text": [
      "100%|██████████| 350/350 [00:04<00:00, 70.91it/s]\n"
     ]
    },
    {
     "name": "stdout",
     "output_type": "stream",
     "text": [
      "Epoch 6 - Loss: 0.1900, Accuracy: 0.9205\n"
     ]
    },
    {
     "name": "stderr",
     "output_type": "stream",
     "text": [
      "100%|██████████| 350/350 [00:04<00:00, 70.92it/s]\n"
     ]
    },
    {
     "name": "stdout",
     "output_type": "stream",
     "text": [
      "Epoch 7 - Loss: 0.1727, Accuracy: 0.9304\n"
     ]
    },
    {
     "name": "stderr",
     "output_type": "stream",
     "text": [
      "100%|██████████| 350/350 [00:04<00:00, 70.89it/s]\n"
     ]
    },
    {
     "name": "stdout",
     "output_type": "stream",
     "text": [
      "Epoch 8 - Loss: 0.1411, Accuracy: 0.9432\n"
     ]
    },
    {
     "name": "stderr",
     "output_type": "stream",
     "text": [
      "100%|██████████| 350/350 [00:04<00:00, 70.74it/s]\n"
     ]
    },
    {
     "name": "stdout",
     "output_type": "stream",
     "text": [
      "Epoch 9 - Loss: 0.1034, Accuracy: 0.9576\n"
     ]
    },
    {
     "name": "stderr",
     "output_type": "stream",
     "text": [
      "100%|██████████| 350/350 [00:04<00:00, 70.74it/s]\n"
     ]
    },
    {
     "name": "stdout",
     "output_type": "stream",
     "text": [
      "Epoch 10 - Loss: 0.0868, Accuracy: 0.9646\n"
     ]
    },
    {
     "name": "stderr",
     "output_type": "stream",
     "text": [
      "100%|██████████| 350/350 [00:04<00:00, 70.76it/s]\n"
     ]
    },
    {
     "name": "stdout",
     "output_type": "stream",
     "text": [
      "Epoch 11 - Loss: 0.0685, Accuracy: 0.9738\n"
     ]
    },
    {
     "name": "stderr",
     "output_type": "stream",
     "text": [
      "100%|██████████| 350/350 [00:04<00:00, 70.77it/s]\n"
     ]
    },
    {
     "name": "stdout",
     "output_type": "stream",
     "text": [
      "Epoch 12 - Loss: 0.0518, Accuracy: 0.9814\n"
     ]
    },
    {
     "name": "stderr",
     "output_type": "stream",
     "text": [
      "100%|██████████| 350/350 [00:04<00:00, 70.53it/s]\n"
     ]
    },
    {
     "name": "stdout",
     "output_type": "stream",
     "text": [
      "Epoch 13 - Loss: 0.0387, Accuracy: 0.9859\n"
     ]
    },
    {
     "name": "stderr",
     "output_type": "stream",
     "text": [
      "100%|██████████| 350/350 [00:04<00:00, 70.46it/s]\n"
     ]
    },
    {
     "name": "stdout",
     "output_type": "stream",
     "text": [
      "Epoch 14 - Loss: 0.0338, Accuracy: 0.9888\n"
     ]
    },
    {
     "name": "stderr",
     "output_type": "stream",
     "text": [
      "100%|██████████| 350/350 [00:04<00:00, 70.42it/s]\n"
     ]
    },
    {
     "name": "stdout",
     "output_type": "stream",
     "text": [
      "Epoch 15 - Loss: 0.0312, Accuracy: 0.9896\n"
     ]
    },
    {
     "name": "stderr",
     "output_type": "stream",
     "text": [
      "100%|██████████| 350/350 [00:04<00:00, 70.40it/s]\n"
     ]
    },
    {
     "name": "stdout",
     "output_type": "stream",
     "text": [
      "Epoch 16 - Loss: 0.0167, Accuracy: 0.9943\n"
     ]
    },
    {
     "name": "stderr",
     "output_type": "stream",
     "text": [
      "100%|██████████| 350/350 [00:04<00:00, 70.25it/s]\n"
     ]
    },
    {
     "name": "stdout",
     "output_type": "stream",
     "text": [
      "Epoch 17 - Loss: 0.0434, Accuracy: 0.9850\n"
     ]
    },
    {
     "name": "stderr",
     "output_type": "stream",
     "text": [
      "100%|██████████| 350/350 [00:04<00:00, 70.21it/s]\n"
     ]
    },
    {
     "name": "stdout",
     "output_type": "stream",
     "text": [
      "Epoch 18 - Loss: 0.0270, Accuracy: 0.9901\n"
     ]
    },
    {
     "name": "stderr",
     "output_type": "stream",
     "text": [
      "100%|██████████| 350/350 [00:04<00:00, 70.33it/s]\n"
     ]
    },
    {
     "name": "stdout",
     "output_type": "stream",
     "text": [
      "Epoch 19 - Loss: 0.0150, Accuracy: 0.9950\n"
     ]
    },
    {
     "name": "stderr",
     "output_type": "stream",
     "text": [
      "100%|██████████| 350/350 [00:04<00:00, 70.36it/s]\n"
     ]
    },
    {
     "name": "stdout",
     "output_type": "stream",
     "text": [
      "Epoch 20 - Loss: 0.0148, Accuracy: 0.9951\n",
      "['number of train images is 5670', 'number of valid images is 630', 'number of test images is 700']\n",
      "Classes with index are: {'Normal': 0, 'Tuberculosis': 1}\n",
      "['Normal', 'Tuberculosis']\n",
      "\n",
      "-->> Testing for Clean Samples\n"
     ]
    },
    {
     "name": "stderr",
     "output_type": "stream",
     "text": [
      "100%|██████████| 23/23 [00:01<00:00, 16.04it/s]\n"
     ]
    },
    {
     "name": "stdout",
     "output_type": "stream",
     "text": [
      "Test Loss: 0.4187, Test Accuracy: 0.9200\n",
      "\n",
      "-->> Testing for Attack Samples\n",
      "\n",
      "For FGSM Attack samples:\n",
      "number of images is 690\n",
      "Classes with index are: {'Normal': 0, 'Tuberculosis': 1}\n"
     ]
    },
    {
     "name": "stderr",
     "output_type": "stream",
     "text": [
      "100%|██████████| 46/46 [00:00<00:00, 59.78it/s]\n"
     ]
    },
    {
     "name": "stdout",
     "output_type": "stream",
     "text": [
      "Test Loss: 0.7810, Test Accuracy: 0.8899\n",
      "\n",
      "For PGD Attack samples:\n",
      "number of images is 690\n",
      "Classes with index are: {'Normal': 0, 'Tuberculosis': 1}\n"
     ]
    },
    {
     "name": "stderr",
     "output_type": "stream",
     "text": [
      "100%|██████████| 46/46 [00:00<00:00, 57.64it/s]\n"
     ]
    },
    {
     "name": "stdout",
     "output_type": "stream",
     "text": [
      "Test Loss: 0.7914, Test Accuracy: 0.8870\n",
      "\n",
      "For BIM Attack samples:\n",
      "number of images is 690\n",
      "Classes with index are: {'Normal': 0, 'Tuberculosis': 1}\n"
     ]
    },
    {
     "name": "stderr",
     "output_type": "stream",
     "text": [
      "100%|██████████| 46/46 [00:00<00:00, 60.17it/s]\n"
     ]
    },
    {
     "name": "stdout",
     "output_type": "stream",
     "text": [
      "Test Loss: 0.4248, Test Accuracy: 0.9333\n",
      "\n",
      "For AUTOPGD Attack samples:\n",
      "number of images is 690\n",
      "Classes with index are: {'Normal': 0, 'Tuberculosis': 1}\n"
     ]
    },
    {
     "name": "stderr",
     "output_type": "stream",
     "text": [
      "100%|██████████| 46/46 [00:00<00:00, 59.55it/s]\n"
     ]
    },
    {
     "name": "stdout",
     "output_type": "stream",
     "text": [
      "Test Loss: 0.7290, Test Accuracy: 0.8855\n",
      "\n",
      "For CW Attack samples:\n",
      "number of images is 690\n",
      "Classes with index are: {'Normal': 0, 'Tuberculosis': 1}\n"
     ]
    },
    {
     "name": "stderr",
     "output_type": "stream",
     "text": [
      "100%|██████████| 46/46 [00:00<00:00, 58.87it/s]"
     ]
    },
    {
     "name": "stdout",
     "output_type": "stream",
     "text": [
      "Test Loss: 0.4248, Test Accuracy: 0.9333\n"
     ]
    },
    {
     "name": "stderr",
     "output_type": "stream",
     "text": [
      "\n"
     ]
    }
   ],
   "source": [
    "# After adversarial training\n",
    "\n",
    "root_dir = 'adv_data/TB_adversarial_data_all/' #Auxillary dataset\n",
    "data_loader, dataset_ = data.data_loader(root_dir=root_dir)\n",
    "\n",
    "# Create dataset of input-output pairs\n",
    "extraction_dataset = ExtractionDataset(data_loader['train'], adversarial_train=True) #Here Input is the In-Distribution Valid set from Original data.\n",
    "\n",
    "# Train surrogate model\n",
    "surrogate_model_2 = SurrogateModel(num_classes=2).cuda()\n",
    "optimizer = torch.optim.Adam(surrogate_model_2.parameters(), lr=1e-3)\n",
    "criterion = nn.CrossEntropyLoss()\n",
    "surrogate_model_Def = train_surrogate_model(extraction_dataset, surrogate_model_2, optimizer, criterion, num_epochs=20)\n",
    "\n",
    "# Testing surrogate model\n",
    "\n",
    "# surrogate_cnn_path = 'ReVIT/models/surrogate_cnn/surrogate_cnn_final_loss_0.15_train_acc_0.93.pth'\n",
    "# model = torch.load(surrogate_cnn_path).cuda()\n",
    "\n",
    "root_dir = 'data/TB_data/'\n",
    "data_loader, dataset_ = data.data_loader(root_dir=root_dir)\n",
    "print(\"\\n-->> Testing for Clean Samples\")\n",
    "total_loss, total_accuracy = test_surrogate_model(data_loader['test'], surrogate_model_Def) # Here test set is from Original data.\n",
    "print(\"\\n-->> Testing for Attack Samples\")\n",
    "\n",
    "image_folder_path = 'attack_images'\n",
    "attack_list = ['FGSM', 'PGD', 'BIM', 'AUTOPGD', 'CW']\n",
    "for i in attack_list: #For all attack types in attack_list\n",
    "    attack_name = i\n",
    "    print(f'\\nFor {attack_name} Attack samples:')\n",
    "    loader_, dataset_ = data_loader_attacks(root_dir=image_folder_path, attack_name= attack_name, batch_size=15)\n",
    "    total_loss, total_accuracy = test_surrogate_model(loader_, surrogate_model_Def) # Here test set is from Attack data.\n"
   ]
  },
  {
   "attachments": {},
   "cell_type": "markdown",
   "metadata": {},
   "source": [
    "Extracting Distilled Model"
   ]
  },
  {
   "cell_type": "code",
   "execution_count": 8,
   "metadata": {},
   "outputs": [
    {
     "name": "stdout",
     "output_type": "stream",
     "text": [
      "['number of train images is 5670', 'number of valid images is 630', 'number of test images is 700']\n",
      "Classes with index are: {'Normal': 0, 'Tuberculosis': 1}\n",
      "['Normal', 'Tuberculosis']\n"
     ]
    },
    {
     "name": "stderr",
     "output_type": "stream",
     "text": [
      "100%|██████████| 21/21 [00:01<00:00, 13.86it/s]\n",
      "100%|██████████| 21/21 [00:00<00:00, 65.12it/s]\n"
     ]
    },
    {
     "name": "stdout",
     "output_type": "stream",
     "text": [
      "Epoch 1 - Loss: 0.7076, Accuracy: 0.5778\n"
     ]
    },
    {
     "name": "stderr",
     "output_type": "stream",
     "text": [
      "100%|██████████| 21/21 [00:00<00:00, 72.66it/s]\n"
     ]
    },
    {
     "name": "stdout",
     "output_type": "stream",
     "text": [
      "Epoch 2 - Loss: 0.3791, Accuracy: 0.8143\n"
     ]
    },
    {
     "name": "stderr",
     "output_type": "stream",
     "text": [
      "100%|██████████| 21/21 [00:00<00:00, 72.37it/s]\n"
     ]
    },
    {
     "name": "stdout",
     "output_type": "stream",
     "text": [
      "Epoch 3 - Loss: 0.2987, Accuracy: 0.8651\n"
     ]
    },
    {
     "name": "stderr",
     "output_type": "stream",
     "text": [
      "100%|██████████| 21/21 [00:00<00:00, 72.63it/s]\n"
     ]
    },
    {
     "name": "stdout",
     "output_type": "stream",
     "text": [
      "Epoch 4 - Loss: 0.2410, Accuracy: 0.8968\n"
     ]
    },
    {
     "name": "stderr",
     "output_type": "stream",
     "text": [
      "100%|██████████| 21/21 [00:00<00:00, 72.65it/s]\n"
     ]
    },
    {
     "name": "stdout",
     "output_type": "stream",
     "text": [
      "Epoch 5 - Loss: 0.1748, Accuracy: 0.9333\n"
     ]
    },
    {
     "name": "stderr",
     "output_type": "stream",
     "text": [
      "100%|██████████| 21/21 [00:00<00:00, 72.51it/s]\n"
     ]
    },
    {
     "name": "stdout",
     "output_type": "stream",
     "text": [
      "Epoch 6 - Loss: 0.1479, Accuracy: 0.9413\n"
     ]
    },
    {
     "name": "stderr",
     "output_type": "stream",
     "text": [
      "100%|██████████| 21/21 [00:00<00:00, 72.24it/s]\n"
     ]
    },
    {
     "name": "stdout",
     "output_type": "stream",
     "text": [
      "Epoch 7 - Loss: 0.1350, Accuracy: 0.9524\n"
     ]
    },
    {
     "name": "stderr",
     "output_type": "stream",
     "text": [
      "100%|██████████| 21/21 [00:00<00:00, 72.47it/s]\n"
     ]
    },
    {
     "name": "stdout",
     "output_type": "stream",
     "text": [
      "Epoch 8 - Loss: 0.1173, Accuracy: 0.9571\n"
     ]
    },
    {
     "name": "stderr",
     "output_type": "stream",
     "text": [
      "100%|██████████| 21/21 [00:00<00:00, 72.28it/s]\n"
     ]
    },
    {
     "name": "stdout",
     "output_type": "stream",
     "text": [
      "Epoch 9 - Loss: 0.1073, Accuracy: 0.9524\n"
     ]
    },
    {
     "name": "stderr",
     "output_type": "stream",
     "text": [
      "100%|██████████| 21/21 [00:00<00:00, 72.25it/s]\n"
     ]
    },
    {
     "name": "stdout",
     "output_type": "stream",
     "text": [
      "Epoch 10 - Loss: 0.0836, Accuracy: 0.9651\n"
     ]
    },
    {
     "name": "stderr",
     "output_type": "stream",
     "text": [
      "100%|██████████| 21/21 [00:00<00:00, 72.65it/s]\n"
     ]
    },
    {
     "name": "stdout",
     "output_type": "stream",
     "text": [
      "Epoch 11 - Loss: 0.0722, Accuracy: 0.9698\n"
     ]
    },
    {
     "name": "stderr",
     "output_type": "stream",
     "text": [
      "100%|██████████| 21/21 [00:00<00:00, 73.17it/s]\n"
     ]
    },
    {
     "name": "stdout",
     "output_type": "stream",
     "text": [
      "Epoch 12 - Loss: 0.0423, Accuracy: 0.9841\n"
     ]
    },
    {
     "name": "stderr",
     "output_type": "stream",
     "text": [
      "100%|██████████| 21/21 [00:00<00:00, 72.50it/s]\n"
     ]
    },
    {
     "name": "stdout",
     "output_type": "stream",
     "text": [
      "Epoch 13 - Loss: 0.0400, Accuracy: 0.9857\n"
     ]
    },
    {
     "name": "stderr",
     "output_type": "stream",
     "text": [
      "100%|██████████| 21/21 [00:00<00:00, 73.20it/s]\n"
     ]
    },
    {
     "name": "stdout",
     "output_type": "stream",
     "text": [
      "Epoch 14 - Loss: 0.0290, Accuracy: 0.9921\n"
     ]
    },
    {
     "name": "stderr",
     "output_type": "stream",
     "text": [
      "100%|██████████| 21/21 [00:00<00:00, 73.15it/s]\n"
     ]
    },
    {
     "name": "stdout",
     "output_type": "stream",
     "text": [
      "Epoch 15 - Loss: 0.0585, Accuracy: 0.9778\n"
     ]
    },
    {
     "name": "stderr",
     "output_type": "stream",
     "text": [
      "100%|██████████| 21/21 [00:00<00:00, 72.97it/s]\n"
     ]
    },
    {
     "name": "stdout",
     "output_type": "stream",
     "text": [
      "Epoch 16 - Loss: 0.0352, Accuracy: 0.9889\n"
     ]
    },
    {
     "name": "stderr",
     "output_type": "stream",
     "text": [
      "100%|██████████| 21/21 [00:00<00:00, 72.66it/s]\n"
     ]
    },
    {
     "name": "stdout",
     "output_type": "stream",
     "text": [
      "Epoch 17 - Loss: 0.0229, Accuracy: 0.9937\n"
     ]
    },
    {
     "name": "stderr",
     "output_type": "stream",
     "text": [
      "100%|██████████| 21/21 [00:00<00:00, 72.84it/s]\n"
     ]
    },
    {
     "name": "stdout",
     "output_type": "stream",
     "text": [
      "Epoch 18 - Loss: 0.0267, Accuracy: 0.9937\n"
     ]
    },
    {
     "name": "stderr",
     "output_type": "stream",
     "text": [
      "100%|██████████| 21/21 [00:00<00:00, 71.77it/s]\n"
     ]
    },
    {
     "name": "stdout",
     "output_type": "stream",
     "text": [
      "Epoch 19 - Loss: 0.0105, Accuracy: 0.9968\n"
     ]
    },
    {
     "name": "stderr",
     "output_type": "stream",
     "text": [
      "100%|██████████| 21/21 [00:00<00:00, 72.54it/s]\n"
     ]
    },
    {
     "name": "stdout",
     "output_type": "stream",
     "text": [
      "Epoch 20 - Loss: 0.0030, Accuracy: 1.0000\n",
      "['number of train images is 5670', 'number of valid images is 630', 'number of test images is 700']\n",
      "Classes with index are: {'Normal': 0, 'Tuberculosis': 1}\n",
      "['Normal', 'Tuberculosis']\n",
      "\n",
      "-->> Testing for Clean Samples\n"
     ]
    },
    {
     "name": "stderr",
     "output_type": "stream",
     "text": [
      "100%|██████████| 23/23 [00:01<00:00, 17.41it/s]\n"
     ]
    },
    {
     "name": "stdout",
     "output_type": "stream",
     "text": [
      "Test Loss: 0.5215, Test Accuracy: 0.8971\n",
      "\n",
      "-->> Testing for Attack Samples\n",
      "\n",
      "For FGSM Attack samples:\n",
      "number of images is 690\n",
      "Classes with index are: {'Normal': 0, 'Tuberculosis': 1}\n"
     ]
    },
    {
     "name": "stderr",
     "output_type": "stream",
     "text": [
      "100%|██████████| 46/46 [00:00<00:00, 58.02it/s]\n"
     ]
    },
    {
     "name": "stdout",
     "output_type": "stream",
     "text": [
      "Test Loss: 0.6633, Test Accuracy: 0.8971\n",
      "\n",
      "For PGD Attack samples:\n",
      "number of images is 690\n",
      "Classes with index are: {'Normal': 0, 'Tuberculosis': 1}\n"
     ]
    },
    {
     "name": "stderr",
     "output_type": "stream",
     "text": [
      "100%|██████████| 46/46 [00:00<00:00, 56.59it/s]\n"
     ]
    },
    {
     "name": "stdout",
     "output_type": "stream",
     "text": [
      "Test Loss: 0.7329, Test Accuracy: 0.8870\n",
      "\n",
      "For BIM Attack samples:\n",
      "number of images is 690\n",
      "Classes with index are: {'Normal': 0, 'Tuberculosis': 1}\n"
     ]
    },
    {
     "name": "stderr",
     "output_type": "stream",
     "text": [
      "100%|██████████| 46/46 [00:00<00:00, 61.21it/s]\n"
     ]
    },
    {
     "name": "stdout",
     "output_type": "stream",
     "text": [
      "Test Loss: 0.5291, Test Accuracy: 0.9101\n",
      "\n",
      "For AUTOPGD Attack samples:\n",
      "number of images is 690\n",
      "Classes with index are: {'Normal': 0, 'Tuberculosis': 1}\n"
     ]
    },
    {
     "name": "stderr",
     "output_type": "stream",
     "text": [
      "100%|██████████| 46/46 [00:00<00:00, 58.39it/s]\n"
     ]
    },
    {
     "name": "stdout",
     "output_type": "stream",
     "text": [
      "Test Loss: 0.6224, Test Accuracy: 0.8986\n",
      "\n",
      "For CW Attack samples:\n",
      "number of images is 690\n",
      "Classes with index are: {'Normal': 0, 'Tuberculosis': 1}\n"
     ]
    },
    {
     "name": "stderr",
     "output_type": "stream",
     "text": [
      "100%|██████████| 46/46 [00:00<00:00, 62.18it/s]"
     ]
    },
    {
     "name": "stdout",
     "output_type": "stream",
     "text": [
      "Test Loss: 0.5291, Test Accuracy: 0.9101\n"
     ]
    },
    {
     "name": "stderr",
     "output_type": "stream",
     "text": [
      "\n"
     ]
    }
   ],
   "source": [
    "#__main__ \n",
    "\n",
    "root_dir = 'data/TB_data/' #Auxillary dataset\n",
    "data_loader, dataset_ = data.data_loader(root_dir=root_dir)\n",
    "\n",
    "# Create dataset of input-output pairs\n",
    "extraction_dataset = ExtractionDataset_Def(data_loader['valid'], surrogate_model_Def) #Here model-to-extract is the Distilled surrogate_model_Def model\n",
    "\n",
    "# Train surrogate model\n",
    "surrogate_model_1 = SurrogateModel(num_classes=2).cuda()\n",
    "optimizer = torch.optim.Adam(surrogate_model_1.parameters(), lr=1e-3)\n",
    "criterion = nn.CrossEntropyLoss()\n",
    "surrogate_model = train_surrogate_model(extraction_dataset, surrogate_model_1, optimizer, criterion, num_epochs=20)\n",
    "\n",
    "# Testing surrogate model\n",
    "# surrogate_cnn_path = 'ReVIT/models/surrogate_cnn/surrogate_cnn_final_loss_0.15_train_acc_0.93.pth'\n",
    "# model = torch.load(surrogate_cnn_path).cuda()\n",
    "\n",
    "root_dir = 'data/TB_data/'\n",
    "data_loader, dataset_ = data.data_loader(root_dir=root_dir)\n",
    "print(\"\\n-->> Testing for Clean Samples\")\n",
    "total_loss, total_accuracy = test_surrogate_model(data_loader['test'], surrogate_model_1) # Here test set is from Original data.\n",
    "print(\"\\n-->> Testing for Attack Samples\")\n",
    "\n",
    "image_folder_path = 'attack_images_surrogate_0.03/'\n",
    "attack_list = ['FGSM', 'PGD', 'BIM', 'AUTOPGD', 'CW']\n",
    "for i in attack_list: #For all attack types in attack_list\n",
    "    attack_name = i\n",
    "    print(f'\\nFor {attack_name} Attack samples:')\n",
    "    loader_, dataset_ = data_loader_attacks(root_dir=image_folder_path, attack_name= attack_name, batch_size=15)\n",
    "    total_loss, total_accuracy = test_surrogate_model(loader_, surrogate_model_1) # Here test set is from Attack data."
   ]
  },
  {
   "attachments": {},
   "cell_type": "markdown",
   "metadata": {},
   "source": [
    "Extracting Original Model"
   ]
  },
  {
   "cell_type": "code",
   "execution_count": 9,
   "metadata": {},
   "outputs": [
    {
     "name": "stdout",
     "output_type": "stream",
     "text": [
      "['number of train images is 5670', 'number of valid images is 630', 'number of test images is 700']\n",
      "Classes with index are: {'Normal': 0, 'Tuberculosis': 1}\n",
      "['Normal', 'Tuberculosis']\n",
      "ViT is loaded!\n",
      "cnn_block_0_train_acc0.91_test_acc0.93.pth\n",
      "MLP 1 is loaded!\n",
      "cnn_block_1_train_acc0.94_test_acc0.95.pth\n",
      "All CNNs are loaded!\n"
     ]
    },
    {
     "name": "stderr",
     "output_type": "stream",
     "text": [
      "100%|██████████| 21/21 [00:03<00:00,  5.97it/s]\n",
      "100%|██████████| 21/21 [00:00<00:00, 72.16it/s]\n"
     ]
    },
    {
     "name": "stdout",
     "output_type": "stream",
     "text": [
      "Epoch 1 - Loss: 0.7082, Accuracy: 0.5540\n"
     ]
    },
    {
     "name": "stderr",
     "output_type": "stream",
     "text": [
      "100%|██████████| 21/21 [00:00<00:00, 72.80it/s]\n"
     ]
    },
    {
     "name": "stdout",
     "output_type": "stream",
     "text": [
      "Epoch 2 - Loss: 0.3930, Accuracy: 0.8476\n"
     ]
    },
    {
     "name": "stderr",
     "output_type": "stream",
     "text": [
      "100%|██████████| 21/21 [00:00<00:00, 72.24it/s]\n"
     ]
    },
    {
     "name": "stdout",
     "output_type": "stream",
     "text": [
      "Epoch 3 - Loss: 0.2987, Accuracy: 0.8603\n"
     ]
    },
    {
     "name": "stderr",
     "output_type": "stream",
     "text": [
      "100%|██████████| 21/21 [00:00<00:00, 72.34it/s]\n"
     ]
    },
    {
     "name": "stdout",
     "output_type": "stream",
     "text": [
      "Epoch 4 - Loss: 0.2245, Accuracy: 0.8968\n"
     ]
    },
    {
     "name": "stderr",
     "output_type": "stream",
     "text": [
      "100%|██████████| 21/21 [00:00<00:00, 72.40it/s]\n"
     ]
    },
    {
     "name": "stdout",
     "output_type": "stream",
     "text": [
      "Epoch 5 - Loss: 0.2658, Accuracy: 0.8762\n"
     ]
    },
    {
     "name": "stderr",
     "output_type": "stream",
     "text": [
      "100%|██████████| 21/21 [00:00<00:00, 72.76it/s]\n"
     ]
    },
    {
     "name": "stdout",
     "output_type": "stream",
     "text": [
      "Epoch 6 - Loss: 0.1978, Accuracy: 0.9286\n"
     ]
    },
    {
     "name": "stderr",
     "output_type": "stream",
     "text": [
      "100%|██████████| 21/21 [00:00<00:00, 72.83it/s]\n"
     ]
    },
    {
     "name": "stdout",
     "output_type": "stream",
     "text": [
      "Epoch 7 - Loss: 0.1594, Accuracy: 0.9317\n"
     ]
    },
    {
     "name": "stderr",
     "output_type": "stream",
     "text": [
      "100%|██████████| 21/21 [00:00<00:00, 72.40it/s]\n"
     ]
    },
    {
     "name": "stdout",
     "output_type": "stream",
     "text": [
      "Epoch 8 - Loss: 0.1064, Accuracy: 0.9619\n"
     ]
    },
    {
     "name": "stderr",
     "output_type": "stream",
     "text": [
      "100%|██████████| 21/21 [00:00<00:00, 72.82it/s]\n"
     ]
    },
    {
     "name": "stdout",
     "output_type": "stream",
     "text": [
      "Epoch 9 - Loss: 0.1046, Accuracy: 0.9603\n"
     ]
    },
    {
     "name": "stderr",
     "output_type": "stream",
     "text": [
      "100%|██████████| 21/21 [00:00<00:00, 72.68it/s]\n"
     ]
    },
    {
     "name": "stdout",
     "output_type": "stream",
     "text": [
      "Epoch 10 - Loss: 0.0747, Accuracy: 0.9714\n"
     ]
    },
    {
     "name": "stderr",
     "output_type": "stream",
     "text": [
      "100%|██████████| 21/21 [00:00<00:00, 72.25it/s]\n"
     ]
    },
    {
     "name": "stdout",
     "output_type": "stream",
     "text": [
      "Epoch 11 - Loss: 0.0612, Accuracy: 0.9746\n"
     ]
    },
    {
     "name": "stderr",
     "output_type": "stream",
     "text": [
      "100%|██████████| 21/21 [00:00<00:00, 72.25it/s]\n"
     ]
    },
    {
     "name": "stdout",
     "output_type": "stream",
     "text": [
      "Epoch 12 - Loss: 0.0461, Accuracy: 0.9794\n"
     ]
    },
    {
     "name": "stderr",
     "output_type": "stream",
     "text": [
      "100%|██████████| 21/21 [00:00<00:00, 72.20it/s]\n"
     ]
    },
    {
     "name": "stdout",
     "output_type": "stream",
     "text": [
      "Epoch 13 - Loss: 0.0390, Accuracy: 0.9889\n"
     ]
    },
    {
     "name": "stderr",
     "output_type": "stream",
     "text": [
      "100%|██████████| 21/21 [00:00<00:00, 72.31it/s]\n"
     ]
    },
    {
     "name": "stdout",
     "output_type": "stream",
     "text": [
      "Epoch 14 - Loss: 0.0329, Accuracy: 0.9905\n"
     ]
    },
    {
     "name": "stderr",
     "output_type": "stream",
     "text": [
      "100%|██████████| 21/21 [00:00<00:00, 72.11it/s]\n"
     ]
    },
    {
     "name": "stdout",
     "output_type": "stream",
     "text": [
      "Epoch 15 - Loss: 0.0461, Accuracy: 0.9794\n"
     ]
    },
    {
     "name": "stderr",
     "output_type": "stream",
     "text": [
      "100%|██████████| 21/21 [00:00<00:00, 72.51it/s]\n"
     ]
    },
    {
     "name": "stdout",
     "output_type": "stream",
     "text": [
      "Epoch 16 - Loss: 0.0884, Accuracy: 0.9635\n"
     ]
    },
    {
     "name": "stderr",
     "output_type": "stream",
     "text": [
      "100%|██████████| 21/21 [00:00<00:00, 72.67it/s]\n"
     ]
    },
    {
     "name": "stdout",
     "output_type": "stream",
     "text": [
      "Epoch 17 - Loss: 0.0777, Accuracy: 0.9667\n"
     ]
    },
    {
     "name": "stderr",
     "output_type": "stream",
     "text": [
      "100%|██████████| 21/21 [00:00<00:00, 72.47it/s]\n"
     ]
    },
    {
     "name": "stdout",
     "output_type": "stream",
     "text": [
      "Epoch 18 - Loss: 0.0432, Accuracy: 0.9857\n"
     ]
    },
    {
     "name": "stderr",
     "output_type": "stream",
     "text": [
      "100%|██████████| 21/21 [00:00<00:00, 71.10it/s]\n"
     ]
    },
    {
     "name": "stdout",
     "output_type": "stream",
     "text": [
      "Epoch 19 - Loss: 0.0382, Accuracy: 0.9825\n"
     ]
    },
    {
     "name": "stderr",
     "output_type": "stream",
     "text": [
      "100%|██████████| 21/21 [00:00<00:00, 71.91it/s]\n"
     ]
    },
    {
     "name": "stdout",
     "output_type": "stream",
     "text": [
      "Epoch 20 - Loss: 0.0275, Accuracy: 0.9921\n",
      "['number of train images is 5670', 'number of valid images is 630', 'number of test images is 700']\n",
      "Classes with index are: {'Normal': 0, 'Tuberculosis': 1}\n",
      "['Normal', 'Tuberculosis']\n",
      "\n",
      "-->> Testing for Clean Samples\n"
     ]
    },
    {
     "name": "stderr",
     "output_type": "stream",
     "text": [
      "100%|██████████| 23/23 [00:01<00:00, 16.49it/s]\n"
     ]
    },
    {
     "name": "stdout",
     "output_type": "stream",
     "text": [
      "Test Loss: 0.3070, Test Accuracy: 0.9129\n",
      "\n",
      "-->> Testing for Attack Samples\n",
      "\n",
      "For FGSM Attack samples:\n",
      "number of images is 690\n",
      "Classes with index are: {'Normal': 0, 'Tuberculosis': 1}\n"
     ]
    },
    {
     "name": "stderr",
     "output_type": "stream",
     "text": [
      "100%|██████████| 46/46 [00:00<00:00, 60.47it/s]\n"
     ]
    },
    {
     "name": "stdout",
     "output_type": "stream",
     "text": [
      "Test Loss: 0.7240, Test Accuracy: 0.8435\n",
      "\n",
      "For PGD Attack samples:\n",
      "number of images is 690\n",
      "Classes with index are: {'Normal': 0, 'Tuberculosis': 1}\n"
     ]
    },
    {
     "name": "stderr",
     "output_type": "stream",
     "text": [
      "100%|██████████| 46/46 [00:00<00:00, 59.01it/s]\n"
     ]
    },
    {
     "name": "stdout",
     "output_type": "stream",
     "text": [
      "Test Loss: 0.8979, Test Accuracy: 0.7986\n",
      "\n",
      "For BIM Attack samples:\n",
      "number of images is 690\n",
      "Classes with index are: {'Normal': 0, 'Tuberculosis': 1}\n"
     ]
    },
    {
     "name": "stderr",
     "output_type": "stream",
     "text": [
      "100%|██████████| 46/46 [00:00<00:00, 64.06it/s]\n"
     ]
    },
    {
     "name": "stdout",
     "output_type": "stream",
     "text": [
      "Test Loss: 0.3115, Test Accuracy: 0.9261\n",
      "\n",
      "For AUTOPGD Attack samples:\n",
      "number of images is 690\n",
      "Classes with index are: {'Normal': 0, 'Tuberculosis': 1}\n"
     ]
    },
    {
     "name": "stderr",
     "output_type": "stream",
     "text": [
      "100%|██████████| 46/46 [00:00<00:00, 56.31it/s]\n"
     ]
    },
    {
     "name": "stdout",
     "output_type": "stream",
     "text": [
      "Test Loss: 0.7617, Test Accuracy: 0.7899\n",
      "\n",
      "For CW Attack samples:\n",
      "number of images is 690\n",
      "Classes with index are: {'Normal': 0, 'Tuberculosis': 1}\n"
     ]
    },
    {
     "name": "stderr",
     "output_type": "stream",
     "text": [
      "100%|██████████| 46/46 [00:00<00:00, 57.25it/s]"
     ]
    },
    {
     "name": "stdout",
     "output_type": "stream",
     "text": [
      "Test Loss: 0.3115, Test Accuracy: 0.9261\n"
     ]
    },
    {
     "name": "stderr",
     "output_type": "stream",
     "text": [
      "\n"
     ]
    }
   ],
   "source": [
    "#__main__\n",
    "\n",
    "root_dir = 'data/TB_data/' #Auxillary dataset\n",
    "data_loader, dataset_ = data.data_loader(root_dir=root_dir)\n",
    "\n",
    "# Create dataset of input-output pairs\n",
    "extraction_dataset = ExtractionDataset(data_loader['valid']) #Here Input is the In-Distribution Valid set from Original data.\n",
    "\n",
    "# Train surrogate model\n",
    "surrogate_model_1 = SurrogateModel(num_classes=2).cuda()\n",
    "optimizer = torch.optim.Adam(surrogate_model_1.parameters(), lr=1e-3)\n",
    "criterion = nn.CrossEntropyLoss()\n",
    "surrogate_model = train_surrogate_model(extraction_dataset, surrogate_model_1, optimizer, criterion, num_epochs=20)\n",
    "\n",
    "# Testing surrogate model\n",
    "# surrogate_cnn_path = 'ReVIT/models/surrogate_cnn/surrogate_cnn_final_loss_0.15_train_acc_0.93.pth'\n",
    "# model = torch.load(surrogate_cnn_path).cuda()\n",
    "\n",
    "root_dir = 'data/TB_data/'\n",
    "data_loader, dataset_ = data.data_loader(root_dir=root_dir)\n",
    "print(\"\\n-->> Testing for Clean Samples\")\n",
    "total_loss, total_accuracy = test_surrogate_model(data_loader['test'], surrogate_model_1) # Here test set is from Original data.\n",
    "print(\"\\n-->> Testing for Attack Samples\")\n",
    "\n",
    "image_folder_path = 'attack_images_surrogate_0.03/'\n",
    "attack_list = ['FGSM', 'PGD', 'BIM', 'AUTOPGD', 'CW']\n",
    "for i in attack_list: #For all attack types in attack_list\n",
    "    attack_name = i\n",
    "    print(f'\\nFor {attack_name} Attack samples:')\n",
    "    loader_, dataset_ = data_loader_attacks(root_dir=image_folder_path, attack_name= attack_name, batch_size=15)\n",
    "    total_loss, total_accuracy = test_surrogate_model(loader_, surrogate_model_1) # Here test set is from Attack data."
   ]
  },
  {
   "attachments": {},
   "cell_type": "markdown",
   "metadata": {},
   "source": [
    "Can I state that if attacker's surrogate model is performing good accuracy, then the original model is not robust?\n",
    "\n",
    "No, it is not appropriate to conclude that if an attacker's surrogate model is performing well, then the original model is not robust. There are several reasons for this:\n",
    "\n",
    "The surrogate model may be capturing the general trends of the original model and not the exact decision boundary. In this case, the surrogate model may perform well on a subset of data, but it may not generalize well to the entire dataset or other datasets.\n",
    "\n",
    "The attacker may have access to additional information, such as the training data or architecture of the original model, that was not used to create the surrogate model. This additional information may allow the attacker to construct more effective attacks.\n",
    "\n",
    "The performance of the surrogate model may depend on the specific attack used by the attacker. If the attacker uses a different attack method or parameters, the surrogate model's performance may degrade.\n",
    "\n",
    "Therefore, it is important to evaluate the original model's robustness against a wide range of attacks and use appropriate defenses to protect it."
   ]
  },
  {
   "cell_type": "code",
   "execution_count": null,
   "metadata": {},
   "outputs": [],
   "source": []
  },
  {
   "cell_type": "code",
   "execution_count": null,
   "metadata": {},
   "outputs": [],
   "source": []
  },
  {
   "cell_type": "code",
   "execution_count": 15,
   "metadata": {},
   "outputs": [
    {
     "name": "stdout",
     "output_type": "stream",
     "text": [
      "['number of train images is 5670', 'number of valid images is 630', 'number of test images is 700']\n",
      "Classes with index are: {'Normal': 0, 'Tuberculosis': 1}\n",
      "['Normal', 'Tuberculosis']\n",
      "attack_images_surrogate_0.03\n",
      "attack_images_surrogate_0.03\n",
      "attack_images_surrogate_0.03\n",
      "attack_images_surrogate_0.03\n",
      "attack_images_surrogate_0.03\n",
      "Batch\n",
      "Batch\n",
      "Batch\n",
      "Batch\n",
      "Batch\n",
      "Batch\n",
      "Batch\n",
      "Batch\n",
      "Batch\n",
      "Batch\n",
      "Batch\n",
      "Batch\n",
      "Batch\n",
      "Batch\n",
      "Batch\n",
      "Batch\n",
      "Batch\n",
      "Batch\n",
      "Batch\n",
      "Batch\n",
      "Batch\n",
      "Batch\n",
      "Batch\n",
      "Batch\n",
      "Batch\n",
      "Batch\n",
      "Batch\n",
      "Batch\n",
      "Batch\n",
      "Batch\n",
      "Batch\n",
      "Batch\n",
      "Batch\n",
      "Batch\n",
      "Batch\n",
      "Batch\n",
      "Batch\n",
      "Batch\n",
      "Batch\n",
      "Batch\n",
      "Batch\n",
      "Batch\n",
      "Batch\n",
      "Batch\n",
      "Batch\n",
      "Batch\n",
      "Batch\n",
      "Batch\n",
      "Batch\n",
      "Batch\n",
      "Batch\n",
      "Batch\n",
      "Batch\n",
      "Batch\n",
      "Batch\n",
      "Batch\n",
      "Batch\n",
      "Batch\n",
      "Batch\n",
      "Batch\n",
      "Batch\n",
      "Batch\n",
      "Batch\n",
      "Batch\n",
      "Batch\n",
      "Batch\n",
      "Batch\n",
      "Batch\n",
      "Batch\n",
      "using custom version including apgd-ce.\n",
      "initial accuracy: 96.67%\n",
      "apgd-ce - 1/1 - 27 out of 29 successfully perturbed\n",
      "robust accuracy after APGD-CE: 6.67% (total time 3.1 s)\n",
      "max Linf perturbation: 0.03000, nan in tensor: 0, max: 1.00000, min: 0.00000\n",
      "robust accuracy: 6.67%\n",
      "using custom version including apgd-ce.\n",
      "initial accuracy: 100.00%\n",
      "apgd-ce - 1/1 - 26 out of 30 successfully perturbed\n",
      "robust accuracy after APGD-CE: 13.33% (total time 3.2 s)\n",
      "max Linf perturbation: 0.03000, nan in tensor: 0, max: 1.00000, min: 0.00000\n",
      "robust accuracy: 13.33%\n",
      "using custom version including apgd-ce.\n",
      "initial accuracy: 90.00%\n",
      "apgd-ce - 1/1 - 23 out of 27 successfully perturbed\n",
      "robust accuracy after APGD-CE: 13.33% (total time 3.0 s)\n",
      "max Linf perturbation: 0.03000, nan in tensor: 0, max: 1.00000, min: 0.00000\n",
      "robust accuracy: 13.33%\n",
      "using custom version including apgd-ce.\n",
      "initial accuracy: 96.67%\n",
      "apgd-ce - 1/1 - 27 out of 29 successfully perturbed\n",
      "robust accuracy after APGD-CE: 6.67% (total time 3.1 s)\n",
      "max Linf perturbation: 0.03000, nan in tensor: 0, max: 1.00000, min: 0.00000\n",
      "robust accuracy: 6.67%\n",
      "using custom version including apgd-ce.\n",
      "initial accuracy: 93.33%\n",
      "apgd-ce - 1/1 - 27 out of 28 successfully perturbed\n",
      "robust accuracy after APGD-CE: 3.33% (total time 3.1 s)\n",
      "max Linf perturbation: 0.03000, nan in tensor: 0, max: 1.00000, min: 0.00000\n",
      "robust accuracy: 3.33%\n",
      "using custom version including apgd-ce.\n",
      "initial accuracy: 96.67%\n",
      "apgd-ce - 1/1 - 27 out of 29 successfully perturbed\n",
      "robust accuracy after APGD-CE: 6.67% (total time 3.0 s)\n",
      "max Linf perturbation: 0.03000, nan in tensor: 0, max: 1.00000, min: 0.00000\n",
      "robust accuracy: 6.67%\n",
      "using custom version including apgd-ce.\n",
      "initial accuracy: 96.67%\n",
      "apgd-ce - 1/1 - 28 out of 29 successfully perturbed\n",
      "robust accuracy after APGD-CE: 3.33% (total time 3.1 s)\n",
      "max Linf perturbation: 0.03000, nan in tensor: 0, max: 1.00000, min: 0.00000\n",
      "robust accuracy: 3.33%\n",
      "using custom version including apgd-ce.\n",
      "initial accuracy: 96.67%\n",
      "apgd-ce - 1/1 - 28 out of 29 successfully perturbed\n",
      "robust accuracy after APGD-CE: 3.33% (total time 3.1 s)\n",
      "max Linf perturbation: 0.03000, nan in tensor: 0, max: 1.00000, min: 0.00000\n",
      "robust accuracy: 3.33%\n",
      "using custom version including apgd-ce.\n",
      "initial accuracy: 96.67%\n",
      "apgd-ce - 1/1 - 27 out of 29 successfully perturbed\n",
      "robust accuracy after APGD-CE: 6.67% (total time 3.0 s)\n",
      "max Linf perturbation: 0.03000, nan in tensor: 0, max: 1.00000, min: 0.00000\n",
      "robust accuracy: 6.67%\n",
      "using custom version including apgd-ce.\n",
      "initial accuracy: 96.67%\n",
      "apgd-ce - 1/1 - 26 out of 29 successfully perturbed\n",
      "robust accuracy after APGD-CE: 10.00% (total time 3.1 s)\n",
      "max Linf perturbation: 0.03000, nan in tensor: 0, max: 1.00000, min: 0.00000\n",
      "robust accuracy: 10.00%\n",
      "using custom version including apgd-ce.\n",
      "initial accuracy: 96.67%\n",
      "apgd-ce - 1/1 - 28 out of 29 successfully perturbed\n",
      "robust accuracy after APGD-CE: 3.33% (total time 3.0 s)\n",
      "max Linf perturbation: 0.03000, nan in tensor: 0, max: 1.00000, min: 0.00000\n",
      "robust accuracy: 3.33%\n",
      "using custom version including apgd-ce.\n",
      "initial accuracy: 100.00%\n",
      "apgd-ce - 1/1 - 29 out of 30 successfully perturbed\n",
      "robust accuracy after APGD-CE: 3.33% (total time 3.1 s)\n",
      "max Linf perturbation: 0.03000, nan in tensor: 0, max: 1.00000, min: 0.00000\n",
      "robust accuracy: 3.33%\n",
      "using custom version including apgd-ce.\n",
      "initial accuracy: 86.67%\n",
      "apgd-ce - 1/1 - 26 out of 26 successfully perturbed\n",
      "robust accuracy after APGD-CE: 0.00% (total time 1.4 s)\n",
      "max Linf perturbation: 0.03000, nan in tensor: 0, max: 1.00000, min: 0.00000\n",
      "robust accuracy: 0.00%\n",
      "using custom version including apgd-ce.\n",
      "initial accuracy: 90.00%\n",
      "apgd-ce - 1/1 - 27 out of 27 successfully perturbed\n",
      "robust accuracy after APGD-CE: 0.00% (total time 1.5 s)\n",
      "max Linf perturbation: 0.03000, nan in tensor: 0, max: 1.00000, min: 0.00000\n",
      "robust accuracy: 0.00%\n",
      "using custom version including apgd-ce.\n",
      "initial accuracy: 96.67%\n",
      "apgd-ce - 1/1 - 29 out of 29 successfully perturbed\n",
      "robust accuracy after APGD-CE: 0.00% (total time 1.5 s)\n",
      "max Linf perturbation: 0.03000, nan in tensor: 0, max: 1.00000, min: 0.00000\n",
      "robust accuracy: 0.00%\n",
      "using custom version including apgd-ce.\n",
      "initial accuracy: 96.67%\n",
      "apgd-ce - 1/1 - 29 out of 29 successfully perturbed\n",
      "robust accuracy after APGD-CE: 0.00% (total time 1.6 s)\n",
      "max Linf perturbation: 0.03000, nan in tensor: 0, max: 1.00000, min: 0.00000\n",
      "robust accuracy: 0.00%\n",
      "using custom version including apgd-ce.\n",
      "initial accuracy: 76.67%\n",
      "apgd-ce - 1/1 - 23 out of 23 successfully perturbed\n",
      "robust accuracy after APGD-CE: 0.00% (total time 1.3 s)\n",
      "max Linf perturbation: 0.03000, nan in tensor: 0, max: 1.00000, min: 0.00000\n",
      "robust accuracy: 0.00%\n",
      "using custom version including apgd-ce.\n",
      "initial accuracy: 93.33%\n",
      "apgd-ce - 1/1 - 28 out of 28 successfully perturbed\n",
      "robust accuracy after APGD-CE: 0.00% (total time 1.5 s)\n",
      "max Linf perturbation: 0.03000, nan in tensor: 0, max: 1.00000, min: 0.00000\n",
      "robust accuracy: 0.00%\n",
      "using custom version including apgd-ce.\n",
      "initial accuracy: 86.67%\n",
      "apgd-ce - 1/1 - 26 out of 26 successfully perturbed\n",
      "robust accuracy after APGD-CE: 0.00% (total time 1.4 s)\n",
      "max Linf perturbation: 0.03000, nan in tensor: 0, max: 1.00000, min: 0.00000\n",
      "robust accuracy: 0.00%\n",
      "using custom version including apgd-ce.\n",
      "initial accuracy: 73.33%\n",
      "apgd-ce - 1/1 - 22 out of 22 successfully perturbed\n",
      "robust accuracy after APGD-CE: 0.00% (total time 1.2 s)\n",
      "max Linf perturbation: 0.03000, nan in tensor: 0, max: 1.00000, min: 0.00000\n",
      "robust accuracy: 0.00%\n",
      "using custom version including apgd-ce.\n",
      "initial accuracy: 80.00%\n",
      "apgd-ce - 1/1 - 24 out of 24 successfully perturbed\n",
      "robust accuracy after APGD-CE: 0.00% (total time 1.3 s)\n",
      "max Linf perturbation: 0.03000, nan in tensor: 0, max: 1.00000, min: 0.00000\n",
      "robust accuracy: 0.00%\n",
      "using custom version including apgd-ce.\n",
      "initial accuracy: 83.33%\n",
      "apgd-ce - 1/1 - 25 out of 25 successfully perturbed\n",
      "robust accuracy after APGD-CE: 0.00% (total time 1.4 s)\n",
      "max Linf perturbation: 0.03000, nan in tensor: 0, max: 1.00000, min: 0.00000\n",
      "robust accuracy: 0.00%\n",
      "using custom version including apgd-ce.\n",
      "initial accuracy: 83.33%\n",
      "apgd-ce - 1/1 - 25 out of 25 successfully perturbed\n",
      "robust accuracy after APGD-CE: 0.00% (total time 1.4 s)\n",
      "max Linf perturbation: 0.03000, nan in tensor: 0, max: 1.00000, min: 0.00000\n",
      "robust accuracy: 0.00%\n",
      "Sum = 1\n",
      "Batch\n",
      "Sum = 0\n",
      "Batch\n",
      "Sum = 3\n",
      "Batch\n",
      "Sum = 1\n",
      "Batch\n",
      "Sum = 2\n",
      "Batch\n",
      "Sum = 1\n",
      "Batch\n",
      "Sum = 1\n",
      "Batch\n",
      "Sum = 1\n",
      "Batch\n",
      "Sum = 1\n",
      "Batch\n",
      "Sum = 1\n",
      "Batch\n",
      "Sum = 1\n",
      "Batch\n",
      "Sum = 0\n",
      "Batch\n",
      "Sum = 4\n",
      "Batch\n",
      "Sum = 3\n",
      "Batch\n",
      "Sum = 1\n",
      "Batch\n",
      "Sum = 1\n",
      "Batch\n",
      "Sum = 7\n",
      "Batch\n",
      "Sum = 2\n",
      "Batch\n",
      "Sum = 4\n",
      "Batch\n",
      "Sum = 8\n",
      "Batch\n",
      "Sum = 6\n",
      "Batch\n",
      "Sum = 5\n",
      "Batch\n",
      "Sum = 5\n",
      "Batch\n"
     ]
    },
    {
     "ename": "",
     "evalue": "",
     "output_type": "error",
     "traceback": [
      "\u001b[1;31mThe Kernel crashed while executing code in the the current cell or a previous cell. Please review the code in the cell(s) to identify a possible cause of the failure. Click <a href='https://aka.ms/vscodeJupyterKernelCrash'>here</a> for more info. View Jupyter <a href='command:jupyter.viewOutput'>log</a> for further details."
     ]
    }
   ],
   "source": [
    "#Generating adversarial samples for this surrogate model.\n",
    "\n",
    "# By creating adversarial examples for the surrogate model, \n",
    "# we can evaluate the robustness of the original model. If the adversarial examples \n",
    "# generated for the surrogate model are also effective against the original model, \n",
    "# then it indicates that the original model is not robust against adversarial attacks. \n",
    "# This is because the surrogate model is trained to mimic the behavior of the original \n",
    "# model, so if the adversarial examples are successful on the surrogate model, \n",
    "# they are likely to be successful on the original model as well. Therefore, \n",
    "# creating effective adversarial examples for the surrogate model is an important \n",
    "# step in evaluating the robustness of the original model.\n",
    "\n",
    "from attack import Attack\n",
    "from utils import *\n",
    "from data.dataset import data_loader\n",
    "\n",
    "root_dir = \"./data/TB_data\"\n",
    "loader_, dataset_ = data_loader(root_dir=root_dir)\n",
    "\n",
    "# model = torch.load('models/vit_base_patch16_224_in21k_test-accuracy_0.96_chest.pth').cuda() #Generating attack samples for ViT\n",
    "model = surrogate_model_1 #Generating attack samples for this surrogate model \n",
    "model.eval()\n",
    "\n",
    "attack_images_dir = \"attack_images_surrogate_0.03\"\n",
    "epsilons = 0.03\n",
    "\n",
    "generate_save_attacks(\n",
    "    attack_names= [\"FGSM\", \"PGD\", \"BIM\", \"AUTOPGD\", \"CW\"],\n",
    "    model= model,\n",
    "    samples= loader_['test'], \n",
    "    classes= ['Normal', 'Tuberculosis'],\n",
    "    attack_image_dir= attack_images_dir,\n",
    "    epsilon=epsilons,\n",
    ")"
   ]
  },
  {
   "attachments": {},
   "cell_type": "markdown",
   "metadata": {},
   "source": [
    "2. Surrogate on In distribution Dataset (Used Train set for training and Valid Set for testing) (Kaggle TB Dataset)"
   ]
  },
  {
   "cell_type": "code",
   "execution_count": 14,
   "metadata": {},
   "outputs": [
    {
     "name": "stdout",
     "output_type": "stream",
     "text": [
      "['number of train images is 3360', 'number of valid images is 420', 'number of test images is 420']\n",
      "Classes with index are: {'Normal': 0, 'Tuberculosis': 1}\n",
      "['Normal', 'Tuberculosis']\n",
      "ViT is loaded!\n",
      "MLP 1 is loaded!\n",
      "All CNNs are loaded!\n"
     ]
    },
    {
     "name": "stderr",
     "output_type": "stream",
     "text": [
      "100%|██████████| 112/112 [00:16<00:00,  6.99it/s]\n",
      "100%|██████████| 112/112 [00:01<00:00, 72.24it/s]\n"
     ]
    },
    {
     "name": "stdout",
     "output_type": "stream",
     "text": [
      "Epoch 1 - Loss: 0.3977, Accuracy: 0.8324\n"
     ]
    },
    {
     "name": "stderr",
     "output_type": "stream",
     "text": [
      "100%|██████████| 112/112 [00:01<00:00, 71.99it/s]\n"
     ]
    },
    {
     "name": "stdout",
     "output_type": "stream",
     "text": [
      "Epoch 2 - Loss: 0.2375, Accuracy: 0.9018\n"
     ]
    },
    {
     "name": "stderr",
     "output_type": "stream",
     "text": [
      "100%|██████████| 112/112 [00:01<00:00, 72.14it/s]\n"
     ]
    },
    {
     "name": "stdout",
     "output_type": "stream",
     "text": [
      "Epoch 3 - Loss: 0.1937, Accuracy: 0.9250\n"
     ]
    },
    {
     "name": "stderr",
     "output_type": "stream",
     "text": [
      "100%|██████████| 112/112 [00:01<00:00, 71.95it/s]\n"
     ]
    },
    {
     "name": "stdout",
     "output_type": "stream",
     "text": [
      "Epoch 4 - Loss: 0.1564, Accuracy: 0.9387\n"
     ]
    },
    {
     "name": "stderr",
     "output_type": "stream",
     "text": [
      "100%|██████████| 112/112 [00:01<00:00, 71.90it/s]\n"
     ]
    },
    {
     "name": "stdout",
     "output_type": "stream",
     "text": [
      "Epoch 5 - Loss: 0.1463, Accuracy: 0.9342\n"
     ]
    },
    {
     "name": "stderr",
     "output_type": "stream",
     "text": [
      "100%|██████████| 112/112 [00:01<00:00, 71.86it/s]\n"
     ]
    },
    {
     "name": "stdout",
     "output_type": "stream",
     "text": [
      "Epoch 6 - Loss: 0.1137, Accuracy: 0.9527\n"
     ]
    },
    {
     "name": "stderr",
     "output_type": "stream",
     "text": [
      "100%|██████████| 112/112 [00:01<00:00, 71.86it/s]\n"
     ]
    },
    {
     "name": "stdout",
     "output_type": "stream",
     "text": [
      "Epoch 7 - Loss: 0.0930, Accuracy: 0.9637\n"
     ]
    },
    {
     "name": "stderr",
     "output_type": "stream",
     "text": [
      "100%|██████████| 112/112 [00:01<00:00, 71.76it/s]\n"
     ]
    },
    {
     "name": "stdout",
     "output_type": "stream",
     "text": [
      "Epoch 8 - Loss: 0.0778, Accuracy: 0.9667\n"
     ]
    },
    {
     "name": "stderr",
     "output_type": "stream",
     "text": [
      "100%|██████████| 112/112 [00:01<00:00, 71.79it/s]\n"
     ]
    },
    {
     "name": "stdout",
     "output_type": "stream",
     "text": [
      "Epoch 9 - Loss: 0.0675, Accuracy: 0.9708\n"
     ]
    },
    {
     "name": "stderr",
     "output_type": "stream",
     "text": [
      "100%|██████████| 112/112 [00:01<00:00, 71.73it/s]\n"
     ]
    },
    {
     "name": "stdout",
     "output_type": "stream",
     "text": [
      "Epoch 10 - Loss: 0.0374, Accuracy: 0.9857\n"
     ]
    },
    {
     "name": "stderr",
     "output_type": "stream",
     "text": [
      "100%|██████████| 112/112 [00:01<00:00, 71.72it/s]\n"
     ]
    },
    {
     "name": "stdout",
     "output_type": "stream",
     "text": [
      "Epoch 11 - Loss: 0.0232, Accuracy: 0.9917\n"
     ]
    },
    {
     "name": "stderr",
     "output_type": "stream",
     "text": [
      "100%|██████████| 112/112 [00:01<00:00, 71.72it/s]\n"
     ]
    },
    {
     "name": "stdout",
     "output_type": "stream",
     "text": [
      "Epoch 12 - Loss: 0.0326, Accuracy: 0.9878\n"
     ]
    },
    {
     "name": "stderr",
     "output_type": "stream",
     "text": [
      "100%|██████████| 112/112 [00:01<00:00, 71.71it/s]\n"
     ]
    },
    {
     "name": "stdout",
     "output_type": "stream",
     "text": [
      "Epoch 13 - Loss: 0.0328, Accuracy: 0.9869\n"
     ]
    },
    {
     "name": "stderr",
     "output_type": "stream",
     "text": [
      "100%|██████████| 112/112 [00:01<00:00, 71.57it/s]\n"
     ]
    },
    {
     "name": "stdout",
     "output_type": "stream",
     "text": [
      "Epoch 14 - Loss: 0.0099, Accuracy: 0.9979\n"
     ]
    },
    {
     "name": "stderr",
     "output_type": "stream",
     "text": [
      "100%|██████████| 112/112 [00:01<00:00, 71.51it/s]\n"
     ]
    },
    {
     "name": "stdout",
     "output_type": "stream",
     "text": [
      "Epoch 15 - Loss: 0.0023, Accuracy: 0.9997\n"
     ]
    },
    {
     "name": "stderr",
     "output_type": "stream",
     "text": [
      "100%|██████████| 112/112 [00:01<00:00, 71.46it/s]\n"
     ]
    },
    {
     "name": "stdout",
     "output_type": "stream",
     "text": [
      "Epoch 16 - Loss: 0.0022, Accuracy: 0.9997\n"
     ]
    },
    {
     "name": "stderr",
     "output_type": "stream",
     "text": [
      "100%|██████████| 112/112 [00:01<00:00, 71.33it/s]\n"
     ]
    },
    {
     "name": "stdout",
     "output_type": "stream",
     "text": [
      "Epoch 17 - Loss: 0.0006, Accuracy: 1.0000\n"
     ]
    },
    {
     "name": "stderr",
     "output_type": "stream",
     "text": [
      "100%|██████████| 112/112 [00:01<00:00, 71.52it/s]\n"
     ]
    },
    {
     "name": "stdout",
     "output_type": "stream",
     "text": [
      "Epoch 18 - Loss: 0.0002, Accuracy: 1.0000\n"
     ]
    },
    {
     "name": "stderr",
     "output_type": "stream",
     "text": [
      "100%|██████████| 112/112 [00:01<00:00, 71.54it/s]\n"
     ]
    },
    {
     "name": "stdout",
     "output_type": "stream",
     "text": [
      "Epoch 19 - Loss: 0.0002, Accuracy: 1.0000\n"
     ]
    },
    {
     "name": "stderr",
     "output_type": "stream",
     "text": [
      "100%|██████████| 112/112 [00:01<00:00, 71.49it/s]\n"
     ]
    },
    {
     "name": "stdout",
     "output_type": "stream",
     "text": [
      "Epoch 20 - Loss: 0.0001, Accuracy: 1.0000\n",
      "['number of train images is 3360', 'number of valid images is 420', 'number of test images is 420']\n",
      "Classes with index are: {'Normal': 0, 'Tuberculosis': 1}\n",
      "['Normal', 'Tuberculosis']\n"
     ]
    },
    {
     "name": "stderr",
     "output_type": "stream",
     "text": [
      "100%|██████████| 14/14 [00:01<00:00,  9.50it/s]"
     ]
    },
    {
     "name": "stdout",
     "output_type": "stream",
     "text": [
      "Test Loss: 0.3232, Test Accuracy: 0.9500\n"
     ]
    },
    {
     "name": "stderr",
     "output_type": "stream",
     "text": [
      "\n"
     ]
    }
   ],
   "source": [
    "#__main__\n",
    "\n",
    "root_dir = 'data/TB_data_Aux/' #Auxillary dataset\n",
    "data_loader, dataset_ = data.data_loader(root_dir=root_dir)\n",
    "\n",
    "# Create dataset of input-output pairs\n",
    "extraction_dataset = ExtractionDataset(data_loader['train']) # Here Input is the In-Distribution train set from similar distribution dataset.\n",
    "\n",
    "# Train surrogate model\n",
    "surrogate_model = SurrogateModel(num_classes=2).cuda()\n",
    "optimizer = torch.optim.Adam(surrogate_model.parameters(), lr=1e-3)\n",
    "criterion = nn.CrossEntropyLoss()\n",
    "surrogate_model = train_surrogate_model(extraction_dataset, surrogate_model, optimizer, criterion, num_epochs=20)\n",
    "\n",
    "# Testing surrogate model\n",
    "# surrogate_cnn_path = 'ReVIT/models/surrogate_cnn/surrogate_cnn_final_loss_0.15_train_acc_0.93.pth'\n",
    "# model = torch.load(surrogate_cnn_path).cuda()\n",
    "\n",
    "root_dir = 'data/TB_data_Aux/'\n",
    "data_loader, dataset_ = data.data_loader(root_dir=root_dir)\n",
    "\n",
    "total_loss, total_accuracy = test_surrogate_model(data_loader['test'], surrogate_model) # Here test set is from Aux Kaggle TB data."
   ]
  },
  {
   "attachments": {},
   "cell_type": "markdown",
   "metadata": {},
   "source": [
    "3. Surrogate on Out-of distribution Dataset (Used Train set for training and Valid Set for testing) (Shenzen TB Dataset)"
   ]
  },
  {
   "cell_type": "code",
   "execution_count": 17,
   "metadata": {},
   "outputs": [
    {
     "name": "stdout",
     "output_type": "stream",
     "text": [
      "['number of train images is 528', 'number of valid images is 69', 'number of test images is 65']\n",
      "Classes with index are: {'Normal': 0, 'Tuberculosis': 1}\n",
      "['Normal', 'Tuberculosis']\n",
      "ViT is loaded!\n",
      "MLP 1 is loaded!\n",
      "All CNNs are loaded!\n"
     ]
    },
    {
     "name": "stderr",
     "output_type": "stream",
     "text": [
      "100%|██████████| 18/18 [00:25<00:00,  1.42s/it]\n",
      "100%|██████████| 18/18 [00:00<00:00, 74.57it/s]\n"
     ]
    },
    {
     "name": "stdout",
     "output_type": "stream",
     "text": [
      "Epoch 1 - Loss: 0.5069, Accuracy: 0.8605\n"
     ]
    },
    {
     "name": "stderr",
     "output_type": "stream",
     "text": [
      "100%|██████████| 18/18 [00:00<00:00, 74.54it/s]\n"
     ]
    },
    {
     "name": "stdout",
     "output_type": "stream",
     "text": [
      "Epoch 2 - Loss: 0.3531, Accuracy: 0.8617\n"
     ]
    },
    {
     "name": "stderr",
     "output_type": "stream",
     "text": [
      "100%|██████████| 18/18 [00:00<00:00, 74.67it/s]\n"
     ]
    },
    {
     "name": "stdout",
     "output_type": "stream",
     "text": [
      "Epoch 3 - Loss: 0.3420, Accuracy: 0.8673\n"
     ]
    },
    {
     "name": "stderr",
     "output_type": "stream",
     "text": [
      "100%|██████████| 18/18 [00:00<00:00, 74.74it/s]\n"
     ]
    },
    {
     "name": "stdout",
     "output_type": "stream",
     "text": [
      "Epoch 4 - Loss: 0.2803, Accuracy: 0.8846\n"
     ]
    },
    {
     "name": "stderr",
     "output_type": "stream",
     "text": [
      "100%|██████████| 18/18 [00:00<00:00, 74.65it/s]\n"
     ]
    },
    {
     "name": "stdout",
     "output_type": "stream",
     "text": [
      "Epoch 5 - Loss: 0.2193, Accuracy: 0.9093\n"
     ]
    },
    {
     "name": "stderr",
     "output_type": "stream",
     "text": [
      "100%|██████████| 18/18 [00:00<00:00, 74.79it/s]\n"
     ]
    },
    {
     "name": "stdout",
     "output_type": "stream",
     "text": [
      "Epoch 6 - Loss: 0.1876, Accuracy: 0.9191\n"
     ]
    },
    {
     "name": "stderr",
     "output_type": "stream",
     "text": [
      "100%|██████████| 18/18 [00:00<00:00, 74.71it/s]\n"
     ]
    },
    {
     "name": "stdout",
     "output_type": "stream",
     "text": [
      "Epoch 7 - Loss: 0.1777, Accuracy: 0.9309\n"
     ]
    },
    {
     "name": "stderr",
     "output_type": "stream",
     "text": [
      "100%|██████████| 18/18 [00:00<00:00, 74.75it/s]\n"
     ]
    },
    {
     "name": "stdout",
     "output_type": "stream",
     "text": [
      "Epoch 8 - Loss: 0.1878, Accuracy: 0.9259\n"
     ]
    },
    {
     "name": "stderr",
     "output_type": "stream",
     "text": [
      "100%|██████████| 18/18 [00:00<00:00, 74.69it/s]\n"
     ]
    },
    {
     "name": "stdout",
     "output_type": "stream",
     "text": [
      "Epoch 9 - Loss: 0.1745, Accuracy: 0.9315\n"
     ]
    },
    {
     "name": "stderr",
     "output_type": "stream",
     "text": [
      "100%|██████████| 18/18 [00:00<00:00, 74.54it/s]\n"
     ]
    },
    {
     "name": "stdout",
     "output_type": "stream",
     "text": [
      "Epoch 10 - Loss: 0.1673, Accuracy: 0.9228\n"
     ]
    },
    {
     "name": "stderr",
     "output_type": "stream",
     "text": [
      "100%|██████████| 18/18 [00:00<00:00, 74.77it/s]\n"
     ]
    },
    {
     "name": "stdout",
     "output_type": "stream",
     "text": [
      "Epoch 11 - Loss: 0.1519, Accuracy: 0.9198\n"
     ]
    },
    {
     "name": "stderr",
     "output_type": "stream",
     "text": [
      "100%|██████████| 18/18 [00:00<00:00, 74.61it/s]\n"
     ]
    },
    {
     "name": "stdout",
     "output_type": "stream",
     "text": [
      "Epoch 12 - Loss: 0.1100, Accuracy: 0.9586\n"
     ]
    },
    {
     "name": "stderr",
     "output_type": "stream",
     "text": [
      "100%|██████████| 18/18 [00:00<00:00, 73.79it/s]\n"
     ]
    },
    {
     "name": "stdout",
     "output_type": "stream",
     "text": [
      "Epoch 13 - Loss: 0.1001, Accuracy: 0.9556\n"
     ]
    },
    {
     "name": "stderr",
     "output_type": "stream",
     "text": [
      "100%|██████████| 18/18 [00:00<00:00, 74.70it/s]\n"
     ]
    },
    {
     "name": "stdout",
     "output_type": "stream",
     "text": [
      "Epoch 14 - Loss: 0.0797, Accuracy: 0.9654\n"
     ]
    },
    {
     "name": "stderr",
     "output_type": "stream",
     "text": [
      "100%|██████████| 18/18 [00:00<00:00, 74.43it/s]\n"
     ]
    },
    {
     "name": "stdout",
     "output_type": "stream",
     "text": [
      "Epoch 15 - Loss: 0.0455, Accuracy: 0.9840\n"
     ]
    },
    {
     "name": "stderr",
     "output_type": "stream",
     "text": [
      "100%|██████████| 18/18 [00:00<00:00, 74.58it/s]\n"
     ]
    },
    {
     "name": "stdout",
     "output_type": "stream",
     "text": [
      "Epoch 16 - Loss: 0.0526, Accuracy: 0.9741\n"
     ]
    },
    {
     "name": "stderr",
     "output_type": "stream",
     "text": [
      "100%|██████████| 18/18 [00:00<00:00, 74.44it/s]\n"
     ]
    },
    {
     "name": "stdout",
     "output_type": "stream",
     "text": [
      "Epoch 17 - Loss: 0.0477, Accuracy: 0.9840\n"
     ]
    },
    {
     "name": "stderr",
     "output_type": "stream",
     "text": [
      "100%|██████████| 18/18 [00:00<00:00, 74.57it/s]\n"
     ]
    },
    {
     "name": "stdout",
     "output_type": "stream",
     "text": [
      "Epoch 18 - Loss: 0.0578, Accuracy: 0.9691\n"
     ]
    },
    {
     "name": "stderr",
     "output_type": "stream",
     "text": [
      "100%|██████████| 18/18 [00:00<00:00, 74.48it/s]\n"
     ]
    },
    {
     "name": "stdout",
     "output_type": "stream",
     "text": [
      "Epoch 19 - Loss: 0.0325, Accuracy: 0.9907\n"
     ]
    },
    {
     "name": "stderr",
     "output_type": "stream",
     "text": [
      "100%|██████████| 18/18 [00:00<00:00, 74.43it/s]\n"
     ]
    },
    {
     "name": "stdout",
     "output_type": "stream",
     "text": [
      "Epoch 20 - Loss: 0.0182, Accuracy: 1.0000\n",
      "['number of train images is 528', 'number of valid images is 69', 'number of test images is 65']\n",
      "Classes with index are: {'Normal': 0, 'Tuberculosis': 1}\n",
      "['Normal', 'Tuberculosis']\n"
     ]
    },
    {
     "name": "stderr",
     "output_type": "stream",
     "text": [
      "100%|██████████| 2/2 [00:03<00:00,  1.85s/it]"
     ]
    },
    {
     "name": "stdout",
     "output_type": "stream",
     "text": [
      "Test Loss: 4.8500, Test Accuracy: 0.4154\n"
     ]
    },
    {
     "name": "stderr",
     "output_type": "stream",
     "text": [
      "\n"
     ]
    }
   ],
   "source": [
    "#__main__\n",
    "\n",
    "root_dir = 'data/TB_data_Aux_Shenzen/' #Auxillary dataset\n",
    "data_loader, dataset_ = data.data_loader(root_dir=root_dir)\n",
    "\n",
    "# Create dataset of input-output pairs\n",
    "extraction_dataset = ExtractionDataset(data_loader['train']) # Here Input is the Out-Distribution train set from similar distribution dataset.\n",
    "\n",
    "# Train surrogate model\n",
    "surrogate_model = SurrogateModel(num_classes=2).cuda()\n",
    "optimizer = torch.optim.Adam(surrogate_model.parameters(), lr=1e-3)\n",
    "criterion = nn.CrossEntropyLoss()\n",
    "surrogate_model = train_surrogate_model(extraction_dataset, surrogate_model, optimizer, criterion, num_epochs=20)\n",
    "\n",
    "# Testing surrogate model\n",
    "# surrogate_cnn_path = 'ReVIT/models/surrogate_cnn/surrogate_cnn_final_loss_0.15_train_acc_0.93.pth'\n",
    "# model = torch.load(surrogate_cnn_path).cuda()\n",
    "\n",
    "root_dir = 'data/TB_data_Aux_Shenzen/'\n",
    "data_loader, dataset_ = data.data_loader(root_dir=root_dir)\n",
    "\n",
    "total_loss, total_accuracy = test_surrogate_model(data_loader['test'], surrogate_model) # Here test set is from Aux Kaggle TB data."
   ]
  },
  {
   "cell_type": "code",
   "execution_count": null,
   "metadata": {},
   "outputs": [],
   "source": [
    "#Fine-tuning (Currently, Ignore this. Because, train_model is training surrogate model on original train set and validating on original valid set)\n",
    "# But in extraction, we don't have access to original train set\n",
    "\n",
    "def train_model(train_loader, val_loader, model, optimizer, criterion, num_epochs=10):\n",
    "    device = torch.device('cuda' if torch.cuda.is_available() else 'cpu')\n",
    "    model = model.to(device)\n",
    "    \n",
    "    for epoch in range(num_epochs):\n",
    "        # Train on training set\n",
    "        model.train()\n",
    "        train_loss = 0.0\n",
    "        for inputs, labels in tqdm(train_loader):\n",
    "            inputs, labels = inputs.to(device), labels.to(device)\n",
    "            optimizer.zero_grad()\n",
    "            outputs = model(inputs)\n",
    "            loss = criterion(outputs, labels)\n",
    "            loss.backward()\n",
    "            optimizer.step()\n",
    "            train_loss += loss.item() * inputs.size(0)\n",
    "        train_loss /= len(train_loader.dataset)\n",
    "\n",
    "        # Evaluate on validation set\n",
    "        model.eval()\n",
    "        val_loss = 0.0\n",
    "        val_acc = 0.0\n",
    "        with torch.no_grad():\n",
    "            for inputs, labels in tqdm(val_loader):\n",
    "                inputs, labels = inputs.to(device), labels.to(device)\n",
    "                outputs = model(inputs)\n",
    "                loss = criterion(outputs, labels)\n",
    "                val_loss += loss.item() * inputs.size(0)\n",
    "                _, preds = torch.max(outputs, 1)\n",
    "                val_acc += torch.sum(preds == labels.data)\n",
    "        val_loss /= len(val_loader.dataset)\n",
    "        val_acc = val_acc.double() / len(val_loader.dataset)\n",
    "\n",
    "        # Print progress\n",
    "        print(f'Epoch {epoch+1}/{num_epochs}: '\n",
    "              f'Train Loss: {train_loss:.4f} '\n",
    "              f'Val Loss: {val_loss:.4f} '\n",
    "              f'Val Acc: {val_acc:.4f}')\n",
    "    \n",
    "    return model\n",
    "\n",
    "\n",
    "# Fine-tune surrogate model\n",
    "train_loader, val_loader = data_loader['train'], data_loader['valid']\n",
    "optimizer = torch.optim.Adam(surrogate_model.parameters(), lr=1e-4)\n",
    "\n",
    "surrogate_model = train_model(train_loader, val_loader, surrogate_model, optimizer, criterion, num_epochs=10)"
   ]
  },
  {
   "cell_type": "code",
   "execution_count": null,
   "metadata": {},
   "outputs": [],
   "source": []
  }
 ],
 "metadata": {
  "kernelspec": {
   "display_name": "Python 3",
   "language": "python",
   "name": "python3"
  },
  "language_info": {
   "codemirror_mode": {
    "name": "ipython",
    "version": 3
   },
   "file_extension": ".py",
   "mimetype": "text/x-python",
   "name": "python",
   "nbconvert_exporter": "python",
   "pygments_lexer": "ipython3",
   "version": "3.8.13"
  },
  "orig_nbformat": 4
 },
 "nbformat": 4,
 "nbformat_minor": 2
}
